{
 "cells": [
  {
   "cell_type": "markdown",
   "metadata": {},
   "source": [
    "# TP 2-3 : Branch-and-borneSupapplied to a knapsack problem"
   ]
  },
  {
   "cell_type": "markdown",
   "metadata": {},
   "source": [
    "### Initialisation (à faire une seule fois)"
   ]
  },
  {
   "cell_type": "code",
   "execution_count": 1,
   "metadata": {},
   "outputs": [
    {
     "name": "stderr",
     "output_type": "stream",
     "text": [
      "\u001b[32m\u001b[1m    Updating\u001b[22m\u001b[39m registry at `~/.julia/registries/General.toml`\n",
      "\u001b[32m\u001b[1m   Resolving\u001b[22m\u001b[39m package versions...\n",
      "\u001b[32m\u001b[1m  No Changes\u001b[22m\u001b[39m to `~/.julia/environments/v1.8/Project.toml`\n",
      "\u001b[32m\u001b[1m  No Changes\u001b[22m\u001b[39m to `~/.julia/environments/v1.8/Manifest.toml`\n",
      "\u001b[32m\u001b[1m   Resolving\u001b[22m\u001b[39m package versions...\n",
      "\u001b[32m\u001b[1m  No Changes\u001b[22m\u001b[39m to `~/.julia/environments/v1.8/Project.toml`\n",
      "\u001b[32m\u001b[1m  No Changes\u001b[22m\u001b[39m to `~/.julia/environments/v1.8/Manifest.toml`\n"
     ]
    }
   ],
   "source": [
    "import Pkg; \n",
    "Pkg.add(\"GraphRecipes\"); Pkg.add(\"Plots\"); \n",
    "using GraphRecipes, Plots #only used to visualize the search tree at the end of the branch-and-borneSup"
   ]
  },
  {
   "cell_type": "markdown",
   "metadata": {},
   "source": [
    "### Récupération des données"
   ]
  },
  {
   "cell_type": "code",
   "execution_count": 5,
   "metadata": {},
   "outputs": [
    {
     "data": {
      "text/plain": [
       "readKnaptxtInstance (generic function with 1 method)"
      ]
     },
     "execution_count": 5,
     "metadata": {},
     "output_type": "execute_result"
    }
   ],
   "source": [
    "#ne change pas \n",
    "function readKnaptxtInstance(filename)\n",
    "    price=[]\n",
    "    weight=[]\n",
    "    KnapCap=[]\n",
    "    open(filename) do f\n",
    "        for i in 1:3\n",
    "            tok = split(readline(f))\n",
    "            if(tok[1] == \"ListPrices=\")\n",
    "                for i in 2:(length(tok)-1)\n",
    "                    push!(price,parse(Int64, tok[i]))\n",
    "                end\n",
    "            elseif(tok[1] == \"ListWeights=\")\n",
    "                for i in 2:(length(tok)-1)\n",
    "                    push!(weight,parse(Int64, tok[i]))\n",
    "                end\n",
    "            elseif(tok[1] == \"Capacity=\")\n",
    "                push!(KnapCap, parse(Int64, tok[2]))\n",
    "            else\n",
    "                println(\"Unknown read :\", tok)\n",
    "            end \n",
    "        end\n",
    "    end\n",
    "    capacity=KnapCap[1]\n",
    "    return price, weight, capacity\n",
    "end\n"
   ]
  },
  {
   "cell_type": "markdown",
   "metadata": {},
   "source": [
    "### Tests de sondabilités TA, TO et TR basés sur le modèle linéaire"
   ]
  },
  {
   "cell_type": "code",
   "execution_count": 6,
   "metadata": {},
   "outputs": [
    {
     "data": {
      "text/plain": [
       "TestsSondabilite_LP (generic function with 1 method)"
      ]
     },
     "execution_count": 6,
     "metadata": {},
     "output_type": "execute_result"
    }
   ],
   "source": [
    "\n",
    "# ADAPTED\n",
    "function value( var)\n",
    "    return var.value\n",
    "end\n",
    "\n",
    "\n",
    "function TestsSondabilite_LP(model2, BestProfit, Bestsol, resultat_non_trie)\n",
    "    TA, TO, TR = false, false, false\n",
    "    # on remplace avec le type enregistrement de la structure model\n",
    "    if(!model2.feasable)#Test de faisabilite\n",
    "        TA=true\n",
    "        println(\"TA\")\n",
    "    elseif(model2.borneSup<= BestProfit) #Test d'optimalite\n",
    "        TO=true\n",
    "        println(\"TO\")\n",
    "    elseif(model2.degLib==1) #Test de resolution\n",
    "        \n",
    "         for (index, var) in enumerate(model2.variables)\n",
    "                if var.free\n",
    "                    residualCapacity = model2.capacity - (mapreduce(var -> (var.free ? 0. : var.value) * model2.weights[var.index], +, model2.variables, init = 0))\n",
    "                    weight = model2.weights[var.index]\n",
    "                    var.value = weight <=  residualCapacity  ? 1.0 : 0.0\n",
    "                    break\n",
    "                end\n",
    "        end\n",
    "        TR=true\n",
    "        println(\"TR\")\n",
    "        #if (value(benef) >= BestProfit)\n",
    "        if (sum([var.value * model2.prices[var.index] for var in model2.variables]) >= BestProfit)\n",
    "            Bestsol = value.(model2.variables) # la solution best sol sera dans l'ordre décroissant des ratio \n",
    "            # il est plus intéressant pour nous d'avoir la solution dans l'ordre des index des objets\n",
    "            # d'où la création de resultat_non_trie\n",
    "            BestProfit = sum([var.value * model2.prices[var.index] for var in model2.variables])\n",
    "            resultat_non_trie= [(var.index) for (index, var) in enumerate(model2.variables) if var.value == 1.0]\n",
    "            println(\"\\nNew Solution memorized \", Bestsol, \" with bestprofit \", BestProfit, \"\\n\")\n",
    "\n",
    "        end\n",
    "    else\n",
    "        println(\"non sondable\")\n",
    "    end\n",
    "    TA, TO, TR, Bestsol, BestProfit, resultat_non_trie\n",
    "end\n",
    "\n",
    "\n",
    "    "
   ]
  },
  {
   "cell_type": "markdown",
   "metadata": {},
   "source": [
    "## Procédure de séparation (branching) et stratégie d'exploration permettant de se placer au prochain noeud à traiter"
   ]
  },
  {
   "cell_type": "code",
   "execution_count": 7,
   "metadata": {},
   "outputs": [
    {
     "data": {
      "text/plain": [
       "ExplorerAutreNoeud (generic function with 1 method)"
      ]
     },
     "execution_count": 7,
     "metadata": {},
     "output_type": "execute_result"
    }
   ],
   "source": [
    "function SeparerNoeud(model2, listobjs, listvals)\n",
    "   # si le noeud n'est pas sondable on le sépare en deux noeuds\n",
    "   # On prend la variable qui a le plus grand ratio prix/poids donc le premier libre de la liste des variables\n",
    "# on va à gauche       \n",
    "# on la fixe à 1 et on la met dans la liste des variables\n",
    "    local variable_a_stocker     \n",
    "        for (i, var) in enumerate(model2.variables)\n",
    "            # on prend la première variable disponible, comme elles sont triées par ratio décroissant,\n",
    "            if var.free\n",
    "                var = model2.variables[i]\n",
    "                var.free = false\n",
    "                var.value = 1.0\n",
    "                model2.degLib-= 1 # on diminue le nombre de degrés de liberté\n",
    "                variable_a_stocker  = var\n",
    "                variable_a_stocker  = var\n",
    "                # on sort de la boucle quand on a trouvé la première variable disponible\n",
    "                break\n",
    "            end\n",
    "        end\n",
    "    \n",
    "\n",
    "    push!(listobjs, variable_a_stocker ) #save the identity of the object selected for branching\n",
    "    push!(listvals, 1.0) #save the node selected, identified by the value assigned to the variable/object chosen\n",
    "\n",
    "    listobjs, listvals\n",
    "end\n",
    "\n",
    "\n",
    "function ExplorerAutreNoeud(model2, listobjs, listvals, listnodes)\n",
    "    #this node is sondable, go back to parent node then right child if possible\n",
    "    \n",
    "    stop=false\n",
    "    #check if we are not at the root node\n",
    "    if (length(listobjs)>= 1)\n",
    "        #go back to parent node\n",
    "        obj=pop!(listobjs)\n",
    "        theval=pop!(listvals)\n",
    "        tmp=pop!(listnodes)\n",
    "        obj.free = true\n",
    "        model2.degLib+= 1\n",
    "\n",
    "        #go to right child if possible, otherwise go back to parent\n",
    "        while( (theval==0.0) && (length(listobjs)>= 1))\n",
    "            obj=pop!(listobjs)\n",
    "            theval=pop!(listvals)\n",
    "            tmp=pop!(listnodes)\n",
    "            # on libère la variable\n",
    "            obj.free = true\n",
    "            model2.degLib+= 1\n",
    "        end\n",
    "        # if theval==1.0, we are at the root node, so we stop\n",
    "        if theval==1.0\n",
    "            #the root node was sondable\n",
    "            obj.free = false\n",
    "            obj.value = 0.0\n",
    "            model2.degLib-= 1\n",
    "            push!(listobjs,obj)\n",
    "            push!(listvals,0.0)\n",
    "        else\n",
    "            println(\"\\nFINISHED\")\n",
    "            stop=true\n",
    "        end\n",
    "    else\n",
    "        #the root node was sondable\n",
    "        println(\"\\nFINISHED\")\n",
    "        stop=true\n",
    "    end\n",
    "    listobjs, listvals, listnodes, stop \n",
    "end"
   ]
  },
  {
   "cell_type": "markdown",
   "metadata": {},
   "source": [
    "###  Création de la relaxation linéaire (= modèle associé au noeud 0): <span style=\"color:red\"> SECTION A SUPPRIMER !!!! </span>\n",
    "\n",
    "<span style=\"color:red\"> Cette section est à commenter/supprimer et remplacer par vos propres calculs de bornes supérieures et autres, par exemple basées sur les bornes 1 et 2 vues en cours, ou d'autres calculs de bornes de votre choix/conception validés au préalable par votre encadrant/e de TP </span>"
   ]
  },
  {
   "cell_type": "code",
   "execution_count": 8,
   "metadata": {},
   "outputs": [
    {
     "data": {
      "text/plain": [
       "borne2 (generic function with 1 method)"
      ]
     },
     "execution_count": 8,
     "metadata": {},
     "output_type": "execute_result"
    }
   ],
   "source": [
    "# implémentation pourl le tp2 \n",
    "\n",
    "# une variable est définie ainsi:\n",
    "mutable struct varDecision\n",
    "    value::Float64  #valeur de la variable\n",
    "    index::Int64    #indice de la variable\n",
    "    free::Bool     #indique si la variable est libre ou non\n",
    "   \n",
    "end\n",
    "\n",
    "\n",
    "\n",
    "\n",
    "#Def du modèle\n",
    "mutable struct myModel\n",
    "    unsortedVariables::Array{varDecision,1}\n",
    "    variables::Array{varDecision,1} #liste des variables dans l'ordre décroissant de leur ratio prix/poids\n",
    "    degLib::Int64 \n",
    "    prices::Array{Int64,1} #liste des prix\n",
    "    weights::Array{Int64,1} #liste des poids\n",
    "    capacity::Int64      #capacité du sac\n",
    "    feasable::Bool #indique si le noeud est faisable ou non\n",
    "    borneSup::Float64 #borne supérieure du noeud\n",
    "end\n",
    "\n",
    "   \n",
    "    \n",
    "#calcul la borne supérieure selon la méthode de la borne 1\n",
    "function relaxationlineaire(model)\n",
    "    #on s'assure que la capacité est suffisante pour contenir tous les objets\n",
    "    verif=((model.capacity-(mapreduce(var -> (var.free ? 0. : var.value) * model.weights[var.index], +, model.variables, init = 0))>=10^(-5)))\n",
    "    residualCapacity = model.capacity - (mapreduce(var -> (var.free ? 0. : var.value) * model.weights[var.index], +, model.variables, init = 0))\n",
    "    borneSup=-Inf #borne inférieure fixée à -Inf par convention\n",
    "    if verif \n",
    "        # borneSupvaut le profit à cet instant \n",
    "        # vaut la borne inférieure \n",
    "        borneSup=mapreduce(var -> (var.free ? 0. : var.value) * model.prices[var.index], +, model.variables, init = 0)\n",
    "        # on calcule la borne supérieure\n",
    "        for var in model.variables\n",
    "            if var.free\n",
    "                borneSup+= residualCapacity * (model.prices[var.index] / model.weights[var.index])\n",
    "                break\n",
    "            end\n",
    "        end\n",
    "    end\n",
    "    print(\"BS = \")\n",
    "    println(borneSup)\n",
    "    model.feasable=verif \n",
    "    model.borneSup=borneSup# on met à jour la borne supérieure du noeud\n",
    "end\n",
    "\n",
    "\n",
    "\n",
    "function borne2(model)\n",
    "    #on s'assure que la capacité est suffisante pour contenir tous les objets\n",
    "    verif=((model.capacity-(mapreduce(var -> (var.free ? 0. : var.value) * model.weights[var.index], +, model.variables, init = 0))>=10^(-5)))\n",
    "    residualCapacity = model.capacity - (mapreduce(var -> (var.free ? 0. : var.value) * model.weights[var.index], +, model.variables, init = 0))\n",
    "    borneSup=-Inf #borne inférieure fixée à -Inf par convention\n",
    "    if verif \n",
    "        # borneSupvaut le profit à cet instant \n",
    "        # vaut la borne inférieure \n",
    "        borneSup=mapreduce(var -> (var.free ? 0. : var.value) * model.prices[var.index], +, model.variables, init = 0)\n",
    "        # on calcule la borne supérieure\n",
    "        for var in model.variables\n",
    "                if var.free\n",
    "                    if residualCapacity < model.weights[var.index]\n",
    "                        borneSup+= residualCapacity * model.prices[var.index] / model.weights[var.index]\n",
    "                        break\n",
    "                    else\n",
    "                        borneSup+= model.prices[var.index] \n",
    "                        residualCapacity = residualCapacity - model.weights[var.index]\n",
    "                end\n",
    "            end\n",
    "        end\n",
    "    end\n",
    "    print(\"BS = \")\n",
    "    println(borneSup)\n",
    "    model.feasable=verif \n",
    "    model.borneSup=borneSup# on met à jour la borne supérieure du noeud\n",
    "end\n",
    "\n",
    "\n",
    "\n"
   ]
  },
  {
   "cell_type": "code",
   "execution_count": 11,
   "metadata": {},
   "outputs": [
    {
     "data": {
      "text/plain": [
       "CreationModele_LP (generic function with 1 method)"
      ]
     },
     "execution_count": 11,
     "metadata": {},
     "output_type": "execute_result"
    }
   ],
   "source": [
    "\n",
    "\n",
    "# ADAPTED\n",
    "function CreationModele_LP(price, weight, capacity)\n",
    "    # ROOT NODE\n",
    "        \n",
    "        perm = sortperm(price ./ weight, rev = true)\n",
    "        N = length(price)\n",
    "        vars = Array{varDecision, 1}(undef, N)\n",
    "        for i = 1:N\n",
    "            vars[i] = varDecision(0.0, i, true)\n",
    "        end\n",
    "        model2 = myModel(vars, view(vars, perm), N, price, weight, capacity, false, -Inf)\n",
    "        \n",
    "        return model2\n",
    "    end"
   ]
  },
  {
   "cell_type": "markdown",
   "metadata": {},
   "source": []
  },
  {
   "cell_type": "markdown",
   "metadata": {},
   "source": [
    "### Boucle principale : résoudre une relaxation, appliquer les tests de sondabilité, identifier le prochain noeud, répéter."
   ]
  },
  {
   "cell_type": "code",
   "execution_count": 18,
   "metadata": {},
   "outputs": [
    {
     "data": {
      "text/plain": [
       "SolveKnapInstance (generic function with 1 method)"
      ]
     },
     "execution_count": 18,
     "metadata": {},
     "output_type": "execute_result"
    }
   ],
   "source": [
    "function SolveKnapInstance(filename,borne)\n",
    "\n",
    "    price, weight, capacity = readKnaptxtInstance(filename)\n",
    "#on enlève le x \n",
    "    model2= CreationModele_LP(price, weight, capacity)\n",
    "\n",
    "    #create the structure to memorize the search tree for visualization at the end\n",
    "    trParentnodes=Int64[] #will store orig node of arc in search tree\n",
    "    trChildnodes=Int64[] #will store destination node of arc in search tree\n",
    "    trNamenodes=[] #will store names of nodes in search tree\n",
    "\n",
    "    #intermediate structure to navigate in the search tree\n",
    "      #intermediate structure to navigate in the search tree\n",
    "      listobjs=[]\n",
    "      listvals=[]\n",
    "      listnodes=[]\n",
    "\n",
    "    BestProfit=-1\n",
    "    #cette variable contient les objets  que le sac va contenir dans la solution optimale\n",
    "    resultat_non_trie=[]\n",
    "    Bestsol=[]\n",
    "\n",
    "    current_node_number=0\n",
    "    stop = false\n",
    "\n",
    "    while(!stop)\n",
    "\n",
    "        println(\"\\nNode number \", current_node_number, \": \\n---------------\\n\")\n",
    "\n",
    "        #Update the graphical tree\n",
    "        push!(trNamenodes,current_node_number+1) \n",
    "        if(length(trNamenodes)>=2)\n",
    "            push!(trParentnodes,listnodes[end]+1) # +1 because the 1st node is \"node 0\"\n",
    "            push!(trChildnodes, current_node_number+1) # +1 because the 1st node is \"node 0\"\n",
    "        end\n",
    "        push!(listnodes, current_node_number)\n",
    "        # on calcul la borne supérieure\n",
    "        if borne == 1\n",
    "            relaxationlineaire(model2)\n",
    "        elseif borne == 2\n",
    "            borne2(model2)\n",
    "        else\n",
    "             error(\"Borne doit être 1 ou 2.\")\n",
    "\n",
    "        end      \n",
    "        # on regarde si le noeud est sondable\n",
    "        TA, TO, TR, Bestsol, BestProfit,resultat_non_trie  = TestsSondabilite_LP(model2, BestProfit, Bestsol , resultat_non_trie)\n",
    "        \n",
    "        is_node_sondable = TA || TO || TR\n",
    "\n",
    "        #Reset_LP!(model2, x, listobjs)\n",
    "\n",
    "        if(!is_node_sondable)\n",
    "            # le noeud n'est pas sondable, on va créer deux fils\n",
    "                listobjs, listvals = SeparerNoeud(model2, listobjs, listvals)\n",
    "        else\n",
    "            # le noeud est sondable,  on explore son frère \n",
    "                listobjs, listvals, listnodes, stop = ExplorerAutreNoeud(model2, listobjs, listvals, listnodes)\n",
    "        end\n",
    "\n",
    "        \n",
    "\n",
    "        current_node_number = current_node_number + 1\n",
    "    end\n",
    "    println(\"\\n******\\n\\nOptimal value = \", BestProfit, \"\\n\\nOptimal x=\", Bestsol)\n",
    "    \n",
    "\n",
    "    return BestProfit, Bestsol, trParentnodes, trChildnodes, trNamenodes, resultat_non_trie\n",
    "\n",
    "end"
   ]
  },
  {
   "cell_type": "markdown",
   "metadata": {},
   "source": [
    "### Affichage du résultat final"
   ]
  },
  {
   "cell_type": "code",
   "execution_count": 19,
   "metadata": {},
   "outputs": [
    {
     "name": "stdout",
     "output_type": "stream",
     "text": [
      "\n",
      "Node number 0: \n",
      "---------------\n",
      "\n",
      "BS = 100.0\n",
      "non sondable\n",
      "\n",
      "Node number 1: \n",
      "---------------\n",
      "\n",
      "BS = 76.0\n",
      "non sondable\n",
      "\n",
      "Node number 2: \n",
      "---------------\n",
      "\n",
      "BS = -Inf\n",
      "TA\n",
      "\n",
      "Node number 3: \n",
      "---------------\n",
      "\n",
      "BS = 70.0\n",
      "non sondable\n",
      "\n",
      "Node number 4: \n",
      "---------------\n",
      "\n",
      "BS = 69.0\n",
      "TR\n",
      "\n",
      "New Solution memorized [1.0, 0.0, 1.0, 0.0] with bestprofit 65.0\n",
      "\n",
      "\n",
      "Node number 5: \n",
      "---------------\n",
      "\n",
      "BS = 64.0\n",
      "TO\n",
      "\n",
      "Node number 6: \n",
      "---------------\n",
      "\n",
      "BS = 60.0\n",
      "TO\n",
      "\n",
      "FINISHED\n",
      "\n",
      "******\n",
      "\n",
      "Optimal value = 65.0\n",
      "\n",
      "Optimal x=[1.0, 0.0, 1.0, 0.0]\n",
      "\n",
      "******\n",
      "\n",
      "Optimal value = 65.0\n",
      "\n",
      "Optimal(dans l'ordre croissant des ratio) x=[1.0, 0.0, 1.0, 0.0]\n",
      "résultat optimal dans l'odre des indices des objets [2, 4]\n"
     ]
    },
    {
     "data": {
      "image/svg+xml": [
       "<?xml version=\"1.0\" encoding=\"utf-8\"?>\n",
       "<svg xmlns=\"http://www.w3.org/2000/svg\" xmlns:xlink=\"http://www.w3.org/1999/xlink\" width=\"600\" height=\"400\" viewBox=\"0 0 2400 1600\">\n",
       "<defs>\n",
       "  <clipPath id=\"clip420\">\n",
       "    <rect x=\"0\" y=\"0\" width=\"2400\" height=\"1600\"/>\n",
       "  </clipPath>\n",
       "</defs>\n",
       "<path clip-path=\"url(#clip420)\" d=\"\n",
       "M0 1600 L2400 1600 L2400 0 L0 0  Z\n",
       "  \" fill=\"#ffffff\" fill-rule=\"evenodd\" fill-opacity=\"1\"/>\n",
       "<defs>\n",
       "  <clipPath id=\"clip421\">\n",
       "    <rect x=\"480\" y=\"0\" width=\"1681\" height=\"1600\"/>\n",
       "  </clipPath>\n",
       "</defs>\n",
       "<path clip-path=\"url(#clip420)\" d=\"\n",
       "M447.244 1552.76 L1952.76 1552.76 L1952.76 47.2441 L447.244 47.2441  Z\n",
       "  \" fill=\"#ffffff\" fill-rule=\"evenodd\" fill-opacity=\"1\"/>\n",
       "<defs>\n",
       "  <clipPath id=\"clip422\">\n",
       "    <rect x=\"447\" y=\"47\" width=\"1507\" height=\"1507\"/>\n",
       "  </clipPath>\n",
       "</defs>\n",
       "<polyline clip-path=\"url(#clip422)\" style=\"stroke:#000000; stroke-linecap:round; stroke-linejoin:round; stroke-width:4; stroke-opacity:1; fill:none\" points=\"\n",
       "  1404.81,262.317 1404.02,276.158 1401.73,289.887 1398.04,303.512 1393.06,317.041 1386.91,330.483 1379.71,343.847 1371.55,357.14 1362.56,370.37 1352.84,383.547 \n",
       "  1342.51,396.678 1331.68,409.772 1320.46,422.836 1308.96,435.88 1297.29,448.912 1285.56,461.939 1273.89,474.97 1262.39,488.014 1251.17,501.079 1240.33,514.173 \n",
       "  1230,527.304 1220.29,540.48 1211.29,553.711 1203.14,567.004 1195.93,580.367 1189.79,593.81 1184.81,607.339 1181.12,620.964 1178.82,634.693 1178.03,648.534 \n",
       "  \n",
       "  \"/>\n",
       "<polyline clip-path=\"url(#clip422)\" style=\"stroke:#000000; stroke-linecap:round; stroke-linejoin:round; stroke-width:4; stroke-opacity:1; fill:none\" points=\"\n",
       "  1178.03,648.534 1178.98,659.593 1181.73,670.09 1186.16,680.069 1192.12,689.569 1199.49,698.633 1208.13,707.301 1217.91,715.617 1228.69,723.621 1240.34,731.354 \n",
       "  1252.72,738.859 1265.71,746.177 1279.17,753.35 1292.96,760.418 1306.95,767.425 1321,774.41 1335,781.416 1348.79,788.485 1362.24,795.657 1375.23,802.975 \n",
       "  1387.61,810.48 1399.26,818.214 1410.04,826.218 1419.82,834.533 1428.46,843.202 1435.83,852.266 1441.79,861.766 1446.22,871.744 1448.97,882.242 1449.92,893.301 \n",
       "  \n",
       "  \"/>\n",
       "<polyline clip-path=\"url(#clip422)\" style=\"stroke:#000000; stroke-linecap:round; stroke-linejoin:round; stroke-width:4; stroke-opacity:1; fill:none\" points=\"\n",
       "  1178.03,648.534 1177.06,660.073 1174.25,671.063 1169.72,681.545 1163.61,691.559 1156.07,701.147 1147.23,710.349 1137.22,719.204 1126.18,727.755 1114.26,736.042 \n",
       "  1101.58,744.105 1088.29,751.985 1074.52,759.723 1060.4,767.36 1046.08,774.935 1031.69,782.49 1017.37,790.065 1003.26,797.701 989.486,805.439 976.193,813.319 \n",
       "  963.516,821.382 951.592,829.669 940.558,838.22 930.551,847.076 921.708,856.277 914.165,865.865 908.061,875.88 903.531,886.362 900.712,897.352 899.743,908.891 \n",
       "  \n",
       "  \"/>\n",
       "<polyline clip-path=\"url(#clip422)\" style=\"stroke:#000000; stroke-linecap:round; stroke-linejoin:round; stroke-width:4; stroke-opacity:1; fill:none\" points=\"\n",
       "  899.743,908.891 898.915,922.13 896.511,935.179 892.646,948.053 887.438,960.765 881.003,973.33 873.458,985.761 864.921,998.073 855.507,1010.28 845.334,1022.39 \n",
       "  834.518,1034.43 823.177,1046.41 811.427,1058.33 799.385,1070.22 787.168,1082.09 774.892,1093.95 762.675,1105.82 750.633,1117.71 738.882,1129.64 727.541,1141.61 \n",
       "  716.726,1153.65 706.553,1165.77 697.139,1177.97 688.602,1190.29 681.057,1202.72 674.622,1215.28 669.414,1227.99 665.549,1240.87 663.145,1253.92 662.317,1267.16 \n",
       "  \n",
       "  \"/>\n",
       "<polyline clip-path=\"url(#clip422)\" style=\"stroke:#000000; stroke-linecap:round; stroke-linejoin:round; stroke-width:4; stroke-opacity:1; fill:none\" points=\"\n",
       "  899.743,908.891 900.186,922.863 901.473,937.009 903.543,951.316 906.332,965.773 909.778,980.365 913.818,995.079 918.39,1009.9 923.431,1024.83 928.878,1039.83 \n",
       "  934.67,1054.91 940.743,1070.04 947.035,1085.22 953.484,1100.44 960.026,1115.67 966.6,1130.91 973.142,1146.14 979.591,1161.35 985.883,1176.53 991.956,1191.67 \n",
       "  997.748,1206.74 1003.2,1221.75 1008.24,1236.67 1012.81,1251.49 1016.85,1266.21 1020.29,1280.8 1023.08,1295.26 1025.15,1309.57 1026.44,1323.71 1026.88,1337.68 \n",
       "  \n",
       "  \"/>\n",
       "<polyline clip-path=\"url(#clip422)\" style=\"stroke:#000000; stroke-linecap:round; stroke-linejoin:round; stroke-width:4; stroke-opacity:1; fill:none\" points=\"\n",
       "  1404.81,262.317 1405.97,276.568 1409.35,290.212 1414.76,303.294 1422.07,315.857 1431.09,327.949 1441.66,339.612 1453.63,350.894 1466.83,361.837 1481.09,372.489 \n",
       "  1496.26,382.892 1512.16,393.094 1528.63,403.137 1545.51,413.069 1562.64,422.932 1579.85,432.774 1596.98,442.637 1613.87,452.569 1630.34,462.612 1646.24,472.814 \n",
       "  1661.4,483.217 1675.66,493.869 1688.86,504.812 1700.83,516.094 1711.41,527.757 1720.43,539.849 1727.73,552.412 1733.15,565.494 1736.52,579.137 1737.68,593.389 \n",
       "  \n",
       "  \"/>\n",
       "<path clip-path=\"url(#clip422)\" d=\"\n",
       "M1426.75 262.317 L1415.78 243.319 L1393.85 243.319 L1382.88 262.317 L1393.85 281.316 L1415.78 281.316 L1426.75 262.317 L1426.75 262.317  Z\n",
       "  \" fill=\"#009af9\" fill-rule=\"evenodd\" fill-opacity=\"1\"/>\n",
       "<polyline clip-path=\"url(#clip422)\" style=\"stroke:#000000; stroke-linecap:round; stroke-linejoin:round; stroke-width:4; stroke-opacity:1; fill:none\" points=\"\n",
       "  1426.75,262.317 1415.78,243.319 1393.85,243.319 1382.88,262.317 1393.85,281.316 1415.78,281.316 1426.75,262.317 \n",
       "  \"/>\n",
       "<path clip-path=\"url(#clip422)\" d=\"\n",
       "M1199.97 648.534 L1189 629.535 L1167.07 629.535 L1156.1 648.534 L1167.07 667.532 L1189 667.532 L1199.97 648.534 L1199.97 648.534  Z\n",
       "  \" fill=\"#009af9\" fill-rule=\"evenodd\" fill-opacity=\"1\"/>\n",
       "<polyline clip-path=\"url(#clip422)\" style=\"stroke:#000000; stroke-linecap:round; stroke-linejoin:round; stroke-width:4; stroke-opacity:1; fill:none\" points=\"\n",
       "  1199.97,648.534 1189,629.535 1167.07,629.535 1156.1,648.534 1167.07,667.532 1189,667.532 1199.97,648.534 \n",
       "  \"/>\n",
       "<path clip-path=\"url(#clip422)\" d=\"\n",
       "M1471.86 893.301 L1460.89 874.303 L1438.95 874.303 L1427.98 893.301 L1438.95 912.299 L1460.89 912.299 L1471.86 893.301 L1471.86 893.301  Z\n",
       "  \" fill=\"#009af9\" fill-rule=\"evenodd\" fill-opacity=\"1\"/>\n",
       "<polyline clip-path=\"url(#clip422)\" style=\"stroke:#000000; stroke-linecap:round; stroke-linejoin:round; stroke-width:4; stroke-opacity:1; fill:none\" points=\"\n",
       "  1471.86,893.301 1460.89,874.303 1438.95,874.303 1427.98,893.301 1438.95,912.299 1460.89,912.299 1471.86,893.301 \n",
       "  \"/>\n",
       "<path clip-path=\"url(#clip422)\" d=\"\n",
       "M921.68 908.891 L910.711 889.893 L888.774 889.893 L877.805 908.891 L888.774 927.889 L910.711 927.889 L921.68 908.891 L921.68 908.891  Z\n",
       "  \" fill=\"#009af9\" fill-rule=\"evenodd\" fill-opacity=\"1\"/>\n",
       "<polyline clip-path=\"url(#clip422)\" style=\"stroke:#000000; stroke-linecap:round; stroke-linejoin:round; stroke-width:4; stroke-opacity:1; fill:none\" points=\"\n",
       "  921.68,908.891 910.711,889.893 888.774,889.893 877.805,908.891 888.774,927.889 910.711,927.889 921.68,908.891 \n",
       "  \"/>\n",
       "<path clip-path=\"url(#clip422)\" d=\"\n",
       "M684.255 1267.16 L673.286 1248.16 L651.348 1248.16 L640.38 1267.16 L651.348 1286.15 L673.286 1286.15 L684.255 1267.16 L684.255 1267.16  Z\n",
       "  \" fill=\"#009af9\" fill-rule=\"evenodd\" fill-opacity=\"1\"/>\n",
       "<polyline clip-path=\"url(#clip422)\" style=\"stroke:#000000; stroke-linecap:round; stroke-linejoin:round; stroke-width:4; stroke-opacity:1; fill:none\" points=\"\n",
       "  684.255,1267.16 673.286,1248.16 651.348,1248.16 640.38,1267.16 651.348,1286.15 673.286,1286.15 684.255,1267.16 \n",
       "  \"/>\n",
       "<path clip-path=\"url(#clip422)\" d=\"\n",
       "M1048.82 1337.68 L1037.85 1318.68 L1015.92 1318.68 L1004.95 1337.68 L1015.92 1356.68 L1037.85 1356.68 L1048.82 1337.68 L1048.82 1337.68  Z\n",
       "  \" fill=\"#009af9\" fill-rule=\"evenodd\" fill-opacity=\"1\"/>\n",
       "<polyline clip-path=\"url(#clip422)\" style=\"stroke:#000000; stroke-linecap:round; stroke-linejoin:round; stroke-width:4; stroke-opacity:1; fill:none\" points=\"\n",
       "  1048.82,1337.68 1037.85,1318.68 1015.92,1318.68 1004.95,1337.68 1015.92,1356.68 1037.85,1356.68 1048.82,1337.68 \n",
       "  \"/>\n",
       "<path clip-path=\"url(#clip422)\" d=\"\n",
       "M1759.62 593.389 L1748.65 574.39 L1726.71 574.39 L1715.75 593.389 L1726.71 612.387 L1748.65 612.387 L1759.62 593.389 L1759.62 593.389  Z\n",
       "  \" fill=\"#009af9\" fill-rule=\"evenodd\" fill-opacity=\"1\"/>\n",
       "<polyline clip-path=\"url(#clip422)\" style=\"stroke:#000000; stroke-linecap:round; stroke-linejoin:round; stroke-width:4; stroke-opacity:1; fill:none\" points=\"\n",
       "  1759.62,593.389 1748.65,574.39 1726.71,574.39 1715.75,593.389 1726.71,612.387 1748.65,612.387 1759.62,593.389 \n",
       "  \"/>\n",
       "<path clip-path=\"url(#clip422)\" d=\"M1404.81 262.717 L1404.47 262.517 L1404.47 262.117 L1404.81 261.917 L1405.16 262.117 L1405.16 262.517 Z\" fill=\"#009af9\" fill-rule=\"evenodd\" fill-opacity=\"1\" stroke=\"#000000\" stroke-opacity=\"1\" stroke-width=\"3.2\"/>\n",
       "<path clip-path=\"url(#clip422)\" d=\"M1178.03 648.934 L1177.69 648.734 L1177.69 648.334 L1178.03 648.134 L1178.38 648.334 L1178.38 648.734 Z\" fill=\"#009af9\" fill-rule=\"evenodd\" fill-opacity=\"1\" stroke=\"#000000\" stroke-opacity=\"1\" stroke-width=\"3.2\"/>\n",
       "<path clip-path=\"url(#clip422)\" d=\"M1449.92 893.701 L1449.57 893.501 L1449.57 893.101 L1449.92 892.901 L1450.26 893.101 L1450.26 893.501 Z\" fill=\"#009af9\" fill-rule=\"evenodd\" fill-opacity=\"1\" stroke=\"#000000\" stroke-opacity=\"1\" stroke-width=\"3.2\"/>\n",
       "<path clip-path=\"url(#clip422)\" d=\"M899.743 909.291 L899.396 909.091 L899.396 908.691 L899.743 908.491 L900.089 908.691 L900.089 909.091 Z\" fill=\"#009af9\" fill-rule=\"evenodd\" fill-opacity=\"1\" stroke=\"#000000\" stroke-opacity=\"1\" stroke-width=\"3.2\"/>\n",
       "<path clip-path=\"url(#clip422)\" d=\"M662.317 1267.56 L661.971 1267.36 L661.971 1266.96 L662.317 1266.76 L662.664 1266.96 L662.664 1267.36 Z\" fill=\"#009af9\" fill-rule=\"evenodd\" fill-opacity=\"1\" stroke=\"#000000\" stroke-opacity=\"1\" stroke-width=\"3.2\"/>\n",
       "<path clip-path=\"url(#clip422)\" d=\"M1026.88 1338.08 L1026.54 1337.88 L1026.54 1337.48 L1026.88 1337.28 L1027.23 1337.48 L1027.23 1337.88 Z\" fill=\"#009af9\" fill-rule=\"evenodd\" fill-opacity=\"1\" stroke=\"#000000\" stroke-opacity=\"1\" stroke-width=\"3.2\"/>\n",
       "<path clip-path=\"url(#clip422)\" d=\"M1737.68 593.789 L1737.34 593.589 L1737.34 593.189 L1737.68 592.989 L1738.03 593.189 L1738.03 593.589 Z\" fill=\"#009af9\" fill-rule=\"evenodd\" fill-opacity=\"1\" stroke=\"#000000\" stroke-opacity=\"1\" stroke-width=\"3.2\"/>\n",
       "<path clip-path=\"url(#clip420)\" d=\"M1396.4 273.994 L1403.08 273.994 L1403.08 250.924 L1395.81 252.382 L1395.81 248.656 L1403.04 247.197 L1407.13 247.197 L1407.13 273.994 L1413.82 273.994 L1413.82 277.437 L1396.4 277.437 L1396.4 273.994 Z\" fill=\"#000000\" fill-rule=\"evenodd\" fill-opacity=\"1\" /><path clip-path=\"url(#clip420)\" d=\"M1173.36 660.21 L1187.63 660.21 L1187.63 663.654 L1168.43 663.654 L1168.43 660.21 Q1170.76 657.8 1174.77 653.749 Q1178.8 649.678 1179.84 648.503 Q1181.8 646.296 1182.57 644.776 Q1183.36 643.237 1183.36 641.758 Q1183.36 639.348 1181.66 637.829 Q1179.98 636.31 1177.26 636.31 Q1175.34 636.31 1173.19 636.978 Q1171.07 637.647 1168.64 639.004 L1168.64 634.872 Q1171.11 633.879 1173.25 633.373 Q1175.4 632.867 1177.18 632.867 Q1181.88 632.867 1184.68 635.216 Q1187.47 637.566 1187.47 641.495 Q1187.47 643.359 1186.76 645.04 Q1186.07 646.701 1184.23 648.969 Q1183.73 649.556 1181.01 652.372 Q1178.3 655.167 1173.36 660.21 Z\" fill=\"#000000\" fill-rule=\"evenodd\" fill-opacity=\"1\" /><path clip-path=\"url(#clip420)\" d=\"M1453.64 892.116 Q1456.57 892.744 1458.21 894.729 Q1459.87 896.714 1459.87 899.631 Q1459.87 904.107 1456.79 906.558 Q1453.72 909.008 1448.04 909.008 Q1446.14 909.008 1444.12 908.624 Q1442.11 908.259 1439.96 907.51 L1439.96 903.56 Q1441.66 904.552 1443.69 905.059 Q1445.72 905.565 1447.92 905.565 Q1451.77 905.565 1453.78 904.046 Q1455.8 902.527 1455.8 899.631 Q1455.8 896.957 1453.92 895.458 Q1452.06 893.939 1448.71 893.939 L1445.19 893.939 L1445.19 890.577 L1448.88 890.577 Q1451.89 890.577 1453.49 889.382 Q1455.09 888.167 1455.09 885.898 Q1455.09 883.569 1453.43 882.333 Q1451.79 881.077 1448.71 881.077 Q1447.03 881.077 1445.11 881.442 Q1443.18 881.807 1440.87 882.576 L1440.87 878.93 Q1443.2 878.282 1445.23 877.958 Q1447.28 877.634 1449.08 877.634 Q1453.74 877.634 1456.45 879.761 Q1459.16 881.867 1459.16 885.473 Q1459.16 887.984 1457.73 889.726 Q1456.29 891.448 1453.64 892.116 Z\" fill=\"#000000\" fill-rule=\"evenodd\" fill-opacity=\"1\" /><path clip-path=\"url(#clip420)\" d=\"M902.376 897.336 L892.046 913.479 L902.376 913.479 L902.376 897.336 M901.302 893.771 L906.447 893.771 L906.447 913.479 L910.761 913.479 L910.761 916.881 L906.447 916.881 L906.447 924.011 L902.376 924.011 L902.376 916.881 L888.724 916.881 L888.724 912.932 L901.302 893.771 Z\" fill=\"#000000\" fill-rule=\"evenodd\" fill-opacity=\"1\" /><path clip-path=\"url(#clip420)\" d=\"M653.81 1252.04 L669.872 1252.04 L669.872 1255.48 L657.557 1255.48 L657.557 1262.89 Q658.449 1262.59 659.34 1262.45 Q660.231 1262.28 661.122 1262.28 Q666.186 1262.28 669.143 1265.06 Q672.1 1267.83 672.1 1272.57 Q672.1 1277.45 669.062 1280.17 Q666.024 1282.86 660.494 1282.86 Q658.59 1282.86 656.605 1282.54 Q654.641 1282.21 652.534 1281.57 L652.534 1277.45 Q654.357 1278.45 656.302 1278.93 Q658.246 1279.42 660.413 1279.42 Q663.917 1279.42 665.963 1277.58 Q668.009 1275.73 668.009 1272.57 Q668.009 1269.41 665.963 1267.57 Q663.917 1265.73 660.413 1265.73 Q658.773 1265.73 657.132 1266.09 Q655.512 1266.46 653.81 1267.23 L653.81 1252.04 Z\" fill=\"#000000\" fill-rule=\"evenodd\" fill-opacity=\"1\" /><path clip-path=\"url(#clip420)\" d=\"M1027.24 1336.05 Q1024.48 1336.05 1022.86 1337.94 Q1021.26 1339.82 1021.26 1343.1 Q1021.26 1346.36 1022.86 1348.27 Q1024.48 1350.15 1027.24 1350.15 Q1029.99 1350.15 1031.59 1348.27 Q1033.21 1346.36 1033.21 1343.1 Q1033.21 1339.82 1031.59 1337.94 Q1029.99 1336.05 1027.24 1336.05 M1035.36 1323.23 L1035.36 1326.96 Q1033.82 1326.23 1032.24 1325.84 Q1030.68 1325.46 1029.14 1325.46 Q1025.09 1325.46 1022.94 1328.19 Q1020.82 1330.93 1020.51 1336.46 Q1021.71 1334.7 1023.51 1333.76 Q1025.31 1332.81 1027.48 1332.81 Q1032.04 1332.81 1034.67 1335.59 Q1037.33 1338.34 1037.33 1343.1 Q1037.33 1347.76 1034.57 1350.57 Q1031.82 1353.39 1027.24 1353.39 Q1021.99 1353.39 1019.22 1349.38 Q1016.44 1345.35 1016.44 1337.71 Q1016.44 1330.54 1019.85 1326.29 Q1023.25 1322.02 1028.98 1322.02 Q1030.52 1322.02 1032.08 1322.32 Q1033.66 1322.62 1035.36 1323.23 Z\" fill=\"#000000\" fill-rule=\"evenodd\" fill-opacity=\"1\" /><path clip-path=\"url(#clip420)\" d=\"M1727.96 578.269 L1747.4 578.269 L1747.4 580.01 L1736.43 608.509 L1732.15 608.509 L1742.48 581.712 L1727.96 581.712 L1727.96 578.269 Z\" fill=\"#000000\" fill-rule=\"evenodd\" fill-opacity=\"1\" /></svg>\n"
      ]
     },
     "execution_count": 19,
     "metadata": {},
     "output_type": "execute_result"
    }
   ],
   "source": [
    "BestProfit, Bestsol, trParentnodes, trChildnodes, trNamenodes, resultat_non_trie = SolveKnapInstance(\"instancesETU/KNAPnewformat/test.opb.txt\",1)\n",
    "\n",
    "println(\"\\n******\\n\\nOptimal value = \", BestProfit, \"\\n\\nOptimal(dans l'ordre croissant des ratio) x=\", Bestsol)\n",
    "println( \"résultat optimal dans l'odre des indices des objets \", resultat_non_trie)\n",
    "\n",
    "graphplot(trParentnodes, trChildnodes, names=trNamenodes, method=:tree)"
   ]
  },
  {
   "cell_type": "markdown",
   "metadata": {},
   "source": [
    "## Réponses\n",
    "\n",
    "1. La règle de sépartion est $x_i = 1$ ou $x_i = 0$. \n",
    "\n",
    "2. Pour calculer la borne supérieur le programme résout la relaxation linéaire du problème linéaire en nombres entiers.\n",
    "\n",
    "3. TA est le test d'admission, TA devient vrai si la capacité résiduelle est négative.\n",
    "TO est le test d'optimalité, TO devient vrai si la borne supérieure d'un noeud est plus petite que la meilleure solution connue à cet instant.\n",
    "TR est le test de résolution, TR devient vrai si on trouve un noeud avec une solution réalisable. Dans notre cas si les $x_i$ valent 0 ou 1\n",
    "\n",
    "4. Le noeud de gauche est exploré jusqu'à qu'il soit sondable puis on remonte au noeud d'avant et on explore celui de droite. Puis on réutilise la stratégie d'exporer le noeud le plus à gauche. "
   ]
  },
  {
   "cell_type": "markdown",
   "metadata": {},
   "source": [
    "Nous avons utilisé les mêmes tests de sondabilité que dans le sujet et la même règle de séparation. Pour la stratégie d'exploration nous explorons l noeud le plus à gauche qui est non sondable."
   ]
  },
  {
   "cell_type": "markdown",
   "metadata": {},
   "source": [
    "Il a y un enregistrement pour les variables de décision qui comporte une valeur (soit 0 ou 1), l'index c'est le numéro de l'objet, un booléen free qui indique si la vraible à été fixé ou non quand on descend dans l'arbre.\n",
    "Nous avons fait un autre enregistrement pour le modèle composé d'un tableau de variable composé par des varibles de décision, d'un tableau trié dans l'ordre décroissant des ratios ($r_i = prix_i/poids_i$), d'un entier degré de liberté qui correspond au nombre de variables qui n'ont pas été fixées, d'un tableau de prix et de poids et d'une capacité que l'on trouve dans le problème que l'on veut résoudre, d'un booléen qui indique si le noeud est faisable ou non et enfin de la borne supérieur du noeud courant. "
   ]
  },
  {
   "cell_type": "markdown",
   "metadata": {},
   "source": [
    "5) Sur l'exemple du cours, la performance est la même."
   ]
  }
 ],
 "metadata": {
  "kernelspec": {
   "display_name": "Julia 1.8.2",
   "language": "julia",
   "name": "julia-1.8"
  },
  "language_info": {
   "file_extension": ".jl",
   "mimetype": "application/julia",
   "name": "julia",
   "version": "1.8.2"
  }
 },
 "nbformat": 4,
 "nbformat_minor": 4
}
