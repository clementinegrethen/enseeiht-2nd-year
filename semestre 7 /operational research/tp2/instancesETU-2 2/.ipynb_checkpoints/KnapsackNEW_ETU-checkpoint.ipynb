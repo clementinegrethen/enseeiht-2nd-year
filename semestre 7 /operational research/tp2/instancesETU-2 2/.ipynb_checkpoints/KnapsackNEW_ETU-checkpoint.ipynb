{
 "cells": [
  {
   "cell_type": "markdown",
   "metadata": {},
   "source": [
    "# TP 2-3 : Branch-and-borneSupapplied to a knapsack problem"
   ]
  },
  {
   "cell_type": "markdown",
   "metadata": {},
   "source": [
    "### Initialisation (à faire une seule fois)"
   ]
  },
  {
   "cell_type": "code",
   "execution_count": 1,
   "metadata": {},
   "outputs": [
    {
     "name": "stderr",
     "output_type": "stream",
     "text": [
      "\u001b[32m\u001b[1m    Updating\u001b[22m\u001b[39m registry at `~/.julia/registries/General.toml`\n",
      "\u001b[32m\u001b[1m   Resolving\u001b[22m\u001b[39m package versions...\n",
      "\u001b[32m\u001b[1m  No Changes\u001b[22m\u001b[39m to `~/.julia/environments/v1.8/Project.toml`\n",
      "\u001b[32m\u001b[1m  No Changes\u001b[22m\u001b[39m to `~/.julia/environments/v1.8/Manifest.toml`\n",
      "\u001b[32m\u001b[1m   Resolving\u001b[22m\u001b[39m package versions...\n",
      "\u001b[32m\u001b[1m  No Changes\u001b[22m\u001b[39m to `~/.julia/environments/v1.8/Project.toml`\n",
      "\u001b[32m\u001b[1m  No Changes\u001b[22m\u001b[39m to `~/.julia/environments/v1.8/Manifest.toml`\n"
     ]
    }
   ],
   "source": [
    "import Pkg; \n",
    "Pkg.add(\"GraphRecipes\"); Pkg.add(\"Plots\"); \n",
    "using GraphRecipes, Plots #only used to visualize the search tree at the end of the branch-and-borneSup"
   ]
  },
  {
   "cell_type": "markdown",
   "metadata": {},
   "source": [
    "### Récupération des données"
   ]
  },
  {
   "cell_type": "code",
   "execution_count": 2,
   "metadata": {},
   "outputs": [
    {
     "data": {
      "text/plain": [
       "readKnaptxtInstance (generic function with 1 method)"
      ]
     },
     "execution_count": 2,
     "metadata": {},
     "output_type": "execute_result"
    }
   ],
   "source": [
    "#ne change pas \n",
    "function readKnaptxtInstance(filename)\n",
    "    price=[]\n",
    "    weight=[]\n",
    "    KnapCap=[]\n",
    "    open(filename) do f\n",
    "        for i in 1:3\n",
    "            tok = split(readline(f))\n",
    "            if(tok[1] == \"ListPrices=\")\n",
    "                for i in 2:(length(tok)-1)\n",
    "                    push!(price,parse(Int64, tok[i]))\n",
    "                end\n",
    "            elseif(tok[1] == \"ListWeights=\")\n",
    "                for i in 2:(length(tok)-1)\n",
    "                    push!(weight,parse(Int64, tok[i]))\n",
    "                end\n",
    "            elseif(tok[1] == \"Capacity=\")\n",
    "                push!(KnapCap, parse(Int64, tok[2]))\n",
    "            else\n",
    "                println(\"Unknown read :\", tok)\n",
    "            end \n",
    "        end\n",
    "    end\n",
    "    capacity=KnapCap[1]\n",
    "    return price, weight, capacity\n",
    "end\n"
   ]
  },
  {
   "cell_type": "markdown",
   "metadata": {},
   "source": [
    "### Tests de sondabilités TA, TO et TR basés sur le modèle linéaire"
   ]
  },
  {
   "cell_type": "code",
   "execution_count": 9,
   "metadata": {},
   "outputs": [
    {
     "data": {
      "text/plain": [
       "TestsSondabilite_LP (generic function with 1 method)"
      ]
     },
     "execution_count": 9,
     "metadata": {},
     "output_type": "execute_result"
    }
   ],
   "source": [
    "\n",
    "# ADAPTED\n",
    "function value( var)\n",
    "    return var.value\n",
    "end\n",
    "\n",
    "\n",
    "function TestsSondabilite_LP(model2, BestProfit, Bestsol, resultat_non_trie)\n",
    "    TA, TO, TR = false, false, false\n",
    "    # on remplace avec le type enregistrement de la structure model\n",
    "    if(!model2.feasable)#Test de faisabilite\n",
    "        TA=true\n",
    "        println(\"TA\")\n",
    "    elseif(model2.borneSup<= BestProfit) #Test d'optimalite\n",
    "        TO=true\n",
    "        println(\"TO\")\n",
    "    elseif(model2.degLib==1) #Test de resolution\n",
    "          for (index, var) in enumerate(model2.variables)\n",
    "                if var.free\n",
    "                    residualCapacity = model2.capacity - (mapreduce(var -> (var.free ? 0. : var.value) * model2.weights[var.index], +, model2.variables, init = 0))\n",
    "                    weight = model2.weights[var.index]\n",
    "                    var.value = weight <=  residualCapacity  ? 1.0 : 0.0\n",
    "                    break\n",
    "                end\n",
    "        end\n",
    "      \n",
    "        \n",
    "        TR=true\n",
    "        println(\"TR\")\n",
    "        #if (value(benef) >= BestProfit)\n",
    "        if (sum([var.value * model2.prices[var.index] for var in model2.variables]) >= BestProfit)\n",
    "            Bestsol = value.(model2.variables) # la solution best sol sera dans l'ordre décroissant des ratio \n",
    "            # il est plus intéressant pour nous d'avoir la solution dans l'ordre des index des objets\n",
    "            # d'où la création de resultat_non_trie\n",
    "            BestProfit = sum([var.value * model2.prices[var.index] for var in model2.variables])\n",
    "            resultat_non_trie= [(var.index) for (index, var) in enumerate(model2.variables) if var.value == 1.0]\n",
    "            println(\"\\nNew Solution memorized \", Bestsol, \" with bestprofit \", BestProfit, \"\\n\")\n",
    "\n",
    "        end\n",
    "    else\n",
    "        println(\"non sondable\")\n",
    "    end\n",
    "    TA, TO, TR, Bestsol, BestProfit, resultat_non_trie\n",
    "end\n",
    "\n",
    "\n",
    "    "
   ]
  },
  {
   "cell_type": "markdown",
   "metadata": {},
   "source": [
    "## Procédure de séparation (branching) et stratégie d'exploration permettant de se placer au prochain noeud à traiter"
   ]
  },
  {
   "cell_type": "code",
   "execution_count": 4,
   "metadata": {},
   "outputs": [
    {
     "data": {
      "text/plain": [
       "ExplorerAutreNoeud (generic function with 1 method)"
      ]
     },
     "execution_count": 4,
     "metadata": {},
     "output_type": "execute_result"
    }
   ],
   "source": [
    "function SeparerNoeud(model2, listobjs, listvals)\n",
    "   # si le noeud n'est pas sondable on le sépare en deux noeuds\n",
    "   # On prend la variable qui a le plus grand ratio prix/poids donc le premier libre de la liste des variables\n",
    "# on va à gauche       \n",
    "# on la fixe à 1 et on la met dans la liste des variables\n",
    "    local variable_a_stocker     \n",
    "        for (i, var) in enumerate(model2.variables)\n",
    "            # on prend la première variable disponible, comme elles sont triées par ratio décroissant,\n",
    "            if var.free\n",
    "                var = model2.variables[i]\n",
    "                var.free = false\n",
    "                var.value = 1.0\n",
    "                model2.degLib-= 1 # on diminue le nombre de degrés de liberté\n",
    "                variable_a_stocker  = var\n",
    "                variable_a_stocker  = var\n",
    "                # on sort de la boucle quand on a trouvé la première variable disponible\n",
    "                break\n",
    "            end\n",
    "        end\n",
    "    \n",
    "\n",
    "    push!(listobjs, variable_a_stocker ) #save the identity of the object selected for branching\n",
    "    push!(listvals, 1.0) #save the node selected, identified by the value assigned to the variable/object chosen\n",
    "\n",
    "    listobjs, listvals\n",
    "end\n",
    "\n",
    "\n",
    "function ExplorerAutreNoeud(model2, listobjs, listvals, listnodes)\n",
    "    #this node is sondable, go back to parent node then right child if possible\n",
    "    \n",
    "    stop=false\n",
    "    #check if we are not at the root node\n",
    "    if (length(listobjs)>= 1)\n",
    "        #go back to parent node\n",
    "        obj=pop!(listobjs)\n",
    "        theval=pop!(listvals)\n",
    "        tmp=pop!(listnodes)\n",
    "        obj.free = true\n",
    "        model2.degLib+= 1\n",
    "\n",
    "        #go to right child if possible, otherwise go back to parent\n",
    "        while( (theval==0.0) && (length(listobjs)>= 1))\n",
    "            obj=pop!(listobjs)\n",
    "            theval=pop!(listvals)\n",
    "            tmp=pop!(listnodes)\n",
    "            # on libère la variable\n",
    "            obj.free = true\n",
    "            model2.degLib+= 1\n",
    "        end\n",
    "        # if theval==1.0, we are at the root node, so we stop\n",
    "        if theval==1.0\n",
    "            #the root node was sondable\n",
    "            obj.free = false\n",
    "            obj.value = 0.0\n",
    "            model2.degLib-= 1\n",
    "            push!(listobjs,obj)\n",
    "            push!(listvals,0.0)\n",
    "        else\n",
    "            println(\"\\nFINISHED\")\n",
    "            stop=true\n",
    "        end\n",
    "    else\n",
    "        #the root node was sondable\n",
    "        println(\"\\nFINISHED\")\n",
    "        stop=true\n",
    "    end\n",
    "    listobjs, listvals, listnodes, stop \n",
    "end"
   ]
  },
  {
   "cell_type": "markdown",
   "metadata": {},
   "source": [
    "###  Création de la relaxation linéaire (= modèle associé au noeud 0): <span style=\"color:red\"> SECTION A SUPPRIMER !!!! </span>\n",
    "\n",
    "<span style=\"color:red\"> Cette section est à commenter/supprimer et remplacer par vos propres calculs de bornes supérieures et autres, par exemple basées sur les bornes 1 et 2 vues en cours, ou d'autres calculs de bornes de votre choix/conception validés au préalable par votre encadrant/e de TP </span>"
   ]
  },
  {
   "cell_type": "code",
   "execution_count": 5,
   "metadata": {},
   "outputs": [
    {
     "data": {
      "text/plain": [
       "borne2 (generic function with 1 method)"
      ]
     },
     "execution_count": 5,
     "metadata": {},
     "output_type": "execute_result"
    }
   ],
   "source": [
    "# implémentation pourl le tp2 \n",
    "\n",
    "# une variable est définie ainsi:\n",
    "mutable struct varDecision\n",
    "    value::Float64  #valeur de la variable\n",
    "    index::Int64    #indice de la variable\n",
    "    free::Bool     #indique si la variable est libre ou non\n",
    "   \n",
    "end\n",
    "\n",
    "\n",
    "\n",
    "\n",
    "#Def du modèle\n",
    "mutable struct myModel\n",
    "    unsortedVariables::Array{varDecision,1}\n",
    "    variables::Array{varDecision,1} #liste des variables dans l'ordre décroissant de leur ratio prix/poids\n",
    "    degLib::Int64 \n",
    "    prices::Array{Int64,1} #liste des prix\n",
    "    weights::Array{Int64,1} #liste des poids\n",
    "    capacity::Int64      #capacité du sac\n",
    "    feasable::Bool #indique si le noeud est faisable ou non\n",
    "    borneSup::Float64 #borne supérieure du noeud\n",
    "end\n",
    "\n",
    "   \n",
    "    \n",
    "#calcul la borne supérieure selon la méthode de la borne 1\n",
    "function relaxationlineaire(model)\n",
    "    #on s'assure que la capacité est suffisante pour contenir tous les objets\n",
    "    verif=((model.capacity-(mapreduce(var -> (var.free ? 0. : var.value) * model.weights[var.index], +, model.variables, init = 0))>=10^(-5)))\n",
    "    residualCapacity = model.capacity - (mapreduce(var -> (var.free ? 0. : var.value) * model.weights[var.index], +, model.variables, init = 0))\n",
    "    borneSup=-Inf #borne inférieure fixée à -Inf par convention\n",
    "    if verif \n",
    "        # borneSupvaut le profit à cet instant \n",
    "        # vaut la borne inférieure \n",
    "        borneSup=mapreduce(var -> (var.free ? 0. : var.value) * model.prices[var.index], +, model.variables, init = 0)\n",
    "        # on calcule la borne supérieure\n",
    "        for var in model.variables\n",
    "            if var.free\n",
    "                borneSup+= residualCapacity * (model.prices[var.index] / model.weights[var.index])\n",
    "                break\n",
    "            end\n",
    "        end\n",
    "    end\n",
    "    print(\"BS = \")\n",
    "    println(borneSup)\n",
    "    model.feasable=verif \n",
    "    model.borneSup=borneSup# on met à jour la borne supérieure du noeud\n",
    "end\n",
    "\n",
    "\n",
    "\n",
    "function borne2(model)\n",
    "    #on s'assure que la capacité est suffisante pour contenir tous les objets\n",
    "    verif=((model.capacity-(mapreduce(var -> (var.free ? 0. : var.value) * model.weights[var.index], +, model.variables, init = 0))>=10^(-5)))\n",
    "    residualCapacity = model.capacity - (mapreduce(var -> (var.free ? 0. : var.value) * model.weights[var.index], +, model.variables, init = 0))\n",
    "    borneSup=-Inf #borne inférieure fixée à -Inf par convention\n",
    "    if verif \n",
    "        # borneSupvaut le profit à cet instant \n",
    "        # vaut la borne inférieure \n",
    "        borneSup=mapreduce(var -> (var.free ? 0. : var.value) * model.prices[var.index], +, model.variables, init = 0)\n",
    "        # on calcule la borne supérieure\n",
    "        for var in model.variables\n",
    "                if var.free\n",
    "                    if residualCapacity < model.weights[var.index]\n",
    "                        borneSup+= residualCapacity * model.prices[var.index] / model.weights[var.index]\n",
    "                        break\n",
    "                    else\n",
    "                        borneSup+= model.prices[var.index] \n",
    "                        residualCapacity = residualCapacity - model.weights[var.index]\n",
    "                end\n",
    "            end\n",
    "        end\n",
    "    end\n",
    "    print(\"BS = \")\n",
    "    println(borneSup)\n",
    "    model.feasable=verif \n",
    "    model.borneSup=borneSup# on met à jour la borne supérieure du noeud\n",
    "end\n",
    "\n",
    "\n",
    "\n"
   ]
  },
  {
   "cell_type": "code",
   "execution_count": 6,
   "metadata": {},
   "outputs": [
    {
     "data": {
      "text/plain": [
       "CreationModele_LP (generic function with 1 method)"
      ]
     },
     "execution_count": 6,
     "metadata": {},
     "output_type": "execute_result"
    }
   ],
   "source": [
    "\n",
    "\n",
    "# ADAPTED\n",
    "function CreationModele_LP(price, weight, capacity)\n",
    "    # ROOT NODE\n",
    "        \n",
    "        perm = sortperm(price ./ weight, rev = true)\n",
    "        N = length(price)\n",
    "        vars = Array{varDecision, 1}(undef, N)\n",
    "        for i = 1:N\n",
    "            vars[i] = varDecision(0.0, i, true)\n",
    "        end\n",
    "        model2 = myModel(vars, view(vars, perm), N, price, weight, capacity, false, -Inf)\n",
    "        \n",
    "        return model2\n",
    "    end"
   ]
  },
  {
   "cell_type": "markdown",
   "metadata": {},
   "source": []
  },
  {
   "cell_type": "markdown",
   "metadata": {},
   "source": [
    "### Boucle principale : résoudre une relaxation, appliquer les tests de sondabilité, identifier le prochain noeud, répéter."
   ]
  },
  {
   "cell_type": "code",
   "execution_count": 10,
   "metadata": {},
   "outputs": [
    {
     "data": {
      "text/plain": [
       "SolveKnapInstance (generic function with 1 method)"
      ]
     },
     "execution_count": 10,
     "metadata": {},
     "output_type": "execute_result"
    }
   ],
   "source": [
    "function SolveKnapInstance(filename,borne)\n",
    "\n",
    "    price, weight, capacity = readKnaptxtInstance(filename)\n",
    "#on enlève le x \n",
    "    model2= CreationModele_LP(price, weight, capacity)\n",
    "\n",
    "    #create the structure to memorize the search tree for visualization at the end\n",
    "    trParentnodes=Int64[] #will store orig node of arc in search tree\n",
    "    trChildnodes=Int64[] #will store destination node of arc in search tree\n",
    "    trNamenodes=[] #will store names of nodes in search tree\n",
    "\n",
    "    #intermediate structure to navigate in the search tree\n",
    "      #intermediate structure to navigate in the search tree\n",
    "      listobjs=[]\n",
    "      listvals=[]\n",
    "      listnodes=[]\n",
    "\n",
    "    BestProfit=-1\n",
    "    #cette variable contient les objets  que le sac va contenir dans la solution optimale\n",
    "    resultat_non_trie=[]\n",
    "    Bestsol=[]\n",
    "\n",
    "    current_node_number=0\n",
    "    stop = false\n",
    "\n",
    "    while(!stop)\n",
    "\n",
    "        println(\"\\nNode number \", current_node_number, \": \\n---------------\\n\")\n",
    "\n",
    "        #Update the graphical tree\n",
    "        push!(trNamenodes,current_node_number+1) \n",
    "        if(length(trNamenodes)>=2)\n",
    "            push!(trParentnodes,listnodes[end]+1) # +1 because the 1st node is \"node 0\"\n",
    "            push!(trChildnodes, current_node_number+1) # +1 because the 1st node is \"node 0\"\n",
    "        end\n",
    "        push!(listnodes, current_node_number)\n",
    "        # on calcul la borne supérieure\n",
    "        if borne == 1\n",
    "            relaxationlineaire(model2)\n",
    "        elseif borne == 2\n",
    "            borne2(model2)\n",
    "        else\n",
    "             println(\"Borne doit être 1 ou 2.\")\n",
    "            return false\n",
    "        end      \n",
    "        # on regarde si le noeud est sondable\n",
    "        TA, TO, TR, Bestsol, BestProfit,resultat_non_trie  = TestsSondabilite_LP(model2, BestProfit, Bestsol , resultat_non_trie)\n",
    "        \n",
    "        is_node_sondable = TA || TO || TR\n",
    "\n",
    "        #Reset_LP!(model2, x, listobjs)\n",
    "\n",
    "        if(!is_node_sondable)\n",
    "            # le noeud n'est pas sondable, on va créer deux fils\n",
    "                listobjs, listvals = SeparerNoeud(model2, listobjs, listvals)\n",
    "        else\n",
    "            # le noeud est sondable,  on explore son frère \n",
    "                listobjs, listvals, listnodes, stop = ExplorerAutreNoeud(model2, listobjs, listvals, listnodes)\n",
    "        end\n",
    "\n",
    "        \n",
    "\n",
    "        current_node_number = current_node_number + 1\n",
    "    end\n",
    "    println(\"\\n******\\n\\nOptimal value = \", BestProfit, \"\\n\\nOptimal x=\", Bestsol)\n",
    "    \n",
    "\n",
    "    return BestProfit, Bestsol, trParentnodes, trChildnodes, trNamenodes, resultat_non_trie\n",
    "\n",
    "end"
   ]
  },
  {
   "cell_type": "markdown",
   "metadata": {},
   "source": [
    "### Affichage du résultat final"
   ]
  },
  {
   "cell_type": "code",
   "execution_count": 11,
   "metadata": {},
   "outputs": [
    {
     "name": "stdout",
     "output_type": "stream",
     "text": [
      "\n",
      "Node number 0: \n",
      "---------------\n",
      "\n",
      "BS = 100.0\n",
      "non sondable\n",
      "\n",
      "Node number 1: \n",
      "---------------\n",
      "\n",
      "BS = 100.0\n",
      "non sondable\n",
      "\n",
      "Node number 2: \n",
      "---------------\n",
      "\n",
      "BS = -Inf\n",
      "TA\n",
      "\n",
      "Node number 3: \n",
      "---------------\n",
      "\n",
      "BS = 100.0\n",
      "non sondable\n",
      "\n",
      "Node number 4: \n",
      "---------------\n",
      "\n",
      "BS = -Inf\n",
      "TA\n",
      "\n",
      "Node number 5: \n",
      "---------------\n",
      "\n",
      "BS = 85.0\n"
     ]
    },
    {
     "ename": "LoadError",
     "evalue": "UndefVarError: knownWeight not defined",
     "output_type": "error",
     "traceback": [
      "UndefVarError: knownWeight not defined",
      "",
      "Stacktrace:",
      " [1] TestsSondabilite_LP(model2::myModel, BestProfit::Int64, Bestsol::Vector{Any}, resultat_non_trie::Vector{Any})",
      "   @ Main ./In[9]:20",
      " [2] SolveKnapInstance(filename::String, borne::Int64)",
      "   @ Main ./In[10]:47",
      " [3] top-level scope",
      "   @ In[11]:1",
      " [4] eval",
      "   @ ./boot.jl:368 [inlined]",
      " [5] include_string(mapexpr::typeof(REPL.softscope), mod::Module, code::String, filename::String)",
      "   @ Base ./loading.jl:1428"
     ]
    }
   ],
   "source": [
    "BestProfit, Bestsol, trParentnodes, trChildnodes, trNamenodes, resultat_non_trie = SolveKnapInstance(\"instancesETU/KNAPnewformat/test.opb.txt\",1)\n",
    "\n",
    "println(\"\\n******\\n\\nOptimal value = \", BestProfit, \"\\n\\nOptimal(dans l'ordre croissant des ratio) x=\", Bestsol)\n",
    "println( \"résultat optimal dans l'odre des indices des objets \", resultat_non_trie)\n",
    "\n",
    "graphplot(trParentnodes, trChildnodes, names=trNamenodes, method=:tree)"
   ]
  },
  {
   "cell_type": "code",
   "execution_count": 9,
   "metadata": {},
   "outputs": [
    {
     "data": {
      "text/plain": [
       "true"
      ]
     },
     "execution_count": 9,
     "metadata": {},
     "output_type": "execute_result"
    }
   ],
   "source": [
    "0 != 1"
   ]
  },
  {
   "cell_type": "markdown",
   "metadata": {},
   "source": [
    "##questions préliminaires##\n",
    "1) La règle de séparation est\n",
    "2) La méthode de calcul de la borne supérieure est \n",
    "3) La stratégie d'exploration est \n",
    "\n",
    "\n",
    "##Questions sur notre implantation##\n",
    "3) Les différents points clé de notre implémentation des différents blocs du Branch-and-Bound:\n",
    "* Nous avons créé un type struct pour le modèle et les variables de décision, pour un soucis de clarté et de facilité d'accés aux différentes variables.\n",
    "*"
   ]
  }
 ],
 "metadata": {
  "kernelspec": {
   "display_name": "Julia 1.8.2",
   "language": "julia",
   "name": "julia-1.8"
  },
  "language_info": {
   "file_extension": ".jl",
   "mimetype": "application/julia",
   "name": "julia",
   "version": "1.8.2"
  }
 },
 "nbformat": 4,
 "nbformat_minor": 4
}
