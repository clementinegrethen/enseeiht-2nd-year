{
 "cells": [
  {
   "cell_type": "code",
   "execution_count": 3,
   "metadata": {},
   "outputs": [
    {
     "data": {
      "text/plain": [
       "readKnaptxtInstance (generic function with 1 method)"
      ]
     },
     "execution_count": 3,
     "metadata": {},
     "output_type": "execute_result"
    }
   ],
   "source": [
    "function readKnaptxtInstance(filename)\n",
    "    price=[]\n",
    "    weight=[]\n",
    "    KnapCap=[]\n",
    "    open(filename) do f\n",
    "        for i in 1:3\n",
    "            tok = split(readline(f))\n",
    "            if(tok[1] == \"ListPrices=\")\n",
    "                for i in 2:(length(tok)-1)\n",
    "                    push!(price,parse(Int64, tok[i]))\n",
    "                end\n",
    "            elseif(tok[1] == \"ListWeights=\")\n",
    "                for i in 2:(length(tok)-1)\n",
    "                    push!(weight,parse(Int64, tok[i]))\n",
    "                end\n",
    "            elseif(tok[1] == \"Capacity=\")\n",
    "                push!(KnapCap, parse(Int64, tok[2]))\n",
    "            else\n",
    "                println(\"Unknown read :\", tok)\n",
    "            end \n",
    "        end\n",
    "    end\n",
    "    capacity=KnapCap[1]\n",
    "    return price, weight, capacity\n",
    "end"
   ]
  },
  {
   "cell_type": "code",
   "execution_count": null,
   "metadata": {},
   "outputs": [],
   "source": []
  },
  {
   "cell_type": "code",
   "execution_count": 66,
   "metadata": {},
   "outputs": [
    {
     "data": {
      "text/plain": [
       "sacados (generic function with 1 method)"
      ]
     },
     "execution_count": 66,
     "metadata": {},
     "output_type": "execute_result"
    }
   ],
   "source": [
    "function sacados(prix,poids,capacite)\n",
    "    Q = capacite\n",
    "    n = length(poids)\n",
    "    C = zeros(n,Q+1)\n",
    "    x = []\n",
    "    for j in 1:Q+1\n",
    "        if floor(j/poids[1])>= 1\n",
    "            C[1,j]= 1\n",
    "        else\n",
    "            C[1,j]= 0\n",
    "        end     \n",
    "    end\n",
    "    for i in 2:n\n",
    "        C[i,1] = 0\n",
    "    end\n",
    "    for i in 2:n\n",
    "        for j in 2:Q+1\n",
    "            if j - poids[i] < 1\n",
    "                C[i,j] = C[i-1,j]\n",
    "            else\n",
    "\n",
    "                C[i,j] = max(C[i-1,j],C[i-1,j-poids[i]]+prix[i])\n",
    "                \n",
    "            end\n",
    "        end\n",
    "    end\n",
    "    println(\"la1\")\n",
    "    maxi = C[n,Q+1]\n",
    "      println(\"la2\")\n",
    "    p = Q+1\n",
    "    k = n\n",
    "      println(\"la3\")\n",
    "    while k > 1\n",
    "        if C[k,p] == C[k-1,p]\n",
    "            push!(x, 0)\n",
    "            \n",
    "        else\n",
    "            push!(x,1)\n",
    "            p = p - poids[k]\n",
    "        end\n",
    "        \n",
    "        k = k - 1\n",
    "\n",
    " \n",
    "        \n",
    "    end\n",
    "\n",
    "            if C[k,p] == 0\n",
    "\n",
    "                push!(x,0)\n",
    "            else\n",
    "                push!(x,1)\n",
    "            end\n",
    "        \n",
    " \n",
    "      println(\"la\")\n",
    "    return maxi, x\n",
    "     \n",
    "end\n",
    "\n",
    "        \n",
    "    "
   ]
  },
  {
   "cell_type": "code",
   "execution_count": 67,
   "metadata": {},
   "outputs": [
    {
     "name": "stdout",
     "output_type": "stream",
     "text": [
      "la1\n",
      "la2\n",
      "la3\n",
      "la\n"
     ]
    },
    {
     "data": {
      "text/plain": [
       "(65.0, Any[1, 0, 1, 0])"
      ]
     },
     "execution_count": 67,
     "metadata": {},
     "output_type": "execute_result"
    }
   ],
   "source": [
    "prix, poids, capacite = readKnaptxtInstance(\"/home/cfeltre/2An/RO/instancesETU/instancesETU/KNAPnewformat/test.opb.txt\")\n",
    "\n",
    "ma, x = sacados(prix,poids,capacite)"
   ]
  },
  {
   "cell_type": "markdown",
   "metadata": {},
   "source": [
    "1)Fonctionnement de l'algorithme\n",
    " La fonction sacados prend en entrée une liste de prix prices, une liste de poids weights, et une capacité maximale capacity. Elle retourne un tuple contenant la valeur maximale obtenue et une liste de sélection d'objets (1 pour sélectionné, 0 pour non sélectionné).\n",
    "\n",
    "La fonction commence par initialiser une matrice C de taille (n, capacity+1) où n est le nombre d'objets. La première colonne de la matrice est initialisée en fonction de la sélection ou non de l'objet 1. Les autres cellules de la matrice sont remplies en utilisant la formule suivante: C[i][j] = max(C[i-1][j], C[i-1][j-poids[i]]+prix[i]), où i et j sont les indices de ligne et de colonne de la matrice respectivement.\n",
    "\n",
    "Enfin, la fonction parcourt la matrice de bas en haut et de droite à gauche pour obtenir la valeur maximale et la sélection d'objets en utilisant la traceback. La valeur maximale est obtenue en prenant la dernière cellule de la dernière colonne de la matrice C, et la sélection d'objets est obtenue en comparant les cellules de la matrice à chaque étape.\n",
    "\n",
    "\n"
   ]
  }
 ],
 "metadata": {
  "kernelspec": {
   "display_name": "Julia 1.8.2",
   "language": "julia",
   "name": "julia-1.8"
  },
  "language_info": {
   "file_extension": ".jl",
   "mimetype": "application/julia",
   "name": "julia",
   "version": "1.8.2"
  }
 },
 "nbformat": 4,
 "nbformat_minor": 4
}
