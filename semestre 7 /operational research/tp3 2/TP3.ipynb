{
 "cells": [
  {
   "cell_type": "code",
   "execution_count": 2,
   "metadata": {},
   "outputs": [
    {
     "data": {
      "text/plain": [
       "readKnaptxtInstance (generic function with 1 method)"
      ]
     },
     "execution_count": 2,
     "metadata": {},
     "output_type": "execute_result"
    }
   ],
   "source": [
    "function readKnaptxtInstance(filename)\n",
    "    price=[]\n",
    "    weight=[]\n",
    "    KnapCap=[]\n",
    "    open(filename) do f\n",
    "        for i in 1:3\n",
    "            tok = split(readline(f))\n",
    "            if(tok[1] == \"ListPrices=\")\n",
    "                for i in 2:(length(tok)-1)\n",
    "                    push!(price,parse(Int64, tok[i]))\n",
    "                end\n",
    "            elseif(tok[1] == \"ListWeights=\")\n",
    "                for i in 2:(length(tok)-1)\n",
    "                    push!(weight,parse(Int64, tok[i]))\n",
    "                end\n",
    "            elseif(tok[1] == \"Capacity=\")\n",
    "                push!(KnapCap, parse(Int64, tok[2]))\n",
    "            else\n",
    "                println(\"Unknown read :\", tok)\n",
    "            end \n",
    "        end\n",
    "    end\n",
    "    capacity=KnapCap[1]\n",
    "    return price, weight, capacity\n",
    "end"
   ]
  },
  {
   "cell_type": "code",
   "execution_count": null,
   "metadata": {},
   "outputs": [],
   "source": []
  },
  {
   "cell_type": "code",
   "execution_count": 101,
   "metadata": {},
   "outputs": [
    {
     "data": {
      "text/plain": [
       "sacados (generic function with 1 method)"
      ]
     },
     "execution_count": 101,
     "metadata": {},
     "output_type": "execute_result"
    }
   ],
   "source": [
    "function sacados(prix,poids,capacite)\n",
    "    Q = capacite\n",
    "    n = length(poids)\n",
    "    C = zeros(n,Q+1)\n",
    "    x = []\n",
    "    for j in 1:Q+1\n",
    "        if floor((j-1)/poids[1])>= 1\n",
    "            C[1,j]= prix[1]\n",
    "        else\n",
    "            C[1,j]= 0\n",
    "        end     \n",
    "    end\n",
    "    for i in 2:n\n",
    "        C[i,1] = 0\n",
    "    end\n",
    "    for i in 2:n\n",
    "        for j in 2:Q+1\n",
    "            if j - poids[i] < 1\n",
    "                C[i,j] = C[i-1,j]\n",
    "            else\n",
    "\n",
    "                C[i,j] = max(C[i-1,j],C[i-1,j-poids[i]]+prix[i])\n",
    "                \n",
    "            end\n",
    "        end\n",
    "    end\n",
    "    maxi = C[n,Q+1]\n",
    "    p = Q+1\n",
    "    k = n\n",
    "    while k > 1\n",
    "        if C[k,p] == C[k-1,p]\n",
    "            push!(x, 0)\n",
    "            \n",
    "        else\n",
    "            push!(x,1)\n",
    "            p = p - poids[k]\n",
    "        end\n",
    "        \n",
    "        k = k - 1\n",
    "\n",
    " \n",
    "        \n",
    "    end\n",
    "\n",
    "            if C[k,p] == 0\n",
    "\n",
    "                push!(x,0)\n",
    "            else\n",
    "                push!(x,1)\n",
    "            end\n",
    "        \n",
    "     print(C)\n",
    "    return maxi, reverse(x)\n",
    "     \n",
    "end\n",
    "\n",
    "        \n",
    "    "
   ]
  },
  {
   "cell_type": "code",
   "execution_count": 102,
   "metadata": {},
   "outputs": [
    {
     "name": "stdout",
     "output_type": "stream",
     "text": [
      "[0.0 0.0 0.0 0.0 0.0 0.0 0.0 42.0 42.0 42.0 42.0; 0.0 0.0 0.0 0.0 40.0 40.0 40.0 42.0 42.0 42.0 42.0; 0.0 0.0 0.0 12.0 40.0 40.0 40.0 52.0 52.0 52.0 54.0; 0.0 0.0 0.0 12.0 40.0 40.0 40.0 52.0 52.0 65.0 65.0]"
     ]
    },
    {
     "data": {
      "text/plain": [
       "(65.0, Any[0, 1, 0, 1])"
      ]
     },
     "execution_count": 102,
     "metadata": {},
     "output_type": "execute_result"
    }
   ],
   "source": [
    "prix, poids, capacite = readKnaptxtInstance(\"/Users/clementinegrethen/Documents/2A/RO/tp3/test.opb.txt\")\n",
    "\n",
    "ma, x = sacados(prix,poids,capacite)"
   ]
  },
  {
   "cell_type": "code",
   "execution_count": 103,
   "metadata": {},
   "outputs": [
    {
     "name": "stdout",
     "output_type": "stream",
     "text": [
      "[0.0 0.0 0.0 0.0 0.0 0.0; 0.0 0.0 0.0 0.0 0.0 10.0]"
     ]
    },
    {
     "data": {
      "text/plain": [
       "(10.0, Any[0, 1])"
      ]
     },
     "execution_count": 103,
     "metadata": {},
     "output_type": "execute_result"
    }
   ],
   "source": [
    "prix, poids, capacite = readKnaptxtInstance(\"/Users/clementinegrethen/Documents/2A/RO/tp3/test.opb copie.txt\")\n",
    "\n",
    "ma, x = sacados(prix,poids,capacite)"
   ]
  },
  {
   "cell_type": "code",
   "execution_count": 104,
   "metadata": {},
   "outputs": [
    {
     "name": "stdout",
     "output_type": "stream",
     "text": [
      "[0.0 0.0 0.0 0.0 0.0 0.0 0.0 0.0 0.0 0.0 0.0 0.0 0.0 0.0 0.0 30.0 30.0 30.0 30.0 30.0 30.0 30.0 30.0 30.0 30.0 30.0 30.0 30.0 30.0 30.0 30.0; 0.0 0.0 0.0 0.0 0.0 0.0 0.0 0.0 0.0 0.0 20.0 20.0 20.0 20.0 20.0 30.0 30.0 30.0 30.0 30.0 30.0 30.0 30.0 30.0 30.0 50.0 50.0 50.0 50.0 50.0 50.0; 0.0 0.0 0.0 0.0 0.0 10.0 10.0 10.0 10.0 10.0 20.0 20.0 20.0 20.0 20.0 30.0 30.0 30.0 30.0 30.0 40.0 40.0 40.0 40.0 40.0 50.0 50.0 50.0 50.0 50.0 60.0]"
     ]
    },
    {
     "data": {
      "text/plain": [
       "(60.0, Any[1, 1, 1])"
      ]
     },
     "execution_count": 104,
     "metadata": {},
     "output_type": "execute_result"
    }
   ],
   "source": [
    "prix, poids, capacite = readKnaptxtInstance(\"/Users/clementinegrethen/Documents/2A/RO/tp3/test.opb copie 2.txt\")\n",
    "\n",
    "ma, x = sacados(prix,poids,capacite)"
   ]
  },
  {
   "cell_type": "code",
   "execution_count": 105,
   "metadata": {},
   "outputs": [
    {
     "name": "stdout",
     "output_type": "stream",
     "text": [
      "[0.0 0.0 0.0 0.0 0.0 0.0 0.0 0.0 0.0 0.0 0.0 0.0 0.0 0.0 0.0 30.0 30.0 30.0 30.0 30.0 30.0; 0.0 0.0 0.0 0.0 0.0 0.0 0.0 0.0 0.0 0.0 20.0 20.0 20.0 20.0 20.0 30.0 30.0 30.0 30.0 30.0 30.0; 0.0 0.0 0.0 0.0 0.0 10.0 10.0 10.0 10.0 10.0 20.0 20.0 20.0 20.0 20.0 30.0 30.0 30.0 30.0 30.0 40.0]"
     ]
    },
    {
     "data": {
      "text/plain": [
       "(40.0, Any[1, 0, 1])"
      ]
     },
     "execution_count": 105,
     "metadata": {},
     "output_type": "execute_result"
    }
   ],
   "source": [
    "prix, poids, capacite = readKnaptxtInstance(\"/Users/clementinegrethen/Documents/2A/RO/tp3/test.opb copie 3.txt\")\n",
    "\n",
    "ma, x = sacados(prix,poids,capacite)"
   ]
  },
  {
   "cell_type": "markdown",
   "metadata": {},
   "source": [
    "1)Fonctionnement de l'algorithme\n",
    " La fonction sacados prend en entrée une liste de prix prices, une liste de poids weights, et une capacité maximale capacity. Elle retourne un tuple contenant la valeur maximale obtenue et une liste de sélection d'objets (1 pour sélectionné, 0 pour non sélectionné).\n",
    "\n",
    "La fonction commence par initialiser une matrice C de taille (n, capacity+1) où n est le nombre d'objets. La première colonne de la matrice est initialisée en fonction de la sélection ou non de l'objet 1. Les autres cellules de la matrice sont remplies en utilisant la formule suivante: C[i][j] = max(C[i-1][j], C[i-1][j-poids[i]]+prix[i]), où i et j sont les indices de ligne et de colonne de la matrice respectivement.\n",
    "\n",
    "Enfin, la fonction parcourt la matrice de bas en haut et de droite à gauche pour obtenir la valeur maximale et la sélection d'objets en utilisant la traceback. La valeur maximale est obtenue en prenant la dernière cellule de la dernière colonne de la matrice C, et la sélection d'objets est obtenue en comparant les cellules de la matrice à chaque étape.\n",
    "\n",
    "\n"
   ]
  },
  {
   "cell_type": "markdown",
   "metadata": {},
   "source": [
    "A une étape n donnée la relation de récurrence permet de regarder si le nouvelle objet peut s'ajouter à la meilleure solution déjà trouvée si ce n'est pas possible il regarde toute les anciennes meilleures combinaisons et prend la meilleure de toutes les combinaisons obtenues. Cela respecte donc les contraintes de capacité et on trouve bien la solution optimale dans à la dernière ligne et dernière colonne du tableau."
   ]
  },
  {
   "cell_type": "markdown",
   "metadata": {},
   "source": [
    "La programmation dynamique résout le problème en construisant une table de solutions partielles. On remplit cette table en commençant par les cas les plus simples et en utilisant ces solutions pour résoudre les cas plus complexes.\n",
    "\n",
    "Le branch and bound, quant à lui, résout le problème en utilisant une approche de recherche en arbre. On parcourt l'arbre en éliminant les branches qui ne peuvent pas conduire à une meilleure solution que la meilleure solution trouvée jusqu'à présent.\n",
    "\n",
    "En général, la programmation dynamique est considérée comme étant plus rapide que le branch and bound pour résoudre le problème du sac à dos, mais elle nécessite plus de mémoire car elle doit stocker toutes les solutions partielles dans une table. Le branch and bound, quant à lui, nécessite moins de mémoire, mais il peut être plus lent car il implique une recherche exhaustive de l'arbre."
   ]
  },
  {
   "cell_type": "code",
   "execution_count": null,
   "metadata": {},
   "outputs": [],
   "source": []
  }
 ],
 "metadata": {
  "kernelspec": {
   "display_name": "Julia 1.8.2",
   "language": "julia",
   "name": "julia-1.8"
  },
  "language_info": {
   "file_extension": ".jl",
   "mimetype": "application/julia",
   "name": "julia",
   "version": "1.8.2"
  }
 },
 "nbformat": 4,
 "nbformat_minor": 4
}
