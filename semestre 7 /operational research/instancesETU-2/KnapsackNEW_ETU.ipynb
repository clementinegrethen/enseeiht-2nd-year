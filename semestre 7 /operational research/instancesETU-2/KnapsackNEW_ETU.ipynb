{
 "cells": [
  {
   "cell_type": "markdown",
   "metadata": {},
   "source": [
    "# TP 2-3 : Branch-and-borneSupapplied to a knapsack problem"
   ]
  },
  {
   "cell_type": "markdown",
   "metadata": {},
   "source": [
    "### Initialisation (à faire une seule fois)"
   ]
  },
  {
   "cell_type": "code",
   "execution_count": 1,
   "metadata": {},
   "outputs": [
    {
     "name": "stderr",
     "output_type": "stream",
     "text": [
      "\u001b[32m\u001b[1m    Updating\u001b[22m\u001b[39m registry at `~/.julia/registries/General.toml`\n",
      "\u001b[32m\u001b[1m   Resolving\u001b[22m\u001b[39m package versions...\n",
      "\u001b[32m\u001b[1m  No Changes\u001b[22m\u001b[39m to `~/.julia/environments/v1.8/Project.toml`\n",
      "\u001b[32m\u001b[1m  No Changes\u001b[22m\u001b[39m to `~/.julia/environments/v1.8/Manifest.toml`\n",
      "\u001b[32m\u001b[1m   Resolving\u001b[22m\u001b[39m package versions...\n",
      "\u001b[32m\u001b[1m  No Changes\u001b[22m\u001b[39m to `~/.julia/environments/v1.8/Project.toml`\n",
      "\u001b[32m\u001b[1m  No Changes\u001b[22m\u001b[39m to `~/.julia/environments/v1.8/Manifest.toml`\n"
     ]
    }
   ],
   "source": [
    "import Pkg; \n",
    "Pkg.add(\"GraphRecipes\"); Pkg.add(\"Plots\"); \n",
    "using GraphRecipes, Plots #only used to visualize the search tree at the end of the branch-and-borneSup"
   ]
  },
  {
   "cell_type": "markdown",
   "metadata": {},
   "source": [
    "### Récupération des données"
   ]
  },
  {
   "cell_type": "code",
   "execution_count": 2,
   "metadata": {},
   "outputs": [
    {
     "data": {
      "text/plain": [
       "readKnaptxtInstance (generic function with 1 method)"
      ]
     },
     "execution_count": 2,
     "metadata": {},
     "output_type": "execute_result"
    }
   ],
   "source": [
    "#ne change pas \n",
    "function readKnaptxtInstance(filename)\n",
    "    price=[]\n",
    "    weight=[]\n",
    "    KnapCap=[]\n",
    "    open(filename) do f\n",
    "        for i in 1:3\n",
    "            tok = split(readline(f))\n",
    "            if(tok[1] == \"ListPrices=\")\n",
    "                for i in 2:(length(tok)-1)\n",
    "                    push!(price,parse(Int64, tok[i]))\n",
    "                end\n",
    "            elseif(tok[1] == \"ListWeights=\")\n",
    "                for i in 2:(length(tok)-1)\n",
    "                    push!(weight,parse(Int64, tok[i]))\n",
    "                end\n",
    "            elseif(tok[1] == \"Capacity=\")\n",
    "                push!(KnapCap, parse(Int64, tok[2]))\n",
    "            else\n",
    "                println(\"Unknown read :\", tok)\n",
    "            end \n",
    "        end\n",
    "    end\n",
    "    capacity=KnapCap[1]\n",
    "    return price, weight, capacity\n",
    "end\n"
   ]
  },
  {
   "cell_type": "markdown",
   "metadata": {},
   "source": [
    "### Tests de sondabilités TA, TO et TR basés sur le modèle linéaire"
   ]
  },
  {
   "cell_type": "code",
   "execution_count": 3,
   "metadata": {},
   "outputs": [
    {
     "data": {
      "text/plain": [
       "TestsSondabilite_LP (generic function with 1 method)"
      ]
     },
     "execution_count": 3,
     "metadata": {},
     "output_type": "execute_result"
    }
   ],
   "source": [
    "\n",
    "# ADAPTED\n",
    "function value( var)\n",
    "    return var.value\n",
    "end\n",
    "\n",
    "\n",
    "function TestsSondabilite_LP(model2, BestProfit, Bestsol, resultat_non_trie)\n",
    "    TA, TO, TR = false, false, false\n",
    "    # on remplace avec le type enregistrement de la structure model\n",
    "    if(!model2.feasable)#Test de faisabilite\n",
    "        TA=true\n",
    "        println(\"TA\")\n",
    "    elseif(model2.borneSup<= BestProfit) #Test d'optimalite\n",
    "        TO=true\n",
    "        println(\"TO\")\n",
    "    elseif(model2.degLib==1) #Test de resolution\n",
    "        TR=true\n",
    "        println(\"TR\")\n",
    "        \n",
    "        \n",
    "        #if (value(benef) >= BestProfit)\n",
    "        if (sum([var.value * model2.prices[var.index] for var in model2.variables]) >= BestProfit)\n",
    "            Bestsol = value.(model2.variables) # la solution best sol sera dans l'ordre décroissant des ratio \n",
    "            # il est plus intéressant pour nous d'avoir la solution dans l'ordre des index des objets\n",
    "            # d'où la création de resultat_non_trie\n",
    "            BestProfit = sum([var.value * model2.prices[var.index] for var in model2.variables])\n",
    "            resultat_non_trie= [(var.index) for (index, var) in enumerate(model2.variables) if var.value == 1.0]\n",
    "            println(\"\\nNew Solution memorized \", Bestsol, \" with bestprofit \", BestProfit, \"\\n\")\n",
    "\n",
    "        end\n",
    "    else\n",
    "        println(\"non sondable\")\n",
    "    end\n",
    "    TA, TO, TR, Bestsol, BestProfit, resultat_non_trie\n",
    "end\n",
    "\n",
    "\n",
    "    "
   ]
  },
  {
   "cell_type": "markdown",
   "metadata": {},
   "source": [
    "## Procédure de séparation (branching) et stratégie d'exploration permettant de se placer au prochain noeud à traiter"
   ]
  },
  {
   "cell_type": "code",
   "execution_count": 4,
   "metadata": {},
   "outputs": [
    {
     "data": {
      "text/plain": [
       "ExplorerAutreNoeud (generic function with 1 method)"
      ]
     },
     "execution_count": 4,
     "metadata": {},
     "output_type": "execute_result"
    }
   ],
   "source": [
    "function SeparerNoeud(model2, listobjs, listvals)\n",
    "   # si le noeud n'est pas sondable on le sépare en deux noeuds\n",
    "   # On prend la variable qui a le plus grand ratio prix/poids donc le premier libre de la liste des variables\n",
    "# on va à gauche       \n",
    "# on la fixe à 1 et on la met dans la liste des variables\n",
    "    local variable_a_stocker     \n",
    "        for (i, var) in enumerate(model2.variables)\n",
    "            # on prend la première variable disponible, comme elles sont triées par ratio décroissant,\n",
    "            if var.free\n",
    "                var = model2.variables[i]\n",
    "                var.free = false\n",
    "                var.value = 1.0\n",
    "                model2.degLib-= 1 # on diminue le nombre de degrés de liberté\n",
    "                variable_a_stocker  = var\n",
    "                variable_a_stocker  = var\n",
    "                # on sort de la boucle quand on a trouvé la première variable disponible\n",
    "                break\n",
    "            end\n",
    "        end\n",
    "    \n",
    "\n",
    "    push!(listobjs, variable_a_stocker ) #save the identity of the object selected for branching\n",
    "    push!(listvals, 1.0) #save the node selected, identified by the value assigned to the variable/object chosen\n",
    "\n",
    "    listobjs, listvals\n",
    "end\n",
    "\n",
    "\n",
    "function ExplorerAutreNoeud(model2, listobjs, listvals, listnodes)\n",
    "    #this node is sondable, go back to parent node then right child if possible\n",
    "    \n",
    "    stop=false\n",
    "    #check if we are not at the root node\n",
    "    if (length(listobjs)>= 1)\n",
    "        #go back to parent node\n",
    "        obj=pop!(listobjs)\n",
    "        theval=pop!(listvals)\n",
    "        tmp=pop!(listnodes)\n",
    "        obj.free = true\n",
    "        model2.degLib+= 1\n",
    "\n",
    "        #go to right child if possible, otherwise go back to parent\n",
    "        while( (theval==0.0) && (length(listobjs)>= 1))\n",
    "            obj=pop!(listobjs)\n",
    "            theval=pop!(listvals)\n",
    "            tmp=pop!(listnodes)\n",
    "            # on libère la variable\n",
    "            obj.free = true\n",
    "            model2.degLib+= 1\n",
    "        end\n",
    "        # if theval==1.0, we are at the root node, so we stop\n",
    "        if theval==1.0\n",
    "            #the root node was sondable\n",
    "            obj.free = false\n",
    "            obj.value = 0.0\n",
    "            model2.degLib-= 1\n",
    "            push!(listobjs,obj)\n",
    "            push!(listvals,0.0)\n",
    "        else\n",
    "            println(\"\\nFINISHED\")\n",
    "            stop=true\n",
    "        end\n",
    "    else\n",
    "        #the root node was sondable\n",
    "        println(\"\\nFINISHED\")\n",
    "        stop=true\n",
    "    end\n",
    "    listobjs, listvals, listnodes, stop \n",
    "end"
   ]
  },
  {
   "cell_type": "markdown",
   "metadata": {},
   "source": [
    "###  Création de la relaxation linéaire (= modèle associé au noeud 0): <span style=\"color:red\"> SECTION A SUPPRIMER !!!! </span>\n",
    "\n",
    "<span style=\"color:red\"> Cette section est à commenter/supprimer et remplacer par vos propres calculs de bornes supérieures et autres, par exemple basées sur les bornes 1 et 2 vues en cours, ou d'autres calculs de bornes de votre choix/conception validés au préalable par votre encadrant/e de TP </span>"
   ]
  },
  {
   "cell_type": "code",
   "execution_count": 5,
   "metadata": {},
   "outputs": [
    {
     "data": {
      "text/plain": [
       "relaxationlineaire (generic function with 1 method)"
      ]
     },
     "execution_count": 5,
     "metadata": {},
     "output_type": "execute_result"
    }
   ],
   "source": [
    "# implémentation pourl le tp2 \n",
    "\n",
    "# une variable est définie ainsi:\n",
    "mutable struct varDecision\n",
    "    value::Float64  #valeur de la variable\n",
    "    index::Int64    #indice de la variable\n",
    "    free::Bool     #indique si la variable est libre ou non\n",
    "   \n",
    "end\n",
    "\n",
    "\n",
    "\n",
    "\n",
    "#Def du modèle\n",
    "mutable struct myModel\n",
    "    unsortedVariables::Array{varDecision,1}\n",
    "    variables::Array{varDecision,1} #liste des variables dans l'ordre décroissant de leur ratio prix/poids\n",
    "    degLib::Int64 #   \n",
    "    prices::Array{Int64,1} #liste des prix\n",
    "    weights::Array{Int64,1} #liste des poids\n",
    "    capacity::Int64      #capacité du sac\n",
    "    feasable::Bool #indique si le noeud est faisable ou non\n",
    "    borneSup::Float64 #borne supérieure du noeud\n",
    "end\n",
    "\n",
    "   \n",
    "    \n",
    "#calcul la borne supérieure selon la méthode de la borne 1\n",
    "function relaxationlineaire(model)\n",
    "    #on s'assure que la capacité est suffisante pour contenir tous les objets\n",
    "    verif=((model.capacity-(mapreduce(var -> (var.free ? 0. : var.value) * model.weights[var.index], +, model.variables, init = 0))>=10^(-5)))\n",
    "    residualCapacity = model.capacity - (mapreduce(var -> (var.free ? 0. : var.value) * model.weights[var.index], +, model.variables, init = 0))\n",
    "    borneSup=-Inf #borne inférieure fixée à -Inf par convention\n",
    "    if verif \n",
    "        # borneSupvaut le profit à cet instant \n",
    "        # vaut la borne inférieure \n",
    "        borneSup=mapreduce(var -> (var.free ? 0. : var.value) * model.prices[var.index], +, model.variables, init = 0)\n",
    "        # on calcule la borne supérieure\n",
    "        for var in model.variables\n",
    "            if var.free\n",
    "                borneSup+= residualCapacity * (model.prices[var.index] / model.weights[var.index])\n",
    "                break\n",
    "            end\n",
    "        end\n",
    "    end\n",
    "    model.feasable=verif \n",
    "    model.borneSup=borneSup# on met à jour la borne supérieure du noeud\n",
    "end\n",
    "\n",
    "\n",
    "\n",
    "\n",
    "\n",
    "\n"
   ]
  },
  {
   "cell_type": "code",
   "execution_count": 6,
   "metadata": {},
   "outputs": [
    {
     "data": {
      "text/plain": [
       "CreationModele_LP (generic function with 1 method)"
      ]
     },
     "execution_count": 6,
     "metadata": {},
     "output_type": "execute_result"
    }
   ],
   "source": [
    "\n",
    "\n",
    "# ADAPTED\n",
    "function CreationModele_LP(price, weight, capacity)\n",
    "    # ROOT NODE\n",
    "        \n",
    "        perm = sortperm(price ./ weight, rev = true)\n",
    "        N = length(price)\n",
    "        vars = Array{varDecision, 1}(undef, N)\n",
    "        for i = 1:N\n",
    "            vars[i] = varDecision(0.0, i, true)\n",
    "        end\n",
    "        model2 = myModel(vars, view(vars, perm), N, price, weight, capacity, false, -Inf)\n",
    "        \n",
    "        return model2\n",
    "    end"
   ]
  },
  {
   "cell_type": "markdown",
   "metadata": {},
   "source": []
  },
  {
   "cell_type": "markdown",
   "metadata": {},
   "source": [
    "### Boucle principale : résoudre une relaxation, appliquer les tests de sondabilité, identifier le prochain noeud, répéter."
   ]
  },
  {
   "cell_type": "code",
   "execution_count": 7,
   "metadata": {},
   "outputs": [
    {
     "data": {
      "text/plain": [
       "SolveKnapInstance (generic function with 1 method)"
      ]
     },
     "execution_count": 7,
     "metadata": {},
     "output_type": "execute_result"
    }
   ],
   "source": [
    "function SolveKnapInstance(filename)\n",
    "\n",
    "    price, weight, capacity = readKnaptxtInstance(filename)\n",
    "#on enlève le x \n",
    "    model2= CreationModele_LP(price, weight, capacity)\n",
    "\n",
    "    #create the structure to memorize the search tree for visualization at the end\n",
    "    trParentnodes=Int64[] #will store orig node of arc in search tree\n",
    "    trChildnodes=Int64[] #will store destination node of arc in search tree\n",
    "    trNamenodes=[] #will store names of nodes in search tree\n",
    "\n",
    "    #intermediate structure to navigate in the search tree\n",
    "      #intermediate structure to navigate in the search tree\n",
    "      listobjs=[]\n",
    "      listvals=[]\n",
    "      listnodes=[]\n",
    "\n",
    "    BestProfit=-1\n",
    "    #cette variable contient les objets  que le sac va contenir dans la solution optimale\n",
    "    resultat_non_trie=[]\n",
    "    Bestsol=[]\n",
    "\n",
    "    current_node_number=0\n",
    "    stop = false\n",
    "\n",
    "    while(!stop)\n",
    "\n",
    "        println(\"\\nNode number \", current_node_number, \": \\n---------------\\n\")\n",
    "\n",
    "        #Update the graphical tree\n",
    "        push!(trNamenodes,current_node_number+1) \n",
    "        if(length(trNamenodes)>=2)\n",
    "            push!(trParentnodes,listnodes[end]+1) # +1 because the 1st node is \"node 0\"\n",
    "            push!(trChildnodes, current_node_number+1) # +1 because the 1st node is \"node 0\"\n",
    "        end\n",
    "        push!(listnodes, current_node_number)\n",
    "        # on calcul la borne supérieure\n",
    "        relaxationlineaire(model2)\n",
    "        # on regarde si le noeud est sondable\n",
    "        TA, TO, TR, Bestsol, BestProfit,resultat_non_trie  = TestsSondabilite_LP(model2, BestProfit, Bestsol , resultat_non_trie)\n",
    "        \n",
    "        is_node_sondable = TA || TO || TR\n",
    "\n",
    "        #Reset_LP!(model2, x, listobjs)\n",
    "\n",
    "        if(!is_node_sondable)\n",
    "            # le noeud n'est pas sondable, on va créer deux fils\n",
    "                listobjs, listvals = SeparerNoeud(model2, listobjs, listvals)\n",
    "        else\n",
    "            # le noeud est sondable,  on explore son frère \n",
    "                listobjs, listvals, listnodes, stop = ExplorerAutreNoeud(model2, listobjs, listvals, listnodes)\n",
    "        end\n",
    "\n",
    "        \n",
    "\n",
    "        current_node_number = current_node_number + 1\n",
    "    end\n",
    "    println(\"\\n******\\n\\nOptimal value = \", BestProfit, \"\\n\\nOptimal x=\", Bestsol)\n",
    "    \n",
    "\n",
    "    return BestProfit, Bestsol, trParentnodes, trChildnodes, trNamenodes, resultat_non_trie\n",
    "\n",
    "end"
   ]
  },
  {
   "cell_type": "markdown",
   "metadata": {},
   "source": [
    "### Affichage du résultat final"
   ]
  },
  {
   "cell_type": "code",
   "execution_count": 15,
   "metadata": {},
   "outputs": [
    {
     "name": "stdout",
     "output_type": "stream",
     "text": [
      "\n",
      "Node number 0: \n",
      "---------------\n",
      "\n",
      "non sondable\n",
      "\n",
      "Node number 1: \n",
      "---------------\n",
      "\n",
      "non sondable\n",
      "\n",
      "Node number 2: \n",
      "---------------\n",
      "\n",
      "TA\n",
      "\n",
      "Node number 3: \n",
      "---------------\n",
      "\n",
      "non sondable\n",
      "\n",
      "Node number 4: \n",
      "---------------\n",
      "\n",
      "TR\n",
      "\n",
      "New Solution memorized [1.0, 0.0, 1.0, 0.0] with bestprofit 65.0\n",
      "\n",
      "\n",
      "Node number 5: \n",
      "---------------\n",
      "\n",
      "TO\n",
      "\n",
      "Node number 6: \n",
      "---------------\n",
      "\n",
      "TO\n",
      "\n",
      "FINISHED\n",
      "\n",
      "******\n",
      "\n",
      "Optimal value = 65.0\n",
      "\n",
      "Optimal x=[1.0, 0.0, 1.0, 0.0]\n",
      "\n",
      "******\n",
      "\n",
      "Optimal value = 65.0\n",
      "\n",
      "Optimal(dans l'ordre croissant des ratio) x=[1.0, 0.0, 1.0, 0.0]\n",
      "résultat optimal dans l'odre des indices des objets [2, 4]\n"
     ]
    },
    {
     "data": {
      "image/png": "[encoded data removed]",
      "image/svg+xml": "<?xml version=\"1.0\" encoding=\"utf-8\"?>\n<svg xmlns=\"http://www.w3.org/2000/svg\" xmlns:xlink=\"http://www.w3.org/1999/xlink\" width=\"600\" height=\"400\" viewBox=\"0 0 2400 1600\">\n<defs>\n  <clipPath id=\"clip040\">\n    <rect x=\"0\" y=\"0\" width=\"2400\" height=\"1600\"/>\n  </clipPath>\n</defs>\n<path clip-path=\"url(#clip040)\" d=\"\nM0 1600 L2400 1600 L2400 0 L0 0  Z\n  \" fill=\"#ffffff\" fill-rule=\"evenodd\" fill-opacity=\"1\"/>\n<defs>\n  <clipPath id=\"clip041\">\n    <rect x=\"480\" y=\"0\" width=\"1681\" height=\"1600\"/>\n  </clipPath>\n</defs>\n<path clip-path=\"url(#clip040)\" d=\"\nM447.244 1552.76 L1952.76 1552.76 L1952.76 47.2441 L447.244 47.2441  Z\n  \" fill=\"#ffffff\" fill-rule=\"evenodd\" fill-opacity=\"1\"/>\n<defs>\n  <clipPath id=\"clip042\">\n    <rect x=\"447\" y=\"47\" width=\"1507\" height=\"1507\"/>\n  </clipPath>\n</defs>\n<polyline clip-path=\"url(#clip042)\" style=\"stroke:#000000; stroke-linecap:round; stroke-linejoin:round; stroke-width:4; stroke-opacity:1; fill:none\" points=\"\n  1063.74,262.317 1064.76,275.684 1067.75,288.586 1072.55,301.056 1079.02,313.128 1087.02,324.839 1096.39,336.221 1107,347.311 1118.69,358.141 1131.33,368.747 \n  1144.77,379.163 1158.86,389.424 1173.46,399.564 1188.42,409.617 1203.6,419.619 1218.85,429.604 1234.03,439.606 1248.99,449.66 1263.59,459.8 1277.68,470.06 \n  1291.12,480.476 1303.76,491.082 1315.45,501.913 1326.06,513.002 1335.43,524.384 1343.43,536.095 1349.9,548.168 1354.7,560.638 1357.69,573.539 1358.71,586.906 \n  \n  \"/>\n<polyline clip-path=\"url(#clip042)\" style=\"stroke:#000000; stroke-linecap:round; stroke-linejoin:round; stroke-width:4; stroke-opacity:1; fill:none\" points=\"\n  1358.71,586.906 1360.04,600.1 1363.87,612.417 1370.04,623.922 1378.36,634.68 1388.63,644.757 1400.67,654.217 1414.3,663.124 1429.32,671.545 1445.56,679.543 \n  1462.82,687.185 1480.92,694.534 1499.68,701.656 1518.9,708.615 1538.4,715.477 1558,722.307 1577.5,729.169 1596.72,736.128 1615.47,743.25 1633.57,750.599 \n  1650.84,758.24 1667.08,766.239 1682.1,774.659 1695.73,783.567 1707.77,793.027 1718.04,803.103 1726.36,813.862 1732.52,825.367 1736.36,837.684 1737.68,850.878 \n  \n  \"/>\n<polyline clip-path=\"url(#clip042)\" style=\"stroke:#000000; stroke-linecap:round; stroke-linejoin:round; stroke-width:4; stroke-opacity:1; fill:none\" points=\"\n  1358.71,586.906 1358.11,599.937 1356.35,612.997 1353.52,626.082 1349.71,639.191 1345,652.323 1339.47,665.474 1333.23,678.643 1326.33,691.827 1318.89,705.025 \n  1310.97,718.235 1302.67,731.454 1294.07,744.68 1285.25,757.911 1276.31,771.146 1267.33,784.382 1258.38,797.616 1249.57,810.848 1240.97,824.074 1232.67,837.293 \n  1224.75,850.502 1217.3,863.7 1210.41,876.885 1204.16,890.054 1198.64,903.205 1193.93,916.336 1190.12,929.446 1187.29,942.531 1185.53,955.59 1184.92,968.622 \n  \n  \"/>\n<polyline clip-path=\"url(#clip042)\" style=\"stroke:#000000; stroke-linecap:round; stroke-linejoin:round; stroke-width:4; stroke-opacity:1; fill:none\" points=\"\n  1184.92,968.622 1184.03,982.444 1181.43,996.031 1177.26,1009.4 1171.64,1022.57 1164.69,1035.56 1156.54,1048.38 1147.33,1061.05 1137.16,1073.6 1126.18,1086.03 \n  1114.5,1098.36 1102.25,1110.62 1089.57,1122.82 1076.56,1134.97 1063.37,1147.09 1050.12,1159.21 1036.93,1171.34 1023.92,1183.49 1011.24,1195.68 998.992,1207.94 \n  987.315,1220.28 976.33,1232.71 966.166,1245.25 956.948,1257.92 948.802,1270.75 941.854,1283.73 936.231,1296.9 932.058,1310.27 929.461,1323.86 928.568,1337.68 \n  \n  \"/>\n<polyline clip-path=\"url(#clip042)\" style=\"stroke:#000000; stroke-linecap:round; stroke-linejoin:round; stroke-width:4; stroke-opacity:1; fill:none\" points=\"\n  1184.92,968.622 1185.89,981.703 1188.69,994.396 1193.19,1006.73 1199.26,1018.73 1206.75,1030.43 1215.54,1041.86 1225.49,1053.04 1236.45,1064 1248.3,1074.78 \n  1260.9,1085.4 1274.12,1095.89 1287.8,1106.28 1301.83,1116.6 1316.06,1126.87 1330.36,1137.13 1344.6,1147.4 1358.62,1157.72 1372.31,1168.11 1385.52,1178.6 \n  1398.12,1189.22 1409.97,1200 1420.94,1210.96 1430.89,1222.14 1439.67,1233.57 1447.17,1245.27 1453.24,1257.27 1457.74,1269.6 1460.54,1282.29 1461.5,1295.38 \n  \n  \"/>\n<polyline clip-path=\"url(#clip042)\" style=\"stroke:#000000; stroke-linecap:round; stroke-linejoin:round; stroke-width:4; stroke-opacity:1; fill:none\" points=\"\n  1063.74,262.317 1062.34,273.909 1058.27,284.73 1051.74,294.838 1042.93,304.29 1032.05,313.143 1019.3,321.454 1004.86,329.28 988.946,336.678 971.746,343.705 \n  953.46,350.418 934.286,356.875 914.42,363.132 894.06,369.246 873.404,375.275 852.649,381.275 831.993,387.304 811.633,393.418 791.767,399.675 772.592,406.132 \n  754.307,412.845 737.107,419.872 721.191,427.27 706.756,435.096 694.001,443.407 683.121,452.26 674.316,461.712 667.782,471.82 663.716,482.641 662.317,494.233 \n  \n  \"/>\n<path clip-path=\"url(#clip042)\" d=\"\nM1085.67 262.317 L1074.7 243.319 L1052.77 243.319 L1041.8 262.317 L1052.77 281.316 L1074.7 281.316 L1085.67 262.317 L1085.67 262.317  Z\n  \" fill=\"#009af9\" fill-rule=\"evenodd\" fill-opacity=\"1\"/>\n<polyline clip-path=\"url(#clip042)\" style=\"stroke:#000000; stroke-linecap:round; stroke-linejoin:round; stroke-width:4; stroke-opacity:1; fill:none\" points=\"\n  1085.67,262.317 1074.7,243.319 1052.77,243.319 1041.8,262.317 1052.77,281.316 1074.7,281.316 1085.67,262.317 \n  \"/>\n<path clip-path=\"url(#clip042)\" d=\"\nM1380.65 586.906 L1369.68 567.908 L1347.75 567.908 L1336.78 586.906 L1347.75 605.904 L1369.68 605.904 L1380.65 586.906 L1380.65 586.906  Z\n  \" fill=\"#009af9\" fill-rule=\"evenodd\" fill-opacity=\"1\"/>\n<polyline clip-path=\"url(#clip042)\" style=\"stroke:#000000; stroke-linecap:round; stroke-linejoin:round; stroke-width:4; stroke-opacity:1; fill:none\" points=\"\n  1380.65,586.906 1369.68,567.908 1347.75,567.908 1336.78,586.906 1347.75,605.904 1369.68,605.904 1380.65,586.906 \n  \"/>\n<path clip-path=\"url(#clip042)\" d=\"\nM1759.62 850.878 L1748.65 831.879 L1726.71 831.879 L1715.75 850.878 L1726.71 869.876 L1748.65 869.876 L1759.62 850.878 L1759.62 850.878  Z\n  \" fill=\"#009af9\" fill-rule=\"evenodd\" fill-opacity=\"1\"/>\n<polyline clip-path=\"url(#clip042)\" style=\"stroke:#000000; stroke-linecap:round; stroke-linejoin:round; stroke-width:4; stroke-opacity:1; fill:none\" points=\"\n  1759.62,850.878 1748.65,831.879 1726.71,831.879 1715.75,850.878 1726.71,869.876 1748.65,869.876 1759.62,850.878 \n  \"/>\n<path clip-path=\"url(#clip042)\" d=\"\nM1206.86 968.622 L1195.89 949.623 L1173.95 949.623 L1162.99 968.622 L1173.95 987.62 L1195.89 987.62 L1206.86 968.622 L1206.86 968.622  Z\n  \" fill=\"#009af9\" fill-rule=\"evenodd\" fill-opacity=\"1\"/>\n<polyline clip-path=\"url(#clip042)\" style=\"stroke:#000000; stroke-linecap:round; stroke-linejoin:round; stroke-width:4; stroke-opacity:1; fill:none\" points=\"\n  1206.86,968.622 1195.89,949.623 1173.95,949.623 1162.99,968.622 1173.95,987.62 1195.89,987.62 1206.86,968.622 \n  \"/>\n<path clip-path=\"url(#clip042)\" d=\"\nM950.505 1337.68 L939.537 1318.68 L917.599 1318.68 L906.631 1337.68 L917.599 1356.68 L939.537 1356.68 L950.505 1337.68 L950.505 1337.68  Z\n  \" fill=\"#009af9\" fill-rule=\"evenodd\" fill-opacity=\"1\"/>\n<polyline clip-path=\"url(#clip042)\" style=\"stroke:#000000; stroke-linecap:round; stroke-linejoin:round; stroke-width:4; stroke-opacity:1; fill:none\" points=\"\n  950.505,1337.68 939.537,1318.68 917.599,1318.68 906.631,1337.68 917.599,1356.68 939.537,1356.68 950.505,1337.68 \n  \"/>\n<path clip-path=\"url(#clip042)\" d=\"\nM1483.44 1295.38 L1472.47 1276.38 L1450.54 1276.38 L1439.57 1295.38 L1450.54 1314.37 L1472.47 1314.37 L1483.44 1295.38 L1483.44 1295.38  Z\n  \" fill=\"#009af9\" fill-rule=\"evenodd\" fill-opacity=\"1\"/>\n<polyline clip-path=\"url(#clip042)\" style=\"stroke:#000000; stroke-linecap:round; stroke-linejoin:round; stroke-width:4; stroke-opacity:1; fill:none\" points=\"\n  1483.44,1295.38 1472.47,1276.38 1450.54,1276.38 1439.57,1295.38 1450.54,1314.37 1472.47,1314.37 1483.44,1295.38 \n  \"/>\n<path clip-path=\"url(#clip042)\" d=\"\nM684.255 494.233 L673.286 475.234 L651.348 475.234 L640.38 494.233 L651.348 513.231 L673.286 513.231 L684.255 494.233 L684.255 494.233  Z\n  \" fill=\"#009af9\" fill-rule=\"evenodd\" fill-opacity=\"1\"/>\n<polyline clip-path=\"url(#clip042)\" style=\"stroke:#000000; stroke-linecap:round; stroke-linejoin:round; stroke-width:4; stroke-opacity:1; fill:none\" points=\"\n  684.255,494.233 673.286,475.234 651.348,475.234 640.38,494.233 651.348,513.231 673.286,513.231 684.255,494.233 \n  \"/>\n<path clip-path=\"url(#clip042)\" d=\"M1063.74 262.717 L1063.39 262.517 L1063.39 262.117 L1063.74 261.917 L1064.08 262.117 L1064.08 262.517 Z\" fill=\"#009af9\" fill-rule=\"evenodd\" fill-opacity=\"1\" stroke=\"#000000\" stroke-opacity=\"1\" stroke-width=\"3.2\"/>\n<path clip-path=\"url(#clip042)\" d=\"M1358.71 587.306 L1358.37 587.106 L1358.37 586.706 L1358.71 586.506 L1359.06 586.706 L1359.06 587.106 Z\" fill=\"#009af9\" fill-rule=\"evenodd\" fill-opacity=\"1\" stroke=\"#000000\" stroke-opacity=\"1\" stroke-width=\"3.2\"/>\n<path clip-path=\"url(#clip042)\" d=\"M1737.68 851.278 L1737.34 851.078 L1737.34 850.678 L1737.68 850.478 L1738.03 850.678 L1738.03 851.078 Z\" fill=\"#009af9\" fill-rule=\"evenodd\" fill-opacity=\"1\" stroke=\"#000000\" stroke-opacity=\"1\" stroke-width=\"3.2\"/>\n<path clip-path=\"url(#clip042)\" d=\"M1184.92 969.022 L1184.58 968.822 L1184.58 968.422 L1184.92 968.222 L1185.27 968.422 L1185.27 968.822 Z\" fill=\"#009af9\" fill-rule=\"evenodd\" fill-opacity=\"1\" stroke=\"#000000\" stroke-opacity=\"1\" stroke-width=\"3.2\"/>\n<path clip-path=\"url(#clip042)\" d=\"M928.568 1338.08 L928.222 1337.88 L928.222 1337.48 L928.568 1337.28 L928.914 1337.48 L928.914 1337.88 Z\" fill=\"#009af9\" fill-rule=\"evenodd\" fill-opacity=\"1\" stroke=\"#000000\" stroke-opacity=\"1\" stroke-width=\"3.2\"/>\n<path clip-path=\"url(#clip042)\" d=\"M1461.5 1295.78 L1461.16 1295.58 L1461.16 1295.18 L1461.5 1294.98 L1461.85 1295.18 L1461.85 1295.58 Z\" fill=\"#009af9\" fill-rule=\"evenodd\" fill-opacity=\"1\" stroke=\"#000000\" stroke-opacity=\"1\" stroke-width=\"3.2\"/>\n<path clip-path=\"url(#clip042)\" d=\"M662.317 494.633 L661.971 494.433 L661.971 494.033 L662.317 493.833 L662.664 494.033 L662.664 494.433 Z\" fill=\"#009af9\" fill-rule=\"evenodd\" fill-opacity=\"1\" stroke=\"#000000\" stroke-opacity=\"1\" stroke-width=\"3.2\"/>\n<path clip-path=\"url(#clip040)\" d=\"M1055.32 273.994 L1062 273.994 L1062 250.924 L1054.73 252.382 L1054.73 248.656 L1061.96 247.197 L1066.05 247.197 L1066.05 273.994 L1072.74 273.994 L1072.74 277.437 L1055.32 277.437 L1055.32 273.994 Z\" fill=\"#000000\" fill-rule=\"evenodd\" fill-opacity=\"1\" /><path clip-path=\"url(#clip040)\" d=\"M1354.04 598.583 L1368.31 598.583 L1368.31 602.026 L1349.11 602.026 L1349.11 598.583 Q1351.44 596.172 1355.45 592.122 Q1359.48 588.05 1360.52 586.876 Q1362.48 584.668 1363.25 583.149 Q1364.04 581.609 1364.04 580.131 Q1364.04 577.721 1362.34 576.202 Q1360.66 574.682 1357.94 574.682 Q1356.02 574.682 1353.87 575.351 Q1351.75 576.019 1349.32 577.376 L1349.32 573.244 Q1351.79 572.252 1353.93 571.746 Q1356.08 571.239 1357.86 571.239 Q1362.56 571.239 1365.36 573.589 Q1368.15 575.938 1368.15 579.868 Q1368.15 581.731 1367.44 583.412 Q1366.76 585.073 1364.91 587.342 Q1364.41 587.929 1361.69 590.744 Q1358.98 593.539 1354.04 598.583 Z\" fill=\"#000000\" fill-rule=\"evenodd\" fill-opacity=\"1\" /><path clip-path=\"url(#clip040)\" d=\"M1741.4 849.693 Q1744.34 850.321 1745.98 852.306 Q1747.64 854.29 1747.64 857.207 Q1747.64 861.683 1744.56 864.134 Q1741.48 866.585 1735.81 866.585 Q1733.91 866.585 1731.88 866.2 Q1729.87 865.836 1727.73 865.086 L1727.73 861.136 Q1729.43 862.129 1731.45 862.635 Q1733.48 863.142 1735.69 863.142 Q1739.54 863.142 1741.54 861.623 Q1743.57 860.104 1743.57 857.207 Q1743.57 854.534 1741.68 853.035 Q1739.82 851.516 1736.48 851.516 L1732.95 851.516 L1732.95 848.153 L1736.64 848.153 Q1739.66 848.153 1741.26 846.958 Q1742.86 845.743 1742.86 843.475 Q1742.86 841.145 1741.2 839.91 Q1739.56 838.654 1736.48 838.654 Q1734.8 838.654 1732.87 839.019 Q1730.95 839.383 1728.64 840.153 L1728.64 836.507 Q1730.97 835.859 1732.99 835.535 Q1735.04 835.211 1736.84 835.211 Q1741.5 835.211 1744.21 837.337 Q1746.93 839.444 1746.93 843.049 Q1746.93 845.561 1745.49 847.303 Q1744.05 849.024 1741.4 849.693 Z\" fill=\"#000000\" fill-rule=\"evenodd\" fill-opacity=\"1\" /><path clip-path=\"url(#clip040)\" d=\"M1187.56 957.066 L1177.23 973.209 L1187.56 973.209 L1187.56 957.066 M1186.48 953.502 L1191.63 953.502 L1191.63 973.209 L1195.94 973.209 L1195.94 976.612 L1191.63 976.612 L1191.63 983.742 L1187.56 983.742 L1187.56 976.612 L1173.9 976.612 L1173.9 972.662 L1186.48 953.502 Z\" fill=\"#000000\" fill-rule=\"evenodd\" fill-opacity=\"1\" /><path clip-path=\"url(#clip040)\" d=\"M920.061 1322.56 L936.123 1322.56 L936.123 1326.01 L923.808 1326.01 L923.808 1333.42 Q924.699 1333.12 925.591 1332.97 Q926.482 1332.81 927.373 1332.81 Q932.437 1332.81 935.394 1335.59 Q938.351 1338.36 938.351 1343.1 Q938.351 1347.98 935.313 1350.7 Q932.275 1353.39 926.745 1353.39 Q924.841 1353.39 922.856 1353.07 Q920.892 1352.74 918.785 1352.09 L918.785 1347.98 Q920.608 1348.97 922.552 1349.46 Q924.497 1349.95 926.664 1349.95 Q930.168 1349.95 932.214 1348.1 Q934.26 1346.26 934.26 1343.1 Q934.26 1339.94 932.214 1338.1 Q930.168 1336.25 926.664 1336.25 Q925.023 1336.25 923.383 1336.62 Q921.762 1336.98 920.061 1337.75 L920.061 1322.56 Z\" fill=\"#000000\" fill-rule=\"evenodd\" fill-opacity=\"1\" /><path clip-path=\"url(#clip040)\" d=\"M1461.86 1293.75 Q1459.1 1293.75 1457.48 1295.63 Q1455.88 1297.51 1455.88 1300.79 Q1455.88 1304.05 1457.48 1305.96 Q1459.1 1307.84 1461.86 1307.84 Q1464.61 1307.84 1466.21 1305.96 Q1467.83 1304.05 1467.83 1300.79 Q1467.83 1297.51 1466.21 1295.63 Q1464.61 1293.75 1461.86 1293.75 M1469.98 1280.92 L1469.98 1284.65 Q1468.44 1283.92 1466.86 1283.54 Q1465.3 1283.15 1463.76 1283.15 Q1459.71 1283.15 1457.56 1285.89 Q1455.44 1288.62 1455.13 1294.15 Q1456.33 1292.39 1458.13 1291.46 Q1459.93 1290.5 1462.1 1290.5 Q1466.66 1290.5 1469.29 1293.28 Q1471.95 1296.03 1471.95 1300.79 Q1471.95 1305.45 1469.19 1308.27 Q1466.44 1311.08 1461.86 1311.08 Q1456.61 1311.08 1453.84 1307.07 Q1451.06 1303.04 1451.06 1295.41 Q1451.06 1288.24 1454.47 1283.98 Q1457.87 1279.71 1463.6 1279.71 Q1465.14 1279.71 1466.7 1280.01 Q1468.28 1280.32 1469.98 1280.92 Z\" fill=\"#000000\" fill-rule=\"evenodd\" fill-opacity=\"1\" /><path clip-path=\"url(#clip040)\" d=\"M652.595 479.113 L672.039 479.113 L672.039 480.855 L661.061 509.353 L656.788 509.353 L667.118 482.556 L652.595 482.556 L652.595 479.113 Z\" fill=\"#000000\" fill-rule=\"evenodd\" fill-opacity=\"1\" /></svg>\n",
      "text/html": [
       "<?xml version=\"1.0\" encoding=\"utf-8\"?>\n",
       "<svg xmlns=\"http://www.w3.org/2000/svg\" xmlns:xlink=\"http://www.w3.org/1999/xlink\" width=\"600\" height=\"400\" viewBox=\"0 0 2400 1600\">\n",
       "<defs>\n",
       "  <clipPath id=\"clip070\">\n",
       "    <rect x=\"0\" y=\"0\" width=\"2400\" height=\"1600\"/>\n",
       "  </clipPath>\n",
       "</defs>\n",
       "<path clip-path=\"url(#clip070)\" d=\"\n",
       "M0 1600 L2400 1600 L2400 0 L0 0  Z\n",
       "  \" fill=\"#ffffff\" fill-rule=\"evenodd\" fill-opacity=\"1\"/>\n",
       "<defs>\n",
       "  <clipPath id=\"clip071\">\n",
       "    <rect x=\"480\" y=\"0\" width=\"1681\" height=\"1600\"/>\n",
       "  </clipPath>\n",
       "</defs>\n",
       "<path clip-path=\"url(#clip070)\" d=\"\n",
       "M447.244 1552.76 L1952.76 1552.76 L1952.76 47.2441 L447.244 47.2441  Z\n",
       "  \" fill=\"#ffffff\" fill-rule=\"evenodd\" fill-opacity=\"1\"/>\n",
       "<defs>\n",
       "  <clipPath id=\"clip072\">\n",
       "    <rect x=\"447\" y=\"47\" width=\"1507\" height=\"1507\"/>\n",
       "  </clipPath>\n",
       "</defs>\n",
       "<polyline clip-path=\"url(#clip072)\" style=\"stroke:#000000; stroke-linecap:round; stroke-linejoin:round; stroke-width:4; stroke-opacity:1; fill:none\" points=\"\n",
       "  1063.74,262.317 1064.76,275.684 1067.75,288.586 1072.55,301.056 1079.02,313.128 1087.02,324.839 1096.39,336.221 1107,347.311 1118.69,358.141 1131.33,368.747 \n",
       "  1144.77,379.163 1158.86,389.424 1173.46,399.564 1188.42,409.617 1203.6,419.619 1218.85,429.604 1234.03,439.606 1248.99,449.66 1263.59,459.8 1277.68,470.06 \n",
       "  1291.12,480.476 1303.76,491.082 1315.45,501.913 1326.06,513.002 1335.43,524.384 1343.43,536.095 1349.9,548.168 1354.7,560.638 1357.69,573.539 1358.71,586.906 \n",
       "  \n",
       "  \"/>\n",
       "<polyline clip-path=\"url(#clip072)\" style=\"stroke:#000000; stroke-linecap:round; stroke-linejoin:round; stroke-width:4; stroke-opacity:1; fill:none\" points=\"\n",
       "  1358.71,586.906 1360.04,600.1 1363.87,612.417 1370.04,623.922 1378.36,634.68 1388.63,644.757 1400.67,654.217 1414.3,663.124 1429.32,671.545 1445.56,679.543 \n",
       "  1462.82,687.185 1480.92,694.534 1499.68,701.656 1518.9,708.615 1538.4,715.477 1558,722.307 1577.5,729.169 1596.72,736.128 1615.47,743.25 1633.57,750.599 \n",
       "  1650.84,758.24 1667.08,766.239 1682.1,774.659 1695.73,783.567 1707.77,793.027 1718.04,803.103 1726.36,813.862 1732.52,825.367 1736.36,837.684 1737.68,850.878 \n",
       "  \n",
       "  \"/>\n",
       "<polyline clip-path=\"url(#clip072)\" style=\"stroke:#000000; stroke-linecap:round; stroke-linejoin:round; stroke-width:4; stroke-opacity:1; fill:none\" points=\"\n",
       "  1358.71,586.906 1358.11,599.937 1356.35,612.997 1353.52,626.082 1349.71,639.191 1345,652.323 1339.47,665.474 1333.23,678.643 1326.33,691.827 1318.89,705.025 \n",
       "  1310.97,718.235 1302.67,731.454 1294.07,744.68 1285.25,757.911 1276.31,771.146 1267.33,784.382 1258.38,797.616 1249.57,810.848 1240.97,824.074 1232.67,837.293 \n",
       "  1224.75,850.502 1217.3,863.7 1210.41,876.885 1204.16,890.054 1198.64,903.205 1193.93,916.336 1190.12,929.446 1187.29,942.531 1185.53,955.59 1184.92,968.622 \n",
       "  \n",
       "  \"/>\n",
       "<polyline clip-path=\"url(#clip072)\" style=\"stroke:#000000; stroke-linecap:round; stroke-linejoin:round; stroke-width:4; stroke-opacity:1; fill:none\" points=\"\n",
       "  1184.92,968.622 1184.03,982.444 1181.43,996.031 1177.26,1009.4 1171.64,1022.57 1164.69,1035.56 1156.54,1048.38 1147.33,1061.05 1137.16,1073.6 1126.18,1086.03 \n",
       "  1114.5,1098.36 1102.25,1110.62 1089.57,1122.82 1076.56,1134.97 1063.37,1147.09 1050.12,1159.21 1036.93,1171.34 1023.92,1183.49 1011.24,1195.68 998.992,1207.94 \n",
       "  987.315,1220.28 976.33,1232.71 966.166,1245.25 956.948,1257.92 948.802,1270.75 941.854,1283.73 936.231,1296.9 932.058,1310.27 929.461,1323.86 928.568,1337.68 \n",
       "  \n",
       "  \"/>\n",
       "<polyline clip-path=\"url(#clip072)\" style=\"stroke:#000000; stroke-linecap:round; stroke-linejoin:round; stroke-width:4; stroke-opacity:1; fill:none\" points=\"\n",
       "  1184.92,968.622 1185.89,981.703 1188.69,994.396 1193.19,1006.73 1199.26,1018.73 1206.75,1030.43 1215.54,1041.86 1225.49,1053.04 1236.45,1064 1248.3,1074.78 \n",
       "  1260.9,1085.4 1274.12,1095.89 1287.8,1106.28 1301.83,1116.6 1316.06,1126.87 1330.36,1137.13 1344.6,1147.4 1358.62,1157.72 1372.31,1168.11 1385.52,1178.6 \n",
       "  1398.12,1189.22 1409.97,1200 1420.94,1210.96 1430.89,1222.14 1439.67,1233.57 1447.17,1245.27 1453.24,1257.27 1457.74,1269.6 1460.54,1282.29 1461.5,1295.38 \n",
       "  \n",
       "  \"/>\n",
       "<polyline clip-path=\"url(#clip072)\" style=\"stroke:#000000; stroke-linecap:round; stroke-linejoin:round; stroke-width:4; stroke-opacity:1; fill:none\" points=\"\n",
       "  1063.74,262.317 1062.34,273.909 1058.27,284.73 1051.74,294.838 1042.93,304.29 1032.05,313.143 1019.3,321.454 1004.86,329.28 988.946,336.678 971.746,343.705 \n",
       "  953.46,350.418 934.286,356.875 914.42,363.132 894.06,369.246 873.404,375.275 852.649,381.275 831.993,387.304 811.633,393.418 791.767,399.675 772.592,406.132 \n",
       "  754.307,412.845 737.107,419.872 721.191,427.27 706.756,435.096 694.001,443.407 683.121,452.26 674.316,461.712 667.782,471.82 663.716,482.641 662.317,494.233 \n",
       "  \n",
       "  \"/>\n",
       "<path clip-path=\"url(#clip072)\" d=\"\n",
       "M1085.67 262.317 L1074.7 243.319 L1052.77 243.319 L1041.8 262.317 L1052.77 281.316 L1074.7 281.316 L1085.67 262.317 L1085.67 262.317  Z\n",
       "  \" fill=\"#009af9\" fill-rule=\"evenodd\" fill-opacity=\"1\"/>\n",
       "<polyline clip-path=\"url(#clip072)\" style=\"stroke:#000000; stroke-linecap:round; stroke-linejoin:round; stroke-width:4; stroke-opacity:1; fill:none\" points=\"\n",
       "  1085.67,262.317 1074.7,243.319 1052.77,243.319 1041.8,262.317 1052.77,281.316 1074.7,281.316 1085.67,262.317 \n",
       "  \"/>\n",
       "<path clip-path=\"url(#clip072)\" d=\"\n",
       "M1380.65 586.906 L1369.68 567.908 L1347.75 567.908 L1336.78 586.906 L1347.75 605.904 L1369.68 605.904 L1380.65 586.906 L1380.65 586.906  Z\n",
       "  \" fill=\"#009af9\" fill-rule=\"evenodd\" fill-opacity=\"1\"/>\n",
       "<polyline clip-path=\"url(#clip072)\" style=\"stroke:#000000; stroke-linecap:round; stroke-linejoin:round; stroke-width:4; stroke-opacity:1; fill:none\" points=\"\n",
       "  1380.65,586.906 1369.68,567.908 1347.75,567.908 1336.78,586.906 1347.75,605.904 1369.68,605.904 1380.65,586.906 \n",
       "  \"/>\n",
       "<path clip-path=\"url(#clip072)\" d=\"\n",
       "M1759.62 850.878 L1748.65 831.879 L1726.71 831.879 L1715.75 850.878 L1726.71 869.876 L1748.65 869.876 L1759.62 850.878 L1759.62 850.878  Z\n",
       "  \" fill=\"#009af9\" fill-rule=\"evenodd\" fill-opacity=\"1\"/>\n",
       "<polyline clip-path=\"url(#clip072)\" style=\"stroke:#000000; stroke-linecap:round; stroke-linejoin:round; stroke-width:4; stroke-opacity:1; fill:none\" points=\"\n",
       "  1759.62,850.878 1748.65,831.879 1726.71,831.879 1715.75,850.878 1726.71,869.876 1748.65,869.876 1759.62,850.878 \n",
       "  \"/>\n",
       "<path clip-path=\"url(#clip072)\" d=\"\n",
       "M1206.86 968.622 L1195.89 949.623 L1173.95 949.623 L1162.99 968.622 L1173.95 987.62 L1195.89 987.62 L1206.86 968.622 L1206.86 968.622  Z\n",
       "  \" fill=\"#009af9\" fill-rule=\"evenodd\" fill-opacity=\"1\"/>\n",
       "<polyline clip-path=\"url(#clip072)\" style=\"stroke:#000000; stroke-linecap:round; stroke-linejoin:round; stroke-width:4; stroke-opacity:1; fill:none\" points=\"\n",
       "  1206.86,968.622 1195.89,949.623 1173.95,949.623 1162.99,968.622 1173.95,987.62 1195.89,987.62 1206.86,968.622 \n",
       "  \"/>\n",
       "<path clip-path=\"url(#clip072)\" d=\"\n",
       "M950.505 1337.68 L939.537 1318.68 L917.599 1318.68 L906.631 1337.68 L917.599 1356.68 L939.537 1356.68 L950.505 1337.68 L950.505 1337.68  Z\n",
       "  \" fill=\"#009af9\" fill-rule=\"evenodd\" fill-opacity=\"1\"/>\n",
       "<polyline clip-path=\"url(#clip072)\" style=\"stroke:#000000; stroke-linecap:round; stroke-linejoin:round; stroke-width:4; stroke-opacity:1; fill:none\" points=\"\n",
       "  950.505,1337.68 939.537,1318.68 917.599,1318.68 906.631,1337.68 917.599,1356.68 939.537,1356.68 950.505,1337.68 \n",
       "  \"/>\n",
       "<path clip-path=\"url(#clip072)\" d=\"\n",
       "M1483.44 1295.38 L1472.47 1276.38 L1450.54 1276.38 L1439.57 1295.38 L1450.54 1314.37 L1472.47 1314.37 L1483.44 1295.38 L1483.44 1295.38  Z\n",
       "  \" fill=\"#009af9\" fill-rule=\"evenodd\" fill-opacity=\"1\"/>\n",
       "<polyline clip-path=\"url(#clip072)\" style=\"stroke:#000000; stroke-linecap:round; stroke-linejoin:round; stroke-width:4; stroke-opacity:1; fill:none\" points=\"\n",
       "  1483.44,1295.38 1472.47,1276.38 1450.54,1276.38 1439.57,1295.38 1450.54,1314.37 1472.47,1314.37 1483.44,1295.38 \n",
       "  \"/>\n",
       "<path clip-path=\"url(#clip072)\" d=\"\n",
       "M684.255 494.233 L673.286 475.234 L651.348 475.234 L640.38 494.233 L651.348 513.231 L673.286 513.231 L684.255 494.233 L684.255 494.233  Z\n",
       "  \" fill=\"#009af9\" fill-rule=\"evenodd\" fill-opacity=\"1\"/>\n",
       "<polyline clip-path=\"url(#clip072)\" style=\"stroke:#000000; stroke-linecap:round; stroke-linejoin:round; stroke-width:4; stroke-opacity:1; fill:none\" points=\"\n",
       "  684.255,494.233 673.286,475.234 651.348,475.234 640.38,494.233 651.348,513.231 673.286,513.231 684.255,494.233 \n",
       "  \"/>\n",
       "<path clip-path=\"url(#clip072)\" d=\"M1063.74 262.717 L1063.39 262.517 L1063.39 262.117 L1063.74 261.917 L1064.08 262.117 L1064.08 262.517 Z\" fill=\"#009af9\" fill-rule=\"evenodd\" fill-opacity=\"1\" stroke=\"#000000\" stroke-opacity=\"1\" stroke-width=\"3.2\"/>\n",
       "<path clip-path=\"url(#clip072)\" d=\"M1358.71 587.306 L1358.37 587.106 L1358.37 586.706 L1358.71 586.506 L1359.06 586.706 L1359.06 587.106 Z\" fill=\"#009af9\" fill-rule=\"evenodd\" fill-opacity=\"1\" stroke=\"#000000\" stroke-opacity=\"1\" stroke-width=\"3.2\"/>\n",
       "<path clip-path=\"url(#clip072)\" d=\"M1737.68 851.278 L1737.34 851.078 L1737.34 850.678 L1737.68 850.478 L1738.03 850.678 L1738.03 851.078 Z\" fill=\"#009af9\" fill-rule=\"evenodd\" fill-opacity=\"1\" stroke=\"#000000\" stroke-opacity=\"1\" stroke-width=\"3.2\"/>\n",
       "<path clip-path=\"url(#clip072)\" d=\"M1184.92 969.022 L1184.58 968.822 L1184.58 968.422 L1184.92 968.222 L1185.27 968.422 L1185.27 968.822 Z\" fill=\"#009af9\" fill-rule=\"evenodd\" fill-opacity=\"1\" stroke=\"#000000\" stroke-opacity=\"1\" stroke-width=\"3.2\"/>\n",
       "<path clip-path=\"url(#clip072)\" d=\"M928.568 1338.08 L928.222 1337.88 L928.222 1337.48 L928.568 1337.28 L928.914 1337.48 L928.914 1337.88 Z\" fill=\"#009af9\" fill-rule=\"evenodd\" fill-opacity=\"1\" stroke=\"#000000\" stroke-opacity=\"1\" stroke-width=\"3.2\"/>\n",
       "<path clip-path=\"url(#clip072)\" d=\"M1461.5 1295.78 L1461.16 1295.58 L1461.16 1295.18 L1461.5 1294.98 L1461.85 1295.18 L1461.85 1295.58 Z\" fill=\"#009af9\" fill-rule=\"evenodd\" fill-opacity=\"1\" stroke=\"#000000\" stroke-opacity=\"1\" stroke-width=\"3.2\"/>\n",
       "<path clip-path=\"url(#clip072)\" d=\"M662.317 494.633 L661.971 494.433 L661.971 494.033 L662.317 493.833 L662.664 494.033 L662.664 494.433 Z\" fill=\"#009af9\" fill-rule=\"evenodd\" fill-opacity=\"1\" stroke=\"#000000\" stroke-opacity=\"1\" stroke-width=\"3.2\"/>\n",
       "<path clip-path=\"url(#clip070)\" d=\"M1055.32 273.994 L1062 273.994 L1062 250.924 L1054.73 252.382 L1054.73 248.656 L1061.96 247.197 L1066.05 247.197 L1066.05 273.994 L1072.74 273.994 L1072.74 277.437 L1055.32 277.437 L1055.32 273.994 Z\" fill=\"#000000\" fill-rule=\"evenodd\" fill-opacity=\"1\" /><path clip-path=\"url(#clip070)\" d=\"M1354.04 598.583 L1368.31 598.583 L1368.31 602.026 L1349.11 602.026 L1349.11 598.583 Q1351.44 596.172 1355.45 592.122 Q1359.48 588.05 1360.52 586.876 Q1362.48 584.668 1363.25 583.149 Q1364.04 581.609 1364.04 580.131 Q1364.04 577.721 1362.34 576.202 Q1360.66 574.682 1357.94 574.682 Q1356.02 574.682 1353.87 575.351 Q1351.75 576.019 1349.32 577.376 L1349.32 573.244 Q1351.79 572.252 1353.93 571.746 Q1356.08 571.239 1357.86 571.239 Q1362.56 571.239 1365.36 573.589 Q1368.15 575.938 1368.15 579.868 Q1368.15 581.731 1367.44 583.412 Q1366.76 585.073 1364.91 587.342 Q1364.41 587.929 1361.69 590.744 Q1358.98 593.539 1354.04 598.583 Z\" fill=\"#000000\" fill-rule=\"evenodd\" fill-opacity=\"1\" /><path clip-path=\"url(#clip070)\" d=\"M1741.4 849.693 Q1744.34 850.321 1745.98 852.306 Q1747.64 854.29 1747.64 857.207 Q1747.64 861.683 1744.56 864.134 Q1741.48 866.585 1735.81 866.585 Q1733.91 866.585 1731.88 866.2 Q1729.87 865.836 1727.73 865.086 L1727.73 861.136 Q1729.43 862.129 1731.45 862.635 Q1733.48 863.142 1735.69 863.142 Q1739.54 863.142 1741.54 861.623 Q1743.57 860.104 1743.57 857.207 Q1743.57 854.534 1741.68 853.035 Q1739.82 851.516 1736.48 851.516 L1732.95 851.516 L1732.95 848.153 L1736.64 848.153 Q1739.66 848.153 1741.26 846.958 Q1742.86 845.743 1742.86 843.475 Q1742.86 841.145 1741.2 839.91 Q1739.56 838.654 1736.48 838.654 Q1734.8 838.654 1732.87 839.019 Q1730.95 839.383 1728.64 840.153 L1728.64 836.507 Q1730.97 835.859 1732.99 835.535 Q1735.04 835.211 1736.84 835.211 Q1741.5 835.211 1744.21 837.337 Q1746.93 839.444 1746.93 843.049 Q1746.93 845.561 1745.49 847.303 Q1744.05 849.024 1741.4 849.693 Z\" fill=\"#000000\" fill-rule=\"evenodd\" fill-opacity=\"1\" /><path clip-path=\"url(#clip070)\" d=\"M1187.56 957.066 L1177.23 973.209 L1187.56 973.209 L1187.56 957.066 M1186.48 953.502 L1191.63 953.502 L1191.63 973.209 L1195.94 973.209 L1195.94 976.612 L1191.63 976.612 L1191.63 983.742 L1187.56 983.742 L1187.56 976.612 L1173.9 976.612 L1173.9 972.662 L1186.48 953.502 Z\" fill=\"#000000\" fill-rule=\"evenodd\" fill-opacity=\"1\" /><path clip-path=\"url(#clip070)\" d=\"M920.061 1322.56 L936.123 1322.56 L936.123 1326.01 L923.808 1326.01 L923.808 1333.42 Q924.699 1333.12 925.591 1332.97 Q926.482 1332.81 927.373 1332.81 Q932.437 1332.81 935.394 1335.59 Q938.351 1338.36 938.351 1343.1 Q938.351 1347.98 935.313 1350.7 Q932.275 1353.39 926.745 1353.39 Q924.841 1353.39 922.856 1353.07 Q920.892 1352.74 918.785 1352.09 L918.785 1347.98 Q920.608 1348.97 922.552 1349.46 Q924.497 1349.95 926.664 1349.95 Q930.168 1349.95 932.214 1348.1 Q934.26 1346.26 934.26 1343.1 Q934.26 1339.94 932.214 1338.1 Q930.168 1336.25 926.664 1336.25 Q925.023 1336.25 923.383 1336.62 Q921.762 1336.98 920.061 1337.75 L920.061 1322.56 Z\" fill=\"#000000\" fill-rule=\"evenodd\" fill-opacity=\"1\" /><path clip-path=\"url(#clip070)\" d=\"M1461.86 1293.75 Q1459.1 1293.75 1457.48 1295.63 Q1455.88 1297.51 1455.88 1300.79 Q1455.88 1304.05 1457.48 1305.96 Q1459.1 1307.84 1461.86 1307.84 Q1464.61 1307.84 1466.21 1305.96 Q1467.83 1304.05 1467.83 1300.79 Q1467.83 1297.51 1466.21 1295.63 Q1464.61 1293.75 1461.86 1293.75 M1469.98 1280.92 L1469.98 1284.65 Q1468.44 1283.92 1466.86 1283.54 Q1465.3 1283.15 1463.76 1283.15 Q1459.71 1283.15 1457.56 1285.89 Q1455.44 1288.62 1455.13 1294.15 Q1456.33 1292.39 1458.13 1291.46 Q1459.93 1290.5 1462.1 1290.5 Q1466.66 1290.5 1469.29 1293.28 Q1471.95 1296.03 1471.95 1300.79 Q1471.95 1305.45 1469.19 1308.27 Q1466.44 1311.08 1461.86 1311.08 Q1456.61 1311.08 1453.84 1307.07 Q1451.06 1303.04 1451.06 1295.41 Q1451.06 1288.24 1454.47 1283.98 Q1457.87 1279.71 1463.6 1279.71 Q1465.14 1279.71 1466.7 1280.01 Q1468.28 1280.32 1469.98 1280.92 Z\" fill=\"#000000\" fill-rule=\"evenodd\" fill-opacity=\"1\" /><path clip-path=\"url(#clip070)\" d=\"M652.595 479.113 L672.039 479.113 L672.039 480.855 L661.061 509.353 L656.788 509.353 L667.118 482.556 L652.595 482.556 L652.595 479.113 Z\" fill=\"#000000\" fill-rule=\"evenodd\" fill-opacity=\"1\" /></svg>\n"
      ]
     },
     "metadata": {},
     "output_type": "display_data"
    }
   ],
   "source": [
    "BestProfit, Bestsol, trParentnodes, trChildnodes, trNamenodes, resultat_non_trie = SolveKnapInstance(\"instancesETU/KNAPnewformat/test.opb.txt\")\n",
    "\n",
    "println(\"\\n******\\n\\nOptimal value = \", BestProfit, \"\\n\\nOptimal(dans l'ordre croissant des ratio) x=\", Bestsol)\n",
    "println( \"résultat optimal dans l'odre des indices des objets \", resultat_non_trie)\n",
    "\n",
    "graphplot(trParentnodes, trChildnodes, names=trNamenodes, method=:tree)"
   ]
  },
  {
   "cell_type": "code",
   "execution_count": 25,
   "metadata": {},
   "outputs": [],
   "source": []
  },
  {
   "cell_type": "code",
   "execution_count": 26,
   "metadata": {},
   "outputs": [],
   "source": []
  }
 ],
 "metadata": {
  "kernelspec": {
   "display_name": "Julia 1.8.2",
   "language": "julia",
   "name": "julia-1.8"
  },
  "language_info": {
   "file_extension": ".jl",
   "mimetype": "application/julia",
   "name": "julia",
   "version": "1.8.2"
  }
 },
 "nbformat": 4,
 "nbformat_minor": 4
}
