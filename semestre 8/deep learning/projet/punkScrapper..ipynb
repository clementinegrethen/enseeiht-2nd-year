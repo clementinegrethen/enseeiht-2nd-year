{
 "cells": [
  {
   "cell_type": "code",
   "execution_count": 4,
   "metadata": {},
   "outputs": [],
   "source": [
    "from pathlib import Path\n",
    "import os\n",
    "\n",
    "# Get current directory\n",
    "p = Path('.')\n",
    "\n",
    "# Provide path to the .txt files with the url inside\n",
    "tomato_urls_txt = p/\"urls.txt\"\n",
    "# Create the directories to store the images ..\n",
    "# .. we split images into two folders\n",
    "# .. because there is two classes.\n",
    "os.makedirs(p/\"punk\", exist_ok=True)\n"
   ]
  },
  {
   "cell_type": "code",
   "execution_count": null,
   "metadata": {},
   "outputs": [
    {
     "ename": "",
     "evalue": "",
     "output_type": "error",
     "traceback": [
      "\u001b[1;31mLes cellules en cours d’exécution avec Python 3.8.16 ('testcv') nécessitent ipykernel package.\n",
      "\u001b[1;31mExécutez la commande suivante pour installer 'ipykernel' dans l’environnement Python. \n",
      "\u001b[1;31mCommande : 'conda install -n testcv ipykernel --update-deps --force-reinstall'"
     ]
    }
   ],
   "source": [
    "from fastai.vision import download_images\n",
    "print(\"  - Downloading punk Images -   \") \n",
    "download_images(urls=p/\"urls.txt\",dest=p/'punk')\n"
   ]
  }
 ],
 "metadata": {
  "kernelspec": {
   "display_name": "Python 3.8.16 ('testcv')",
   "language": "python",
   "name": "python3"
  },
  "language_info": {
   "codemirror_mode": {
    "name": "ipython",
    "version": 3
   },
   "file_extension": ".py",
   "mimetype": "text/x-python",
   "name": "python",
   "nbconvert_exporter": "python",
   "pygments_lexer": "ipython3",
   "version": "3.8.16"
  },
  "orig_nbformat": 4,
  "vscode": {
   "interpreter": {
    "hash": "eaa09ec1bdc4cef2a4e3cbc79dc7a2ac63922b52ff7f4f247e7f3b571afe2864"
   }
  }
 },
 "nbformat": 4,
 "nbformat_minor": 2
}
