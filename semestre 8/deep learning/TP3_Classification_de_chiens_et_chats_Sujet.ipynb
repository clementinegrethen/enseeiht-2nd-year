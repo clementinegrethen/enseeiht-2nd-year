{
  "cells": [
    {
      "cell_type": "markdown",
      "metadata": {
        "id": "1qjWcjWFVcs7"
      },
      "source": [
        "# Introduction à la librairie Keras"
      ]
    },
    {
      "cell_type": "markdown",
      "metadata": {
        "id": "77ojmk9zVgUt"
      },
      "source": [
        "Dans le TP précédent, vous avez implémenté l'apprentissage et l'inférence d'un réseau de neurones. En pratique, il est plus courant de faire appel à des librairies qui masquent la complexité de ces algorithmes (notamment le calcul des gradients, réalisé par différentiation automatique). Dans la suite, nous utiliserons pour les TPs la librairie ***Keras***. Dans un premier temps, pour ce TP nous allons détailler sur un exemple simple (le même que pour le TP précédent) les différentes étapes à mettre en place pour entraîner un réseau à l'aide de cette librairie."
      ]
    },
    {
      "cell_type": "markdown",
      "metadata": {
        "id": "b2Sq7AygNuNL"
      },
      "source": [
        "## Exemple de classification simple"
      ]
    },
    {
      "cell_type": "code",
      "execution_count": 1,
      "metadata": {
        "colab": {
          "base_uri": "https://localhost:8080/",
          "height": 265
        },
        "id": "luY3XIU7WfWQ",
        "outputId": "5c480dda-2544-46ff-b1e2-b4d0a02e79f2"
      },
      "outputs": [
        {
          "output_type": "display_data",
          "data": {
            "text/plain": [
              "<Figure size 432x288 with 1 Axes>"
            ],
            "image/png": "[encoded data removed]"
          },
          "metadata": {
            "needs_background": "light"
          }
        }
      ],
      "source": [
        "from sklearn.model_selection import train_test_split\n",
        "from sklearn import datasets\n",
        "import matplotlib.pyplot as plt \n",
        "\n",
        "# Génération des données \n",
        "x, y = datasets.make_blobs(n_samples=250, n_features=2, centers=2, center_box=(- 3, 3), random_state=1)\n",
        "# Partitionnement des données en apprentissage et test\n",
        "x_train, x_test, y_train, y_test = train_test_split(x, y, test_size=0.1, random_state=1)\n",
        "\n",
        "# Affichage des données d'apprentissage\n",
        "plt.plot(x_train[y_train==0,0], x_train[y_train==0,1], 'b.')\n",
        "plt.plot(x_train[y_train==1,0], x_train[y_train==1,1], 'r.')\n",
        "\n",
        "# Affichage des données de test\n",
        "plt.plot(x_test[y_test==0,0], x_test[y_test==0,1], 'b+')\n",
        "plt.plot(x_test[y_test==1,0], x_test[y_test==1,1], 'r+')\n",
        "\n",
        "plt.show()"
      ]
    },
    {
      "cell_type": "code",
      "execution_count": 2,
      "metadata": {
        "colab": {
          "base_uri": "https://localhost:8080/"
        },
        "id": "lTGP4a9WXWpU",
        "outputId": "6e3b70f5-0b4d-4476-fbc2-4eeea9a2c669"
      },
      "outputs": [
        {
          "output_type": "stream",
          "name": "stdout",
          "text": [
            "Model: \"sequential\"\n",
            "_________________________________________________________________\n",
            " Layer (type)                Output Shape              Param #   \n",
            "=================================================================\n",
            " dense (Dense)               (None, 1)                 3         \n",
            "                                                                 \n",
            "=================================================================\n",
            "Total params: 3\n",
            "Trainable params: 3\n",
            "Non-trainable params: 0\n",
            "_________________________________________________________________\n"
          ]
        }
      ],
      "source": [
        "import tensorflow\n",
        "from tensorflow.keras.models import Sequential\n",
        "from tensorflow.keras.layers import Dense\n",
        "\n",
        "# Définition du modèle, auquel on va ensuite ajouter les différentes couches, dans l'ordre\n",
        "# NB: c'est exactement ce que nous avons implémenté avec le perceptron multicouche dans le\n",
        "# TP précédent ! \n",
        "model = Sequential()\n",
        "model.add(Dense(1, activation='sigmoid', input_dim=2)) # input_dim indique la dimension de la couche d'entrée, ici 2\n",
        "\n",
        "model.summary() # affiche un résumé du modèle"
      ]
    },
    {
      "cell_type": "code",
      "execution_count": 3,
      "metadata": {
        "colab": {
          "base_uri": "https://localhost:8080/"
        },
        "id": "nZEDm5I-Lu-p",
        "outputId": "a0651b01-7c47-4d67-e94a-90ac25c7f7a1"
      },
      "outputs": [
        {
          "output_type": "stream",
          "name": "stdout",
          "text": [
            "Epoch 1/15\n",
            "9/9 [==============================] - 4s 26ms/step - loss: 0.2281 - accuracy: 0.9500 - val_loss: 0.2852 - val_accuracy: 0.9111\n",
            "Epoch 2/15\n",
            "9/9 [==============================] - 0s 8ms/step - loss: 0.2029 - accuracy: 0.9500 - val_loss: 0.2690 - val_accuracy: 0.9333\n",
            "Epoch 3/15\n",
            "9/9 [==============================] - 0s 6ms/step - loss: 0.1863 - accuracy: 0.9500 - val_loss: 0.2571 - val_accuracy: 0.9333\n",
            "Epoch 4/15\n",
            "9/9 [==============================] - 0s 8ms/step - loss: 0.1741 - accuracy: 0.9500 - val_loss: 0.2474 - val_accuracy: 0.9333\n",
            "Epoch 5/15\n",
            "9/9 [==============================] - 0s 6ms/step - loss: 0.1644 - accuracy: 0.9556 - val_loss: 0.2392 - val_accuracy: 0.9333\n",
            "Epoch 6/15\n",
            "9/9 [==============================] - 0s 6ms/step - loss: 0.1568 - accuracy: 0.9500 - val_loss: 0.2319 - val_accuracy: 0.9333\n",
            "Epoch 7/15\n",
            "9/9 [==============================] - 0s 8ms/step - loss: 0.1499 - accuracy: 0.9556 - val_loss: 0.2257 - val_accuracy: 0.9333\n",
            "Epoch 8/15\n",
            "9/9 [==============================] - 0s 7ms/step - loss: 0.1443 - accuracy: 0.9667 - val_loss: 0.2202 - val_accuracy: 0.9333\n",
            "Epoch 9/15\n",
            "9/9 [==============================] - 0s 5ms/step - loss: 0.1393 - accuracy: 0.9722 - val_loss: 0.2151 - val_accuracy: 0.9333\n",
            "Epoch 10/15\n",
            "9/9 [==============================] - 0s 8ms/step - loss: 0.1348 - accuracy: 0.9722 - val_loss: 0.2105 - val_accuracy: 0.9556\n",
            "Epoch 11/15\n",
            "9/9 [==============================] - 0s 6ms/step - loss: 0.1308 - accuracy: 0.9722 - val_loss: 0.2064 - val_accuracy: 0.9556\n",
            "Epoch 12/15\n",
            "9/9 [==============================] - 0s 6ms/step - loss: 0.1272 - accuracy: 0.9722 - val_loss: 0.2029 - val_accuracy: 0.9556\n",
            "Epoch 13/15\n",
            "9/9 [==============================] - 0s 7ms/step - loss: 0.1241 - accuracy: 0.9722 - val_loss: 0.1995 - val_accuracy: 0.9333\n",
            "Epoch 14/15\n",
            "9/9 [==============================] - 0s 6ms/step - loss: 0.1210 - accuracy: 0.9722 - val_loss: 0.1964 - val_accuracy: 0.9333\n",
            "Epoch 15/15\n",
            "9/9 [==============================] - 0s 6ms/step - loss: 0.1182 - accuracy: 0.9722 - val_loss: 0.1935 - val_accuracy: 0.9333\n"
          ]
        }
      ],
      "source": [
        "from tensorflow.keras import optimizers\n",
        "\n",
        "# Définition de l'optimiseur\n",
        "sgd = optimizers.SGD(learning_rate=0.1) # On choisit la descente de gradient stochastique, avec un taux d'apprentissage de 0.1\n",
        "\n",
        "# On définit ici, pour le modèle introduit plus tôt, l'optimiseur choisi, la fonction de perte (ici\n",
        "# l'entropie croisée binaire pour un problème de classification binaire) et les métriques que l'on veut observer pendant\n",
        "# l'entraînement. La précision (accuracy) est un indicateur plus simple à interpréter que l'entropie croisée.\n",
        "model.compile(optimizer=sgd,\n",
        "              loss='binary_crossentropy',\n",
        "              metrics=['accuracy'])\n",
        "\n",
        "# Entraînement du modèle avec des mini-batchs de taille 20, sur 15 epochs. \n",
        "# Le paramètre validation_split signifie qu'on tire aléatoirement une partie des données\n",
        "# (ici 20%) pour servir d'ensemble de validation\n",
        "history = model.fit(x_train, y_train, validation_split=0.2, epochs=15, batch_size=20)"
      ]
    },
    {
      "cell_type": "markdown",
      "metadata": {
        "id": "fD8fXJj0WJID"
      },
      "source": [
        "La cellule suivante introduit un code permettant de visualiser la frontière de décision du modèle appris. "
      ]
    },
    {
      "cell_type": "code",
      "execution_count": null,
      "metadata": {
        "id": "8iSYRgNaL6F-"
      },
      "outputs": [],
      "source": [
        "import numpy as np\n",
        "def print_decision_boundaries(model, x, y):\n",
        "  dx, dy = 0.1, 0.1\n",
        "  y_grid, x_grid = np.mgrid[slice(np.min(x[:,1]), np.max(x[:,1]) + dy, dy),\n",
        "                  slice(np.min(x[:,0]), np.max(x[:,0]) + dx, dx)]\n",
        "\n",
        "\n",
        "  x_gen = np.concatenate((np.expand_dims(np.reshape(x_grid, (-1)),1),np.expand_dims(np.reshape(y_grid, (-1)),1)), axis=1)\n",
        "  z_gen = model.predict(x_gen).reshape(x_grid.shape)\n",
        "\n",
        "  z_min, z_max = 0, 1\n",
        "\n",
        "  c = plt.pcolor(x_grid, y_grid, z_gen, cmap='RdBu', vmin=z_min, vmax=z_max)\n",
        "  plt.colorbar(c)\n",
        "  plt.plot(x[y==0,0], x[y==0,1], 'r.')\n",
        "  plt.plot(x[y==1,0], x[y==1,1], 'b.')\n",
        "  plt.show()"
      ]
    },
    {
      "cell_type": "code",
      "execution_count": null,
      "metadata": {
        "id": "TfLzncAqpDDV"
      },
      "outputs": [],
      "source": []
    },
    {
      "cell_type": "code",
      "execution_count": null,
      "metadata": {
        "colab": {
          "base_uri": "https://localhost:8080/",
          "height": 286
        },
        "id": "ltsUweGrMPor",
        "outputId": "9ac4561a-a156-4200-f4b4-910d707c28f3"
      },
      "outputs": [
        {
          "name": "stdout",
          "output_type": "stream",
          "text": [
            "198/198 [==============================] - 0s 1ms/step\n"
          ]
        },
        {
          "data": {
            "image/png": "[encoded data removed]",
            "text/plain": [
              "<Figure size 432x288 with 2 Axes>"
            ]
          },
          "metadata": {},
          "output_type": "display_data"
        }
      ],
      "source": [
        "print_decision_boundaries(model, x_train, y_train)"
      ]
    },
    {
      "cell_type": "markdown",
      "metadata": {
        "id": "IfC00n73pDuQ"
      },
      "source": []
    },
    {
      "cell_type": "markdown",
      "metadata": {
        "id": "mSaSWEnoNxqG"
      },
      "source": [
        "## Exemple de classification plus \"complexe\""
      ]
    },
    {
      "cell_type": "markdown",
      "metadata": {
        "id": "W60rDDAzWTpq"
      },
      "source": [
        "Pour manipuler un peu la librairie, voici un second problème légèrement plus complexe. A vous de réutiliser les cellules précédentes pour mettre en place un réseau permettant de résoudre ce problème."
      ]
    },
    {
      "cell_type": "code",
      "execution_count": null,
      "metadata": {
        "colab": {
          "base_uri": "https://localhost:8080/",
          "height": 265
        },
        "id": "KvhN3uQaN5ji",
        "outputId": "f6318a36-3af9-4742-add8-2cbef34dd061"
      },
      "outputs": [
        {
          "data": {
            "image/png": "[encoded data removed]",
            "text/plain": [
              "<Figure size 432x288 with 1 Axes>"
            ]
          },
          "metadata": {},
          "output_type": "display_data"
        }
      ],
      "source": [
        "x, y = datasets.make_gaussian_quantiles(n_samples=250, n_features=2, n_classes=2, random_state=1)\n",
        "# Partitionnement des données en apprentissage et test\n",
        "x_train, x_test, y_train, y_test = train_test_split(x, y, test_size=0.1, random_state=1)\n",
        "\n",
        "# Affichage des données d'apprentissage\n",
        "plt.plot(x_train[y_train==0,0], x_train[y_train==0,1], 'b.')\n",
        "plt.plot(x_train[y_train==1,0], x_train[y_train==1,1], 'r.')\n",
        "\n",
        "# Affichage des données de test\n",
        "plt.plot(x_test[y_test==0,0], x_test[y_test==0,1], 'b+')\n",
        "plt.plot(x_test[y_test==1,0], x_test[y_test==1,1], 'r+')\n",
        "\n",
        "\n",
        "plt.show()"
      ]
    },
    {
      "cell_type": "code",
      "execution_count": null,
      "metadata": {
        "colab": {
          "base_uri": "https://localhost:8080/"
        },
        "id": "h1Kzy97fptpp",
        "outputId": "8facb5e7-cb1c-4e91-e771-b2f2c5d7fff2"
      },
      "outputs": [
        {
          "name": "stdout",
          "output_type": "stream",
          "text": [
            "Model: \"sequential_36\"\n",
            "_________________________________________________________________\n",
            " Layer (type)                Output Shape              Param #   \n",
            "=================================================================\n",
            " dense_51 (Dense)            (None, 5)                 15        \n",
            "                                                                 \n",
            " dense_52 (Dense)            (None, 1)                 6         \n",
            "                                                                 \n",
            "=================================================================\n",
            "Total params: 21\n",
            "Trainable params: 21\n",
            "Non-trainable params: 0\n",
            "_________________________________________________________________\n"
          ]
        }
      ],
      "source": [
        "import tensorflow\n",
        "from tensorflow.keras.models import Sequential\n",
        "from tensorflow.keras.layers import Dense\n",
        "\n",
        "# Définition du modèle, auquel on va ensuite ajouter les différentes couches, dans l'ordre\n",
        "# NB: c'est exactement ce que nous avons implémenté avec le perceptron multicouche dans le\n",
        "# TP précédent ! \n",
        "model = Sequential()\n",
        "model.add(Dense(5, activation='relu', input_dim=2)) # input_dim indique la dimension de la couche d'entrée, ici 2\n",
        "model.add(Dense(1,activation='sigmoid'))\n",
        "model.summary() # affiche un résumé du modèle"
      ]
    },
    {
      "cell_type": "code",
      "execution_count": null,
      "metadata": {
        "colab": {
          "base_uri": "https://localhost:8080/"
        },
        "id": "Ww3DfNTWpEoJ",
        "outputId": "f96a6d77-cc69-43c9-9275-9f24093a91bb"
      },
      "outputs": [
        {
          "name": "stdout",
          "output_type": "stream",
          "text": [
            "Epoch 1/35\n",
            "9/9 [==============================] - 1s 21ms/step - loss: 0.6452 - accuracy: 0.5000 - val_loss: 0.6105 - val_accuracy: 0.5556\n",
            "Epoch 2/35\n",
            "9/9 [==============================] - 0s 9ms/step - loss: 0.6233 - accuracy: 0.5389 - val_loss: 0.6034 - val_accuracy: 0.5778\n",
            "Epoch 3/35\n",
            "9/9 [==============================] - 0s 9ms/step - loss: 0.6086 - accuracy: 0.6167 - val_loss: 0.5968 - val_accuracy: 0.7333\n",
            "Epoch 4/35\n",
            "9/9 [==============================] - 0s 10ms/step - loss: 0.5950 - accuracy: 0.6833 - val_loss: 0.5895 - val_accuracy: 0.7556\n",
            "Epoch 5/35\n",
            "9/9 [==============================] - 0s 11ms/step - loss: 0.5839 - accuracy: 0.7333 - val_loss: 0.5820 - val_accuracy: 0.7333\n",
            "Epoch 6/35\n",
            "9/9 [==============================] - 0s 11ms/step - loss: 0.5739 - accuracy: 0.7722 - val_loss: 0.5758 - val_accuracy: 0.7778\n",
            "Epoch 7/35\n",
            "9/9 [==============================] - 0s 10ms/step - loss: 0.5677 - accuracy: 0.7667 - val_loss: 0.5703 - val_accuracy: 0.7556\n",
            "Epoch 8/35\n",
            "9/9 [==============================] - 0s 9ms/step - loss: 0.5603 - accuracy: 0.7611 - val_loss: 0.5631 - val_accuracy: 0.7556\n",
            "Epoch 9/35\n",
            "9/9 [==============================] - 0s 9ms/step - loss: 0.5529 - accuracy: 0.7722 - val_loss: 0.5567 - val_accuracy: 0.7556\n",
            "Epoch 10/35\n",
            "9/9 [==============================] - 0s 10ms/step - loss: 0.5485 - accuracy: 0.7500 - val_loss: 0.5501 - val_accuracy: 0.7556\n",
            "Epoch 11/35\n",
            "9/9 [==============================] - 0s 10ms/step - loss: 0.5409 - accuracy: 0.7667 - val_loss: 0.5442 - val_accuracy: 0.7556\n",
            "Epoch 12/35\n",
            "9/9 [==============================] - 0s 10ms/step - loss: 0.5331 - accuracy: 0.7778 - val_loss: 0.5377 - val_accuracy: 0.7778\n",
            "Epoch 13/35\n",
            "9/9 [==============================] - 0s 10ms/step - loss: 0.5263 - accuracy: 0.7889 - val_loss: 0.5319 - val_accuracy: 0.8000\n",
            "Epoch 14/35\n",
            "9/9 [==============================] - 0s 10ms/step - loss: 0.5207 - accuracy: 0.7944 - val_loss: 0.5259 - val_accuracy: 0.7778\n",
            "Epoch 15/35\n",
            "9/9 [==============================] - 0s 10ms/step - loss: 0.5150 - accuracy: 0.7778 - val_loss: 0.5192 - val_accuracy: 0.7778\n",
            "Epoch 16/35\n",
            "9/9 [==============================] - 0s 11ms/step - loss: 0.5076 - accuracy: 0.7833 - val_loss: 0.5106 - val_accuracy: 0.8000\n",
            "Epoch 17/35\n",
            "9/9 [==============================] - 0s 10ms/step - loss: 0.5006 - accuracy: 0.7944 - val_loss: 0.5034 - val_accuracy: 0.8000\n",
            "Epoch 18/35\n",
            "9/9 [==============================] - 0s 9ms/step - loss: 0.4966 - accuracy: 0.7889 - val_loss: 0.4962 - val_accuracy: 0.8222\n",
            "Epoch 19/35\n",
            "9/9 [==============================] - 0s 8ms/step - loss: 0.4896 - accuracy: 0.8000 - val_loss: 0.4890 - val_accuracy: 0.8222\n",
            "Epoch 20/35\n",
            "9/9 [==============================] - 0s 10ms/step - loss: 0.4828 - accuracy: 0.7944 - val_loss: 0.4836 - val_accuracy: 0.8000\n",
            "Epoch 21/35\n",
            "9/9 [==============================] - 0s 10ms/step - loss: 0.4764 - accuracy: 0.8167 - val_loss: 0.4769 - val_accuracy: 0.8000\n",
            "Epoch 22/35\n",
            "9/9 [==============================] - 0s 11ms/step - loss: 0.4718 - accuracy: 0.8056 - val_loss: 0.4711 - val_accuracy: 0.8000\n",
            "Epoch 23/35\n",
            "9/9 [==============================] - 0s 10ms/step - loss: 0.4650 - accuracy: 0.8278 - val_loss: 0.4636 - val_accuracy: 0.8222\n",
            "Epoch 24/35\n",
            "9/9 [==============================] - 0s 10ms/step - loss: 0.4586 - accuracy: 0.8222 - val_loss: 0.4569 - val_accuracy: 0.8222\n",
            "Epoch 25/35\n",
            "9/9 [==============================] - 0s 10ms/step - loss: 0.4529 - accuracy: 0.8333 - val_loss: 0.4495 - val_accuracy: 0.8222\n",
            "Epoch 26/35\n",
            "9/9 [==============================] - 0s 9ms/step - loss: 0.4477 - accuracy: 0.8167 - val_loss: 0.4440 - val_accuracy: 0.8000\n",
            "Epoch 27/35\n",
            "9/9 [==============================] - 0s 8ms/step - loss: 0.4422 - accuracy: 0.8278 - val_loss: 0.4377 - val_accuracy: 0.8222\n",
            "Epoch 28/35\n",
            "9/9 [==============================] - 0s 7ms/step - loss: 0.4358 - accuracy: 0.8111 - val_loss: 0.4319 - val_accuracy: 0.7778\n",
            "Epoch 29/35\n",
            "9/9 [==============================] - 0s 8ms/step - loss: 0.4280 - accuracy: 0.8278 - val_loss: 0.4260 - val_accuracy: 0.8000\n",
            "Epoch 30/35\n",
            "9/9 [==============================] - 0s 8ms/step - loss: 0.4232 - accuracy: 0.8278 - val_loss: 0.4204 - val_accuracy: 0.7778\n",
            "Epoch 31/35\n",
            "9/9 [==============================] - 0s 6ms/step - loss: 0.4166 - accuracy: 0.8333 - val_loss: 0.4150 - val_accuracy: 0.7778\n",
            "Epoch 32/35\n",
            "9/9 [==============================] - 0s 8ms/step - loss: 0.4118 - accuracy: 0.8278 - val_loss: 0.4104 - val_accuracy: 0.7778\n",
            "Epoch 33/35\n",
            "9/9 [==============================] - 0s 6ms/step - loss: 0.4052 - accuracy: 0.8389 - val_loss: 0.4043 - val_accuracy: 0.7778\n",
            "Epoch 34/35\n",
            "9/9 [==============================] - 0s 6ms/step - loss: 0.4009 - accuracy: 0.8333 - val_loss: 0.3982 - val_accuracy: 0.7778\n",
            "Epoch 35/35\n",
            "9/9 [==============================] - 0s 6ms/step - loss: 0.3952 - accuracy: 0.8500 - val_loss: 0.3912 - val_accuracy: 0.8222\n"
          ]
        }
      ],
      "source": [
        "from tensorflow.keras import optimizers\n",
        "\n",
        "# Définition de l'optimiseur\n",
        "sgd = optimizers.SGD(learning_rate=0.1) # On choisit la descente de gradient stochastique, avec un taux d'apprentissage de 0.1\n",
        "\n",
        "# On définit ici, pour le modèle introduit plus tôt, l'optimiseur choisi, la fonction de perte (ici\n",
        "# l'entropie croisée binaire pour un problème de classification binaire) et les métriques que l'on veut observer pendant\n",
        "# l'entraînement. La précision (accuracy) est un indicateur plus simple à interpréter que l'entropie croisée.\n",
        "model.compile(optimizer=sgd,\n",
        "              loss='binary_crossentropy',\n",
        "              metrics=['accuracy'])\n",
        "\n",
        "# Entraînement du modèle avec des mini-batchs de taille 20, sur 15 epochs. \n",
        "# Le paramètre validation_split signifie qu'on tire aléatoirement une partie des données\n",
        "# (ici 20%) pour servir d'ensemble de validation\n",
        "history = model.fit(x_train, y_train, validation_split=0.2, epochs=35, batch_size=20)\n",
        "\n"
      ]
    },
    {
      "cell_type": "code",
      "execution_count": 4,
      "metadata": {
        "id": "z2evKjz_pyfD"
      },
      "outputs": [],
      "source": [
        "import numpy as np\n",
        "def print_decision_boundaries(model, x, y):\n",
        "  dx, dy = 0.1, 0.1\n",
        "  y_grid, x_grid = np.mgrid[slice(np.min(x[:,1]), np.max(x[:,1]) + dy, dy),\n",
        "                  slice(np.min(x[:,0]), np.max(x[:,0]) + dx, dx)]\n",
        "\n",
        "\n",
        "  x_gen = np.concatenate((np.expand_dims(np.reshape(x_grid, (-1)),1),np.expand_dims(np.reshape(y_grid, (-1)),1)), axis=1)\n",
        "  z_gen = model.predict(x_gen).reshape(x_grid.shape)\n",
        "\n",
        "  z_min, z_max = 0, 1\n",
        "\n",
        "  c = plt.pcolor(x_grid, y_grid, z_gen, cmap='RdBu', vmin=z_min, vmax=z_max)\n",
        "  plt.colorbar(c)\n",
        "  plt.plot(x[y==0,0], x[y==0,1], 'r.')\n",
        "  plt.plot(x[y==1,0], x[y==1,1], 'b.')\n",
        "  plt.show()\n"
      ]
    },
    {
      "cell_type": "code",
      "execution_count": 5,
      "metadata": {
        "colab": {
          "base_uri": "https://localhost:8080/",
          "height": 286
        },
        "id": "xvT9jxI6phHT",
        "outputId": "126e16dd-3b1e-4e55-e7e2-9875ce0e7058"
      },
      "outputs": [
        {
          "output_type": "stream",
          "name": "stdout",
          "text": [
            "198/198 [==============================] - 0s 1ms/step\n"
          ]
        },
        {
          "output_type": "display_data",
          "data": {
            "text/plain": [
              "<Figure size 432x288 with 2 Axes>"
            ],
            "image/png": "[encoded data removed]"
          },
          "metadata": {
            "needs_background": "light"
          }
        }
      ],
      "source": [
        "  print_decision_boundaries(model, x_train, y_train)"
      ]
    },
    {
      "cell_type": "markdown",
      "metadata": {
        "id": "XMMppWbnG3dN"
      },
      "source": [
        "# Classification d'images de chiens et de chats\n",
        "\n",
        "Dans la suite du TP, on s'intéresse au problème simple (en apparence) de reconnaître des chiens et des chats dans des images.\n",
        "\n",
        "<center> <img src=\"https://drive.google.com/uc?id=11W1SmzrBhL8vyzPCjSkZfHWnxb7kByi5\" style=\"width:1000;height:550px;\"></center>\n",
        "<caption><center><b> Figure 1 : Quelques images de la base de données </b></center></caption>\n",
        "\n",
        "Pour cela nous allons utiliser une base de données de 4000 images, réparties en 2000 images d'apprentissage, 1000 images de validation, et 1000 images de test. Compte-tenu de la variabilité possible des représentations de chiens et chats, cette base de données est d'une taille assez réduite et le problème est complexe. Il correspond bien aux problèmes que nous pouvons rencontrer dans la réalité, lorsque les données sont souvent difficiles à obtenir.\n"
      ]
    },
    {
      "cell_type": "markdown",
      "metadata": {
        "id": "m7K-oLcaXkcY"
      },
      "source": [
        "Il faut définir une résolution commune à toutes les images, qui sera donc la dimension passée en entrée au réseau de neurones. Pour commencer et simplifier le problème, vous pouvez d'abord considérer des images de taille $64 \\times 64$ ; plus tard, lorsque vos réseaux fonctionneront bien, nous pourrons envisager d'augmenter cette résolution pour améliorer les performances.  "
      ]
    },
    {
      "cell_type": "code",
      "execution_count": null,
      "metadata": {
        "id": "8th8b32kV2kh"
      },
      "outputs": [],
      "source": [
        "IMAGE_SIZE = 64\n",
        "CLASSES = ['cat', 'dog']"
      ]
    },
    {
      "cell_type": "markdown",
      "metadata": {
        "id": "z3mdNJJXc6Wy"
      },
      "source": [
        "## Chargement des données\n",
        "La base de données est à télécharger depuis Git. Ne passez pas trop de temps à regarder les cellules suivantes (mais exécutez les !)."
      ]
    },
    {
      "cell_type": "code",
      "execution_count": null,
      "metadata": {
        "colab": {
          "base_uri": "https://localhost:8080/"
        },
        "id": "n_OkpjrpFXXG",
        "outputId": "bd0d6369-f3e0-4783-c48b-ff37443be74e"
      },
      "outputs": [
        {
          "name": "stdout",
          "output_type": "stream",
          "text": [
            "fatal: destination path 'iam' already exists and is not an empty directory.\n"
          ]
        }
      ],
      "source": [
        "!git clone https://github.com/axelcarlier/iam.git\n",
        "path = \"./iam/tp3/\""
      ]
    },
    {
      "cell_type": "markdown",
      "metadata": {
        "id": "KoSVj5OGXa-4"
      },
      "source": [
        "Chargement des données dans des tenseurs $x$ et $y$ de dimensions respectives $(N, 64, 64, 3)$ et $(N, 1)$, où $N$ désigne le nombre d'éléments de l'ensemble considéré (apprentissage, validation, ou test)."
      ]
    },
    {
      "cell_type": "code",
      "execution_count": null,
      "metadata": {
        "id": "VcNp4xl0QfOT"
      },
      "outputs": [],
      "source": [
        "import glob\n",
        "import PIL\n",
        "from PIL import Image\n",
        "import numpy as np\n",
        "\n",
        "def load_data(path, classes, image_size=64):\n",
        "\n",
        "  # Liste les fichiers présents dans le dossier path\n",
        "  file_path = glob.glob(path)\n",
        "  \n",
        "  # Initialise les structures de données\n",
        "  x = np.zeros((len(file_path), image_size, image_size, 3))\n",
        "  y = np.zeros((len(file_path), 1))\n",
        "\n",
        "  for i in range(len(file_path)):\n",
        "    # Lecture de l'image\n",
        "    img = Image.open(file_path[i])\n",
        "    # Mise à l'échelle de l'image\n",
        "    img = img.resize((image_size,image_size), Image.ANTIALIAS)\n",
        "    # Remplissage de la variable x\n",
        "    x[i] = np.asarray(img)\n",
        "\n",
        "    img_path_split = file_path[i].split('/')\n",
        "    img_name_split = img_path_split[-1].split('.')\n",
        "    class_label = classes.index(img_name_split[-3])\n",
        "    \n",
        "    y[i] = class_label\n",
        "\n",
        "  return x, y\n",
        "\n",
        "x_train, y_train = load_data('./iam/tp3/train/*', CLASSES, image_size=IMAGE_SIZE)\n",
        "x_val, y_val = load_data('./iam/tp3/validation/*', CLASSES, image_size=IMAGE_SIZE)\n",
        "x_test, y_test = load_data('./iam/tp3/test/*', CLASSES, image_size=IMAGE_SIZE)\n",
        "\n",
        "# Normalisation des entrées via une division par 255 des valeurs de pixel.\n",
        "x_train = x_train/255\n",
        "x_val = x_val/255\n",
        "x_test = x_test/255"
      ]
    },
    {
      "cell_type": "markdown",
      "metadata": {
        "id": "vwngS1p9V1VN"
      },
      "source": [
        "### Visualisation des images"
      ]
    },
    {
      "cell_type": "code",
      "execution_count": 6,
      "metadata": {
        "colab": {
          "base_uri": "https://localhost:8080/",
          "height": 459
        },
        "id": "YXUxcuIPOS5W",
        "outputId": "d887f87a-bcc4-4bb3-a956-6ea246dff3a9"
      },
      "outputs": [
        {
          "output_type": "error",
          "ename": "NameError",
          "evalue": "ignored",
          "traceback": [
            "\u001b[0;31m---------------------------------------------------------------------------\u001b[0m",
            "\u001b[0;31mNameError\u001b[0m                                 Traceback (most recent call last)",
            "\u001b[0;32m<ipython-input-6-7a2064693fc6>\u001b[0m in \u001b[0;36m<module>\u001b[0;34m\u001b[0m\n\u001b[1;32m      8\u001b[0m \u001b[0;32mfor\u001b[0m \u001b[0mi\u001b[0m \u001b[0;32min\u001b[0m \u001b[0mrange\u001b[0m\u001b[0;34m(\u001b[0m\u001b[0;36m0\u001b[0m\u001b[0;34m,\u001b[0m \u001b[0;36m9\u001b[0m\u001b[0;34m)\u001b[0m\u001b[0;34m:\u001b[0m\u001b[0;34m\u001b[0m\u001b[0;34m\u001b[0m\u001b[0m\n\u001b[1;32m      9\u001b[0m     \u001b[0mplt\u001b[0m\u001b[0;34m.\u001b[0m\u001b[0msubplot\u001b[0m\u001b[0;34m(\u001b[0m\u001b[0;36m3\u001b[0m\u001b[0;34m,\u001b[0m \u001b[0;36m3\u001b[0m\u001b[0;34m,\u001b[0m \u001b[0mi\u001b[0m\u001b[0;34m+\u001b[0m\u001b[0;36m1\u001b[0m\u001b[0;34m)\u001b[0m\u001b[0;34m\u001b[0m\u001b[0;34m\u001b[0m\u001b[0m\n\u001b[0;32m---> 10\u001b[0;31m     \u001b[0mplt\u001b[0m\u001b[0;34m.\u001b[0m\u001b[0mtitle\u001b[0m\u001b[0;34m(\u001b[0m\u001b[0mCLASSES\u001b[0m\u001b[0;34m[\u001b[0m\u001b[0mint\u001b[0m\u001b[0;34m(\u001b[0m\u001b[0my_train\u001b[0m\u001b[0;34m[\u001b[0m\u001b[0mi\u001b[0m\u001b[0;34m]\u001b[0m\u001b[0;34m)\u001b[0m\u001b[0;34m]\u001b[0m\u001b[0;34m)\u001b[0m\u001b[0;34m\u001b[0m\u001b[0;34m\u001b[0m\u001b[0m\n\u001b[0m\u001b[1;32m     11\u001b[0m     \u001b[0mplt\u001b[0m\u001b[0;34m.\u001b[0m\u001b[0mimshow\u001b[0m\u001b[0;34m(\u001b[0m\u001b[0mx_train\u001b[0m\u001b[0;34m[\u001b[0m\u001b[0mi\u001b[0m\u001b[0;34m]\u001b[0m\u001b[0;34m)\u001b[0m\u001b[0;34m\u001b[0m\u001b[0;34m\u001b[0m\u001b[0m\n\u001b[1;32m     12\u001b[0m \u001b[0mplt\u001b[0m\u001b[0;34m.\u001b[0m\u001b[0mtight_layout\u001b[0m\u001b[0;34m(\u001b[0m\u001b[0;34m)\u001b[0m\u001b[0;34m\u001b[0m\u001b[0;34m\u001b[0m\u001b[0m\n",
            "\u001b[0;31mNameError\u001b[0m: name 'CLASSES' is not defined"
          ]
        },
        {
          "output_type": "display_data",
          "data": {
            "text/plain": [
              "<Figure size 864x864 with 1 Axes>"
            ],
            "image/png": "[encoded data removed]"
          },
          "metadata": {
            "needs_background": "light"
          }
        }
      ],
      "source": [
        "import matplotlib.pyplot as plt\n",
        "%matplotlib inline\n",
        "\n",
        "# Randomisation des indices et affichage de 9 images alétoires de la base d'apprentissage\n",
        "indices = np.arange(x_train.shape[0])\n",
        "np.random.shuffle(indices)\n",
        "plt.figure(figsize=(12, 12))\n",
        "for i in range(0, 9):\n",
        "    plt.subplot(3, 3, i+1)\n",
        "    plt.title(CLASSES[int(y_train[i])])\n",
        "    plt.imshow(x_train[i])\n",
        "plt.tight_layout()\n",
        "plt.show()"
      ]
    },
    {
      "cell_type": "markdown",
      "metadata": {
        "id": "tV5s1T3yWJB6"
      },
      "source": [
        "## Première approche : réseau convolutif de base"
      ]
    },
    {
      "cell_type": "markdown",
      "metadata": {
        "id": "00T5cUGlif9z"
      },
      "source": [
        "Les images ont toutes été redimensionnées en $64 \\times 64$. \n",
        "Vous devez définir un réseau de neurones convolutif en suivant ce schéma pour la base convolutive : \n",
        "\n",
        "<center> <img src=\"https://drive.google.com/uc?id=1bwXaIgO-pKJGs6fVaX0IrLbFbUAlTvNM\" style=\"width:800;height:400px;\"></center>\n",
        "<caption><center><b> Figure 2: Vue de l'architecture à implémenter </b></center></caption>\n",
        "\n",
        "Ce réseau alterne dans une première phase les couches de convolution et de Max Pooling (afin de diviser à chaque fois la dimension des tenseurs par 2). \n",
        "\n",
        "La première couche comptera 32 filtres de convolution, la seconde 64, la troisième 96 et la 4e 128. Enfin, avant la couche de sortie, vous ajouterez une couche dense comptant 512 neurones. Vous aurez donc construit un réseau à 6 couches, sorte de version simplifiée d'AlexNet.\n",
        "\n",
        "Pour construire ce réseau, vous pouvez utiliser les fonctions Conv2D, Maxpooling2D, et Flatten de Keras."
      ]
    },
    {
      "cell_type": "code",
      "execution_count": null,
      "metadata": {
        "id": "ktYvE7Poiyhm"
      },
      "outputs": [],
      "source": [
        "from tensorflow.keras.layers import Conv2D, MaxPooling2D\n",
        "from tensorflow.keras.layers import Dense, Flatten\n",
        "\n",
        "model = Sequential()\n",
        "model.add(Conv2D(32,(3,3), activation=\"relu\"))\n",
        "model.add(MaxPooling2D(pool_size=(2, 2)))\n",
        "\n",
        "model.add(Conv2D(64, (3, 3), activation=\"relu\"))\n",
        "model.add(MaxPooling2D(pool_size=(2, 2)))\n",
        "\n",
        "model.add(Conv2D(96, (3, 3), activation=\"relu\"))\n",
        "model.add(MaxPooling2D(pool_size=(2, 2)))\n",
        "\n",
        "model.add(Conv2D(128, (3, 3), activation=\"relu\"))\n",
        "model.add(MaxPooling2D(pool_size=(2, 2)))\n",
        "\n",
        "model.add(Flatten())    # \"Mise à plat\" (vectorisation) du tenseur pour permettre de la connecter à une couche dense\n",
        "model.add(Dense(512,activation='relu'))  \n",
        "model.add(Dense(1, activation='sigmoid'))\n"
      ]
    },
    {
      "cell_type": "code",
      "execution_count": null,
      "metadata": {
        "colab": {
          "base_uri": "https://localhost:8080/",
          "height": 317
        },
        "id": "PtQwoedfbvk0",
        "outputId": "dd5205fb-1d0c-4019-ebfc-787d8c0791cd"
      },
      "outputs": [
        {
          "ename": "ValueError",
          "evalue": "ignored",
          "output_type": "error",
          "traceback": [
            "\u001b[0;31m---------------------------------------------------------------------------\u001b[0m",
            "\u001b[0;31mValueError\u001b[0m                                Traceback (most recent call last)",
            "\u001b[0;32m<ipython-input-156-5f15418b3570>\u001b[0m in \u001b[0;36m<module>\u001b[0;34m\u001b[0m\n\u001b[0;32m----> 1\u001b[0;31m \u001b[0mmodel\u001b[0m\u001b[0;34m.\u001b[0m\u001b[0msummary\u001b[0m\u001b[0;34m(\u001b[0m\u001b[0;34m)\u001b[0m\u001b[0;34m\u001b[0m\u001b[0;34m\u001b[0m\u001b[0m\n\u001b[0m",
            "\u001b[0;32m/usr/local/lib/python3.9/dist-packages/keras/engine/training.py\u001b[0m in \u001b[0;36msummary\u001b[0;34m(self, line_length, positions, print_fn, expand_nested, show_trainable, layer_range)\u001b[0m\n\u001b[1;32m   3290\u001b[0m         \"\"\"\n\u001b[1;32m   3291\u001b[0m         \u001b[0;32mif\u001b[0m \u001b[0;32mnot\u001b[0m \u001b[0mself\u001b[0m\u001b[0;34m.\u001b[0m\u001b[0mbuilt\u001b[0m\u001b[0;34m:\u001b[0m\u001b[0;34m\u001b[0m\u001b[0;34m\u001b[0m\u001b[0m\n\u001b[0;32m-> 3292\u001b[0;31m             raise ValueError(\n\u001b[0m\u001b[1;32m   3293\u001b[0m                 \u001b[0;34m\"This model has not yet been built. \"\u001b[0m\u001b[0;34m\u001b[0m\u001b[0;34m\u001b[0m\u001b[0m\n\u001b[1;32m   3294\u001b[0m                 \u001b[0;34m\"Build the model first by calling `build()` or by calling \"\u001b[0m\u001b[0;34m\u001b[0m\u001b[0;34m\u001b[0m\u001b[0m\n",
            "\u001b[0;31mValueError\u001b[0m: This model has not yet been built. Build the model first by calling `build()` or by calling the model on a batch of data."
          ]
        }
      ],
      "source": [
        "model.summary()"
      ]
    },
    {
      "cell_type": "markdown",
      "metadata": {
        "id": "yWqVtzWZIsOY"
      },
      "source": [
        "### Entrainement"
      ]
    },
    {
      "cell_type": "markdown",
      "metadata": {
        "id": "6Q9IQIETzLI-"
      },
      "source": [
        "Pour l'entraînement, vous pouvez utiliser directement les hyperparamètres suivants."
      ]
    },
    {
      "cell_type": "code",
      "execution_count": null,
      "metadata": {
        "id": "IJsJ7mMIjCGm"
      },
      "outputs": [],
      "source": [
        "# COMPLETER LA FONCTION DE COUT A UTILISER\n",
        "model.compile(loss='binary_crossentropy',\n",
        "              optimizer=optimizers.Adam(learning_rate=3e-4),\n",
        "              metrics=['accuracy'])"
      ]
    },
    {
      "cell_type": "markdown",
      "metadata": {
        "id": "LNbGxTZt4cck"
      },
      "source": [
        "... puis lancer l'entraînement. **Attention : si jamais vous voulez relancer l'entraînement, il faut réinitialiser les poids du réseau. Pour cela il faut re-exécuter les cellules précédentes à partir de la définition du réseau !** Sinon vous risquez de repartir d'un entraînement précédent (qui s'est éventuellement bien, ou mal déroulé) et mal interpréter votre nouvel entraînement."
      ]
    },
    {
      "cell_type": "code",
      "execution_count": null,
      "metadata": {
        "colab": {
          "base_uri": "https://localhost:8080/"
        },
        "id": "fjetcQRljJC8",
        "outputId": "aaa62d67-ffa2-4949-875b-858b73872768"
      },
      "outputs": [
        {
          "name": "stdout",
          "output_type": "stream",
          "text": [
            "Epoch 1/10\n",
            "200/200 [==============================] - 3s 7ms/step - loss: 0.6947 - accuracy: 0.5035 - val_loss: 0.6926 - val_accuracy: 0.5010\n",
            "Epoch 2/10\n",
            "200/200 [==============================] - 1s 6ms/step - loss: 0.6826 - accuracy: 0.5535 - val_loss: 0.6779 - val_accuracy: 0.6080\n",
            "Epoch 3/10\n",
            "200/200 [==============================] - 1s 6ms/step - loss: 0.6476 - accuracy: 0.6415 - val_loss: 0.6502 - val_accuracy: 0.6360\n",
            "Epoch 4/10\n",
            "200/200 [==============================] - 1s 6ms/step - loss: 0.5985 - accuracy: 0.6775 - val_loss: 0.6194 - val_accuracy: 0.6750\n",
            "Epoch 5/10\n",
            "200/200 [==============================] - 1s 6ms/step - loss: 0.5501 - accuracy: 0.7260 - val_loss: 0.6705 - val_accuracy: 0.6420\n",
            "Epoch 6/10\n",
            "200/200 [==============================] - 2s 8ms/step - loss: 0.4886 - accuracy: 0.7700 - val_loss: 0.6138 - val_accuracy: 0.6860\n",
            "Epoch 7/10\n",
            "200/200 [==============================] - 1s 7ms/step - loss: 0.4210 - accuracy: 0.8130 - val_loss: 0.6124 - val_accuracy: 0.7160\n",
            "Epoch 8/10\n",
            "200/200 [==============================] - 1s 6ms/step - loss: 0.3822 - accuracy: 0.8275 - val_loss: 0.5920 - val_accuracy: 0.7030\n",
            "Epoch 9/10\n",
            "200/200 [==============================] - 1s 7ms/step - loss: 0.3019 - accuracy: 0.8740 - val_loss: 0.6643 - val_accuracy: 0.7130\n",
            "Epoch 10/10\n",
            "200/200 [==============================] - 1s 6ms/step - loss: 0.2218 - accuracy: 0.9100 - val_loss: 0.6786 - val_accuracy: 0.7470\n"
          ]
        }
      ],
      "source": [
        "history = model.fit(x_train, y_train, validation_data=(x_val, y_val), epochs=10, batch_size=10)"
      ]
    },
    {
      "cell_type": "markdown",
      "metadata": {
        "id": "iBPk-patWSYX"
      },
      "source": [
        "### Analyse des résultats du modèle"
      ]
    },
    {
      "cell_type": "markdown",
      "metadata": {
        "id": "casoAuXmzWYb"
      },
      "source": [
        "Les quelques lignes suivantes permettent d'afficher l'évolution des métriques au cours de l'entraînement, sur les ensembles d'apprentissage et de validation."
      ]
    },
    {
      "cell_type": "code",
      "execution_count": null,
      "metadata": {
        "id": "fExCbSI3V6Ur"
      },
      "outputs": [],
      "source": [
        "def plot_training_analysis():\n",
        "  acc = history.history['accuracy']\n",
        "  val_acc = history.history['val_accuracy']\n",
        "  loss = history.history['loss']\n",
        "  val_loss = history.history['val_loss']\n",
        "\n",
        "  epochs = range(len(acc))\n",
        "\n",
        "  plt.plot(epochs, acc, 'b', linestyle=\"--\",label='Training acc')\n",
        "  plt.plot(epochs, val_acc, 'g', label='Validation acc')\n",
        "  plt.title('Training and validation accuracy')\n",
        "  plt.legend()\n",
        "\n",
        "  plt.figure()\n",
        "\n",
        "  plt.plot(epochs, loss, 'b', linestyle=\"--\",label='Training loss')\n",
        "  plt.plot(epochs, val_loss,'g', label='Validation loss')\n",
        "  plt.title('Training and validation loss')\n",
        "  plt.legend()\n",
        "\n",
        "  plt.show()"
      ]
    },
    {
      "cell_type": "code",
      "execution_count": null,
      "metadata": {
        "colab": {
          "base_uri": "https://localhost:8080/",
          "height": 545
        },
        "id": "ex3AjPOPu2UN",
        "outputId": "e3c4c2b0-a8d3-4944-b957-b8080be84a79"
      },
      "outputs": [
        {
          "data": {
            "image/png": "[encoded data removed]",
            "text/plain": [
              "<Figure size 432x288 with 1 Axes>"
            ]
          },
          "metadata": {},
          "output_type": "display_data"
        },
        {
          "data": {
            "image/png": "[encoded data removed]",
            "text/plain": [
              "<Figure size 432x288 with 1 Axes>"
            ]
          },
          "metadata": {},
          "output_type": "display_data"
        }
      ],
      "source": [
        "plot_training_analysis()"
      ]
    },
    {
      "cell_type": "markdown",
      "metadata": {
        "id": "ochTgkyqwHIe"
      },
      "source": [
        "### Correction du surapprentissage"
      ]
    },
    {
      "cell_type": "markdown",
      "metadata": {
        "id": "zXb2ZxKv4gpi"
      },
      "source": [
        "Vous devriez reconnaître le problème auquel vous avez affaire : **le surapprentissage**. Ce problème est classique dès lors que l'on travaille sur des bases de données de taille réduite en apprentissage profond.\n",
        " En effet, le réseau que vous avez créé compte normalement (si vous avez suivi les indications) plusieurs centaines de milliers de paramètres. Le problème que vous essayez de résoudre pendant l'entraînement consiste à établir 450 000 paramètres avec seulement 2000 exemples : c'est trop peu !\n",
        "\n",
        "Afin de limiter ce surapprentissage, nous pouvons appliquer les techniques de régularisation vues pendant le 2nd cours. En traitement d'image, une des techniques les plus couramment utilisées est **l'augmentation de la base de données**.\n",
        "\n",
        "Nous allons introduire un objet *ImageDataGenerator* pour appliquer des transformations supplémentaires aux images de notre base de données. A vous de chercher dans la documentation à quoi correspondent les différents paramètres présentés ci-dessous."
      ]
    },
    {
      "cell_type": "code",
      "execution_count": null,
      "metadata": {
        "id": "90Wlyt6Gwm6v"
      },
      "outputs": [],
      "source": [
        "from tensorflow.keras.preprocessing.image import ImageDataGenerator\n",
        "\n",
        "train_datagen = ImageDataGenerator(\n",
        "    rotation_range=40,\n",
        "    width_shift_range=0.2,\n",
        "    height_shift_range=0.2,\n",
        "    shear_range=0.2,\n",
        "    zoom_range=0.2,\n",
        "    horizontal_flip=True)\n"
      ]
    },
    {
      "cell_type": "markdown",
      "metadata": {
        "id": "TkZEqml-4ccl"
      },
      "source": [
        "La cellule suivante vous permet de visualiser des images passées à travers notre boucle d'augmentation de données. Observez comment les valeurs manquantes (par exemple, dans le cas d'une rotation) sont comblées."
      ]
    },
    {
      "cell_type": "code",
      "execution_count": null,
      "metadata": {
        "colab": {
          "base_uri": "https://localhost:8080/",
          "height": 281
        },
        "id": "nqDBaNs94ccm",
        "outputId": "8f1c7bfe-39d2-4ecb-e7d8-3059f694c822"
      },
      "outputs": [
        {
          "data": {
            "image/png": "[encoded data removed]",
            "text/plain": [
              "<Figure size 432x288 with 1 Axes>"
            ]
          },
          "metadata": {},
          "output_type": "display_data"
        }
      ],
      "source": [
        "example_x, example_y = train_datagen.flow(x_train, y_train, batch_size=1).next()\n",
        "for i in range(0,1):\n",
        "    plt.imshow(example_x[i])\n",
        "    plt.title(CLASSES[int(example_y[i])])\n",
        "    plt.show()"
      ]
    },
    {
      "cell_type": "markdown",
      "metadata": {
        "id": "KdqsPbKm5TkR"
      },
      "source": [
        "Nous pouvons maintenant recréer notre modèle et relancer l'entraînement."
      ]
    },
    {
      "cell_type": "code",
      "execution_count": null,
      "metadata": {
        "colab": {
          "base_uri": "https://localhost:8080/"
        },
        "id": "VJLABQ67yLms",
        "outputId": "523927bc-3e08-42b3-a348-c4847f5af1d9"
      },
      "outputs": [
        {
          "name": "stdout",
          "output_type": "stream",
          "text": [
            "Epoch 1/50\n",
            "200/200 [==============================] - 6s 19ms/step - loss: 0.6938 - accuracy: 0.4970 - val_loss: 0.6887 - val_accuracy: 0.5140\n",
            "Epoch 2/50\n",
            "200/200 [==============================] - 5s 23ms/step - loss: 0.6792 - accuracy: 0.5775 - val_loss: 0.6845 - val_accuracy: 0.5510\n",
            "Epoch 3/50\n",
            "200/200 [==============================] - 3s 17ms/step - loss: 0.6629 - accuracy: 0.6005 - val_loss: 0.6794 - val_accuracy: 0.5730\n",
            "Epoch 4/50\n",
            "200/200 [==============================] - 3s 17ms/step - loss: 0.6533 - accuracy: 0.6060 - val_loss: 0.6673 - val_accuracy: 0.5970\n",
            "Epoch 5/50\n",
            "200/200 [==============================] - 4s 21ms/step - loss: 0.6426 - accuracy: 0.6470 - val_loss: 0.6537 - val_accuracy: 0.6060\n",
            "Epoch 6/50\n",
            "200/200 [==============================] - 3s 17ms/step - loss: 0.6359 - accuracy: 0.6415 - val_loss: 0.6456 - val_accuracy: 0.6320\n",
            "Epoch 7/50\n",
            "200/200 [==============================] - 3s 17ms/step - loss: 0.6254 - accuracy: 0.6565 - val_loss: 0.6416 - val_accuracy: 0.6340\n",
            "Epoch 8/50\n",
            "200/200 [==============================] - 4s 18ms/step - loss: 0.6207 - accuracy: 0.6645 - val_loss: 0.6129 - val_accuracy: 0.6640\n",
            "Epoch 9/50\n",
            "200/200 [==============================] - 3s 16ms/step - loss: 0.6120 - accuracy: 0.6710 - val_loss: 0.6006 - val_accuracy: 0.6910\n",
            "Epoch 10/50\n",
            "200/200 [==============================] - 3s 16ms/step - loss: 0.5959 - accuracy: 0.6820 - val_loss: 0.6189 - val_accuracy: 0.6540\n",
            "Epoch 11/50\n",
            "200/200 [==============================] - 3s 17ms/step - loss: 0.5879 - accuracy: 0.6770 - val_loss: 0.6082 - val_accuracy: 0.6640\n",
            "Epoch 12/50\n",
            "200/200 [==============================] - 4s 19ms/step - loss: 0.5657 - accuracy: 0.7015 - val_loss: 0.5857 - val_accuracy: 0.6860\n",
            "Epoch 13/50\n",
            "200/200 [==============================] - 3s 16ms/step - loss: 0.5672 - accuracy: 0.7050 - val_loss: 0.6414 - val_accuracy: 0.6460\n",
            "Epoch 14/50\n",
            "200/200 [==============================] - 3s 16ms/step - loss: 0.5737 - accuracy: 0.6960 - val_loss: 0.5841 - val_accuracy: 0.6940\n",
            "Epoch 15/50\n",
            "200/200 [==============================] - 4s 21ms/step - loss: 0.5590 - accuracy: 0.7145 - val_loss: 0.5680 - val_accuracy: 0.7050\n",
            "Epoch 16/50\n",
            "200/200 [==============================] - 3s 16ms/step - loss: 0.5405 - accuracy: 0.7335 - val_loss: 0.5521 - val_accuracy: 0.7160\n",
            "Epoch 17/50\n",
            "200/200 [==============================] - 3s 17ms/step - loss: 0.5313 - accuracy: 0.7365 - val_loss: 0.5681 - val_accuracy: 0.7230\n",
            "Epoch 18/50\n",
            "200/200 [==============================] - 4s 18ms/step - loss: 0.5479 - accuracy: 0.7200 - val_loss: 0.5605 - val_accuracy: 0.7100\n",
            "Epoch 19/50\n",
            "200/200 [==============================] - 3s 16ms/step - loss: 0.5325 - accuracy: 0.7265 - val_loss: 0.5501 - val_accuracy: 0.7250\n",
            "Epoch 20/50\n",
            "200/200 [==============================] - 3s 16ms/step - loss: 0.5093 - accuracy: 0.7460 - val_loss: 0.6141 - val_accuracy: 0.6660\n",
            "Epoch 21/50\n",
            "200/200 [==============================] - 4s 18ms/step - loss: 0.5170 - accuracy: 0.7430 - val_loss: 0.6078 - val_accuracy: 0.6980\n",
            "Epoch 22/50\n",
            "200/200 [==============================] - 3s 17ms/step - loss: 0.5243 - accuracy: 0.7430 - val_loss: 0.5424 - val_accuracy: 0.7220\n",
            "Epoch 23/50\n",
            "200/200 [==============================] - 3s 16ms/step - loss: 0.4980 - accuracy: 0.7505 - val_loss: 0.6287 - val_accuracy: 0.7030\n",
            "Epoch 24/50\n",
            "200/200 [==============================] - 4s 17ms/step - loss: 0.5105 - accuracy: 0.7440 - val_loss: 0.5372 - val_accuracy: 0.7310\n",
            "Epoch 25/50\n",
            "200/200 [==============================] - 3s 16ms/step - loss: 0.4931 - accuracy: 0.7715 - val_loss: 0.5313 - val_accuracy: 0.7420\n",
            "Epoch 26/50\n",
            "200/200 [==============================] - 3s 16ms/step - loss: 0.4734 - accuracy: 0.7780 - val_loss: 0.5944 - val_accuracy: 0.7330\n",
            "Epoch 27/50\n",
            "200/200 [==============================] - 4s 18ms/step - loss: 0.4726 - accuracy: 0.7740 - val_loss: 0.5911 - val_accuracy: 0.7200\n",
            "Epoch 28/50\n",
            "200/200 [==============================] - 4s 19ms/step - loss: 0.4666 - accuracy: 0.7815 - val_loss: 0.4969 - val_accuracy: 0.7540\n",
            "Epoch 29/50\n",
            "200/200 [==============================] - 3s 16ms/step - loss: 0.4776 - accuracy: 0.7755 - val_loss: 0.6181 - val_accuracy: 0.7230\n",
            "Epoch 30/50\n",
            "200/200 [==============================] - 3s 16ms/step - loss: 0.4717 - accuracy: 0.7720 - val_loss: 0.5785 - val_accuracy: 0.7070\n",
            "Epoch 31/50\n",
            "200/200 [==============================] - 4s 21ms/step - loss: 0.4591 - accuracy: 0.7895 - val_loss: 0.5026 - val_accuracy: 0.7640\n",
            "Epoch 32/50\n",
            "200/200 [==============================] - 3s 16ms/step - loss: 0.4680 - accuracy: 0.7910 - val_loss: 0.4954 - val_accuracy: 0.7680\n",
            "Epoch 33/50\n",
            "200/200 [==============================] - 3s 17ms/step - loss: 0.4571 - accuracy: 0.7835 - val_loss: 0.5104 - val_accuracy: 0.7560\n",
            "Epoch 34/50\n",
            "200/200 [==============================] - 4s 19ms/step - loss: 0.4499 - accuracy: 0.7830 - val_loss: 0.4842 - val_accuracy: 0.7730\n",
            "Epoch 35/50\n",
            "200/200 [==============================] - 3s 16ms/step - loss: 0.4464 - accuracy: 0.7870 - val_loss: 0.4901 - val_accuracy: 0.7710\n",
            "Epoch 36/50\n",
            "200/200 [==============================] - 3s 16ms/step - loss: 0.4470 - accuracy: 0.7910 - val_loss: 0.4684 - val_accuracy: 0.7820\n",
            "Epoch 37/50\n",
            "200/200 [==============================] - 3s 17ms/step - loss: 0.4413 - accuracy: 0.7995 - val_loss: 0.4831 - val_accuracy: 0.7740\n",
            "Epoch 38/50\n",
            "200/200 [==============================] - 3s 17ms/step - loss: 0.4377 - accuracy: 0.7890 - val_loss: 0.4828 - val_accuracy: 0.7750\n",
            "Epoch 39/50\n",
            "200/200 [==============================] - 3s 17ms/step - loss: 0.4407 - accuracy: 0.7970 - val_loss: 0.5318 - val_accuracy: 0.7380\n",
            "Epoch 40/50\n",
            "200/200 [==============================] - 4s 18ms/step - loss: 0.4255 - accuracy: 0.8015 - val_loss: 0.4637 - val_accuracy: 0.7870\n",
            "Epoch 41/50\n",
            "200/200 [==============================] - 3s 17ms/step - loss: 0.4260 - accuracy: 0.7970 - val_loss: 0.4942 - val_accuracy: 0.7720\n",
            "Epoch 42/50\n",
            "200/200 [==============================] - 3s 16ms/step - loss: 0.4249 - accuracy: 0.8060 - val_loss: 0.4842 - val_accuracy: 0.7760\n",
            "Epoch 43/50\n",
            "200/200 [==============================] - 4s 18ms/step - loss: 0.4165 - accuracy: 0.8050 - val_loss: 0.4429 - val_accuracy: 0.7930\n",
            "Epoch 44/50\n",
            "200/200 [==============================] - 3s 16ms/step - loss: 0.4213 - accuracy: 0.8015 - val_loss: 0.5445 - val_accuracy: 0.7470\n",
            "Epoch 45/50\n",
            "200/200 [==============================] - 3s 16ms/step - loss: 0.4005 - accuracy: 0.8215 - val_loss: 0.4670 - val_accuracy: 0.7830\n",
            "Epoch 46/50\n",
            "200/200 [==============================] - 4s 18ms/step - loss: 0.4147 - accuracy: 0.8055 - val_loss: 0.4735 - val_accuracy: 0.7770\n",
            "Epoch 47/50\n",
            "200/200 [==============================] - 3s 16ms/step - loss: 0.4025 - accuracy: 0.8165 - val_loss: 0.4653 - val_accuracy: 0.7980\n",
            "Epoch 48/50\n",
            "200/200 [==============================] - 3s 16ms/step - loss: 0.3933 - accuracy: 0.8215 - val_loss: 0.5469 - val_accuracy: 0.7420\n",
            "Epoch 49/50\n",
            "200/200 [==============================] - 4s 19ms/step - loss: 0.3999 - accuracy: 0.8175 - val_loss: 0.4452 - val_accuracy: 0.8080\n",
            "Epoch 50/50\n",
            "200/200 [==============================] - 4s 20ms/step - loss: 0.3943 - accuracy: 0.8200 - val_loss: 0.4937 - val_accuracy: 0.7620\n"
          ]
        }
      ],
      "source": [
        "model = Sequential()\n",
        "\n",
        "model = Sequential()\n",
        "model.add(Conv2D(32,(3,3), activation=\"relu\"))\n",
        "model.add(MaxPooling2D(pool_size=(2, 2)))\n",
        "\n",
        "model.add(Conv2D(64, (3, 3), activation=\"relu\"))\n",
        "model.add(MaxPooling2D(pool_size=(2, 2)))\n",
        "\n",
        "model.add(Conv2D(96, (3, 3), activation=\"relu\"))\n",
        "model.add(MaxPooling2D(pool_size=(2, 2)))\n",
        "\n",
        "model.add(Conv2D(128, (3, 3), activation=\"relu\"))\n",
        "model.add(MaxPooling2D(pool_size=(2, 2)))\n",
        "\n",
        "model.add(Flatten())    # \"Mise à plat\" (vectorisation) du tenseur pour permettre de la connecter à une couche dense\n",
        "model.add(Dense(512,activation='relu'))  \n",
        "model.add(Dense(1, activation='sigmoid'))\n",
        "\n",
        "# AJOUTER EGALEMENT LA FONCTION DE COUT\n",
        "model.compile(loss='binary_crossentropy',\n",
        "              optimizer=optimizers.Adam(learning_rate=3e-4),\n",
        "              metrics=['accuracy'])\n",
        "\n",
        "history = model.fit(train_datagen.flow(x_train, y_train, batch_size=10), \n",
        "                    validation_data=(x_val, y_val),\n",
        "                    epochs=50,\n",
        "                    )"
      ]
    },
    {
      "cell_type": "markdown",
      "metadata": {
        "id": "vM2CLNX8wbfv"
      },
      "source": [
        "### Analyse des résultats"
      ]
    },
    {
      "cell_type": "code",
      "execution_count": null,
      "metadata": {
        "colab": {
          "base_uri": "https://localhost:8080/",
          "height": 545
        },
        "id": "9smZiILLyt8g",
        "outputId": "728bacd2-adcb-4e3f-d0b9-91794f83250f"
      },
      "outputs": [
        {
          "data": {
            "image/png": "[encoded data removed]",
            "text/plain": [
              "<Figure size 432x288 with 1 Axes>"
            ]
          },
          "metadata": {},
          "output_type": "display_data"
        },
        {
          "data": {
            "image/png": "[encoded data removed]",
            "text/plain": [
              "<Figure size 432x288 with 1 Axes>"
            ]
          },
          "metadata": {},
          "output_type": "display_data"
        }
      ],
      "source": [
        "plot_training_analysis()"
      ]
    },
    {
      "cell_type": "markdown",
      "metadata": {
        "id": "T_JbNoF46le7"
      },
      "source": [
        "On voit clairement sur les courbes que l'on a limité le sur-apprentissage. Notez aussi d'ailleurs, et c'est important, que l'apprentissage est plus lent : le modèle met plus de temps à prédire correctement l'ensemble d'apprentissage. C'est normal, car on a en quelque sorte \"complexifié le problème\" en introduisant toutes ces déformations de nos images.\n",
        "Cette forme de régularisation \"par les données\" s'ajoute aux autres méthodes que nous avons vues précédemment comme la régularisation L1/L2 des poids du réseau et le Dropout.  \n",
        "\n",
        "Vous devriez maintenant atteindre des performances autour de 80% de précision sur l'ensemble de validation, ce qui est bien mais pas complètement satisfaisant : il faudrait pour continuer à s'améliorer probablement s'entraîner plus longtemps, mais également disposer de plus de données.\n",
        "\n",
        "Une autre solution est d'utiliser le **Transfer Learning**."
      ]
    },
    {
      "cell_type": "markdown",
      "metadata": {
        "id": "qrnhgtWx4DOR"
      },
      "source": []
    },
    {
      "cell_type": "markdown",
      "metadata": {
        "id": "aVFqfXs9GrKe"
      },
      "source": [
        "## Transfer learning\n",
        "\n",
        "L'une des raisons qui peut expliquer le fait que nos résultats soient décevants est que les premières couches de notre réseau convolutif, sensées détecter des caractéristiques utiles pour discriminer chiens et chats, n'ont pas appris de filtres suffisamment généraux à partir des 2000 images d'entraînement. Ainsi, même si ces filtres sont pertinents pour les 2000 images d'entraînement, il y a en fait assez peu de chances que ces filtres puissent bien fonctionner pour la généralisation sur de nouvelles données.\n",
        "\n",
        "C'est la raison pour laquelle nous avons envie de réutiliser un réseau pré-entrainé sur une large base de données, permettant donc de détecter des caractéristiques qui généraliseront mieux à de nouvelles données.\n",
        "\n",
        "Dans cette partie, nous allons réutiliser un réseau célèbre, et d'ores et déjà entraîné sur la base de données ImageNet : le réseau VGG-16.\n",
        "\n",
        "Commençons par récupérer les couches de convolution de ce réseau, et s'en remémorer  la composition."
      ]
    },
    {
      "cell_type": "code",
      "execution_count": null,
      "metadata": {
        "colab": {
          "base_uri": "https://localhost:8080/"
        },
        "id": "zRWY8mEQuF9O",
        "outputId": "2f15d07e-790b-42a1-d562-38c8612cb351"
      },
      "outputs": [
        {
          "name": "stdout",
          "output_type": "stream",
          "text": [
            "Downloading data from https://storage.googleapis.com/tensorflow/keras-applications/vgg16/vgg16_weights_tf_dim_ordering_tf_kernels_notop.h5\n",
            "58889256/58889256 [==============================] - 3s 0us/step\n"
          ]
        }
      ],
      "source": [
        "from tensorflow.keras.applications import VGG16\n",
        "\n",
        "conv_base = VGG16(weights='imagenet', # On utilise les poids du réseau déjà pré-entrainé sur la base de données ImageNet\n",
        "                  include_top=False, # On ne conserve pas la partie Dense du réseau originel\n",
        "                  input_shape=(IMAGE_SIZE, IMAGE_SIZE, 3))"
      ]
    },
    {
      "cell_type": "code",
      "execution_count": null,
      "metadata": {
        "colab": {
          "base_uri": "https://localhost:8080/"
        },
        "id": "xv_jCMwkuHY4",
        "outputId": "a86ab886-e78a-4167-d466-e6b772a3e34f"
      },
      "outputs": [
        {
          "name": "stdout",
          "output_type": "stream",
          "text": [
            "Model: \"vgg16\"\n",
            "_________________________________________________________________\n",
            " Layer (type)                Output Shape              Param #   \n",
            "=================================================================\n",
            " input_1 (InputLayer)        [(None, 64, 64, 3)]       0         \n",
            "                                                                 \n",
            " block1_conv1 (Conv2D)       (None, 64, 64, 64)        1792      \n",
            "                                                                 \n",
            " block1_conv2 (Conv2D)       (None, 64, 64, 64)        36928     \n",
            "                                                                 \n",
            " block1_pool (MaxPooling2D)  (None, 32, 32, 64)        0         \n",
            "                                                                 \n",
            " block2_conv1 (Conv2D)       (None, 32, 32, 128)       73856     \n",
            "                                                                 \n",
            " block2_conv2 (Conv2D)       (None, 32, 32, 128)       147584    \n",
            "                                                                 \n",
            " block2_pool (MaxPooling2D)  (None, 16, 16, 128)       0         \n",
            "                                                                 \n",
            " block3_conv1 (Conv2D)       (None, 16, 16, 256)       295168    \n",
            "                                                                 \n",
            " block3_conv2 (Conv2D)       (None, 16, 16, 256)       590080    \n",
            "                                                                 \n",
            " block3_conv3 (Conv2D)       (None, 16, 16, 256)       590080    \n",
            "                                                                 \n",
            " block3_pool (MaxPooling2D)  (None, 8, 8, 256)         0         \n",
            "                                                                 \n",
            " block4_conv1 (Conv2D)       (None, 8, 8, 512)         1180160   \n",
            "                                                                 \n",
            " block4_conv2 (Conv2D)       (None, 8, 8, 512)         2359808   \n",
            "                                                                 \n",
            " block4_conv3 (Conv2D)       (None, 8, 8, 512)         2359808   \n",
            "                                                                 \n",
            " block4_pool (MaxPooling2D)  (None, 4, 4, 512)         0         \n",
            "                                                                 \n",
            " block5_conv1 (Conv2D)       (None, 4, 4, 512)         2359808   \n",
            "                                                                 \n",
            " block5_conv2 (Conv2D)       (None, 4, 4, 512)         2359808   \n",
            "                                                                 \n",
            " block5_conv3 (Conv2D)       (None, 4, 4, 512)         2359808   \n",
            "                                                                 \n",
            " block5_pool (MaxPooling2D)  (None, 2, 2, 512)         0         \n",
            "                                                                 \n",
            "=================================================================\n",
            "Total params: 14,714,688\n",
            "Trainable params: 14,714,688\n",
            "Non-trainable params: 0\n",
            "_________________________________________________________________\n"
          ]
        }
      ],
      "source": [
        "conv_base.summary()"
      ]
    },
    {
      "cell_type": "markdown",
      "metadata": {
        "id": "bKyLfZcwOYwH"
      },
      "source": [
        "Nous pouvons extraire les caractéristiques, apprises par le réseau de neurones sur ImageNet, de notre base de données d'image de chiens et de chat. L'intérêt, par rapport à la première partie, est qu'il aurait été presque impossible de déduire ces caractéristiques \"générales\" (trouvées sur une immense base de données) depuis notre base de données trop réduite de 2000 images. En revanche, ces caractéristiques générales devraient se révéler utiles pour notre classifieur.\n",
        "\n",
        "On peut lire sur la structure du réseau VGG résumée grâce à la fonction *summary* ci-dessus que le tenseur de sortie est de dimension $2 \\times 2 \\times 512$, autrement dit que le réseau prédit des caractéristiques de dimension $2 \\times 2 \\times 512$ à partir d'une image de taille $64 \\times 64$.\n",
        "\n",
        "On va redimensionner cette sortie dans un vecteur de dimension $2048 = 2 \\times 2 \\times 512$. "
      ]
    },
    {
      "cell_type": "code",
      "execution_count": null,
      "metadata": {
        "colab": {
          "base_uri": "https://localhost:8080/"
        },
        "id": "op4vvD9_ugWL",
        "outputId": "524255e3-14e7-4b23-db9f-03db580b0d13"
      },
      "outputs": [
        {
          "name": "stdout",
          "output_type": "stream",
          "text": [
            "63/63 [==============================] - 2s 19ms/step\n",
            "32/32 [==============================] - 1s 22ms/step\n"
          ]
        }
      ],
      "source": [
        "train_features = conv_base.predict(x_train)\n",
        "train_features = np.reshape(train_features,(train_features.shape[0],2*2*512))\n",
        "\n",
        "val_features = conv_base.predict(x_val)\n",
        "val_features = np.reshape(val_features,(val_features.shape[0],2*2*512))"
      ]
    },
    {
      "cell_type": "markdown",
      "metadata": {
        "id": "0A_ayR0dvvwe"
      },
      "source": [
        "Nous pouvons maintenant définir un réseau de neurones simple (par exemple, de 2 couches denses, avec 256 neurones sur la couche cachée)  qui va travailler directement sur les caractéristiques prédites par VGG."
      ]
    },
    {
      "cell_type": "code",
      "execution_count": null,
      "metadata": {
        "colab": {
          "base_uri": "https://localhost:8080/"
        },
        "id": "lmmBYYmtvUUF",
        "outputId": "41420263-a835-4354-873f-a5b825bdfa0b"
      },
      "outputs": [
        {
          "name": "stderr",
          "output_type": "stream",
          "text": [
            "WARNING:absl:`lr` is deprecated, please use `learning_rate` instead, or use the legacy optimizer, e.g.,tf.keras.optimizers.legacy.Adam.\n"
          ]
        },
        {
          "name": "stdout",
          "output_type": "stream",
          "text": [
            "Epoch 1/50\n",
            "125/125 [==============================] - 2s 5ms/step - loss: 7.7125 - accuracy: 0.5000 - val_loss: 7.7125 - val_accuracy: 0.5000\n",
            "Epoch 2/50\n",
            "125/125 [==============================] - 0s 4ms/step - loss: 7.7125 - accuracy: 0.5000 - val_loss: 7.7125 - val_accuracy: 0.5000\n",
            "Epoch 3/50\n",
            "125/125 [==============================] - 0s 4ms/step - loss: 7.7125 - accuracy: 0.5000 - val_loss: 7.7125 - val_accuracy: 0.5000\n",
            "Epoch 4/50\n",
            "125/125 [==============================] - 1s 6ms/step - loss: 7.7125 - accuracy: 0.5000 - val_loss: 7.7125 - val_accuracy: 0.5000\n",
            "Epoch 5/50\n",
            "125/125 [==============================] - 1s 5ms/step - loss: 7.7125 - accuracy: 0.5000 - val_loss: 7.7125 - val_accuracy: 0.5000\n",
            "Epoch 6/50\n",
            "125/125 [==============================] - 1s 5ms/step - loss: 7.7125 - accuracy: 0.5000 - val_loss: 7.7125 - val_accuracy: 0.5000\n",
            "Epoch 7/50\n",
            "125/125 [==============================] - 1s 4ms/step - loss: 7.7125 - accuracy: 0.5000 - val_loss: 7.7125 - val_accuracy: 0.5000\n",
            "Epoch 8/50\n",
            "125/125 [==============================] - 0s 4ms/step - loss: 7.7125 - accuracy: 0.5000 - val_loss: 7.7125 - val_accuracy: 0.5000\n",
            "Epoch 9/50\n",
            "125/125 [==============================] - 0s 4ms/step - loss: 7.7125 - accuracy: 0.5000 - val_loss: 7.7125 - val_accuracy: 0.5000\n",
            "Epoch 10/50\n",
            "125/125 [==============================] - 1s 4ms/step - loss: 7.7125 - accuracy: 0.5000 - val_loss: 7.7125 - val_accuracy: 0.5000\n",
            "Epoch 11/50\n",
            "125/125 [==============================] - 0s 4ms/step - loss: 7.7125 - accuracy: 0.5000 - val_loss: 7.7125 - val_accuracy: 0.5000\n",
            "Epoch 12/50\n",
            "125/125 [==============================] - 0s 4ms/step - loss: 7.7125 - accuracy: 0.5000 - val_loss: 7.7125 - val_accuracy: 0.5000\n",
            "Epoch 13/50\n",
            "125/125 [==============================] - 0s 4ms/step - loss: 7.7125 - accuracy: 0.5000 - val_loss: 7.7125 - val_accuracy: 0.5000\n",
            "Epoch 14/50\n",
            "125/125 [==============================] - 0s 4ms/step - loss: 7.7125 - accuracy: 0.5000 - val_loss: 7.7125 - val_accuracy: 0.5000\n",
            "Epoch 15/50\n",
            "125/125 [==============================] - 0s 4ms/step - loss: 7.7125 - accuracy: 0.5000 - val_loss: 7.7125 - val_accuracy: 0.5000\n",
            "Epoch 16/50\n",
            "125/125 [==============================] - 1s 4ms/step - loss: 7.7125 - accuracy: 0.5000 - val_loss: 7.7125 - val_accuracy: 0.5000\n",
            "Epoch 17/50\n",
            "125/125 [==============================] - 0s 4ms/step - loss: 7.7125 - accuracy: 0.5000 - val_loss: 7.7125 - val_accuracy: 0.5000\n",
            "Epoch 18/50\n",
            "125/125 [==============================] - 1s 4ms/step - loss: 7.7125 - accuracy: 0.5000 - val_loss: 7.7125 - val_accuracy: 0.5000\n",
            "Epoch 19/50\n",
            "125/125 [==============================] - 0s 4ms/step - loss: 7.7125 - accuracy: 0.5000 - val_loss: 7.7125 - val_accuracy: 0.5000\n",
            "Epoch 20/50\n",
            "125/125 [==============================] - 0s 4ms/step - loss: 7.7125 - accuracy: 0.5000 - val_loss: 7.7125 - val_accuracy: 0.5000\n",
            "Epoch 21/50\n",
            "125/125 [==============================] - 0s 4ms/step - loss: 7.7125 - accuracy: 0.5000 - val_loss: 7.7125 - val_accuracy: 0.5000\n",
            "Epoch 22/50\n",
            "125/125 [==============================] - 0s 4ms/step - loss: 7.7125 - accuracy: 0.5000 - val_loss: 7.7125 - val_accuracy: 0.5000\n",
            "Epoch 23/50\n",
            "125/125 [==============================] - 0s 4ms/step - loss: 7.7125 - accuracy: 0.5000 - val_loss: 7.7125 - val_accuracy: 0.5000\n",
            "Epoch 24/50\n",
            "125/125 [==============================] - 0s 4ms/step - loss: 7.7125 - accuracy: 0.5000 - val_loss: 7.7125 - val_accuracy: 0.5000\n",
            "Epoch 25/50\n",
            "125/125 [==============================] - 1s 4ms/step - loss: 7.7125 - accuracy: 0.5000 - val_loss: 7.7125 - val_accuracy: 0.5000\n",
            "Epoch 26/50\n",
            "125/125 [==============================] - 1s 4ms/step - loss: 7.7125 - accuracy: 0.5000 - val_loss: 7.7125 - val_accuracy: 0.5000\n",
            "Epoch 27/50\n",
            "125/125 [==============================] - 0s 4ms/step - loss: 7.7125 - accuracy: 0.5000 - val_loss: 7.7125 - val_accuracy: 0.5000\n",
            "Epoch 28/50\n",
            "125/125 [==============================] - 1s 7ms/step - loss: 7.7125 - accuracy: 0.5000 - val_loss: 7.7125 - val_accuracy: 0.5000\n",
            "Epoch 29/50\n",
            "125/125 [==============================] - 1s 5ms/step - loss: 7.7125 - accuracy: 0.5000 - val_loss: 7.7125 - val_accuracy: 0.5000\n",
            "Epoch 30/50\n",
            "125/125 [==============================] - 1s 7ms/step - loss: 7.7125 - accuracy: 0.5000 - val_loss: 7.7125 - val_accuracy: 0.5000\n",
            "Epoch 31/50\n",
            "125/125 [==============================] - 1s 4ms/step - loss: 7.7125 - accuracy: 0.5000 - val_loss: 7.7125 - val_accuracy: 0.5000\n",
            "Epoch 32/50\n",
            "125/125 [==============================] - 1s 4ms/step - loss: 7.7125 - accuracy: 0.5000 - val_loss: 7.7125 - val_accuracy: 0.5000\n",
            "Epoch 33/50\n",
            "125/125 [==============================] - 1s 4ms/step - loss: 7.7125 - accuracy: 0.5000 - val_loss: 7.7125 - val_accuracy: 0.5000\n",
            "Epoch 34/50\n",
            "125/125 [==============================] - 0s 4ms/step - loss: 7.7125 - accuracy: 0.5000 - val_loss: 7.7125 - val_accuracy: 0.5000\n",
            "Epoch 35/50\n",
            "125/125 [==============================] - 1s 4ms/step - loss: 7.7125 - accuracy: 0.5000 - val_loss: 7.7125 - val_accuracy: 0.5000\n",
            "Epoch 36/50\n",
            "125/125 [==============================] - 1s 4ms/step - loss: 7.7125 - accuracy: 0.5000 - val_loss: 7.7125 - val_accuracy: 0.5000\n",
            "Epoch 37/50\n",
            "125/125 [==============================] - 0s 4ms/step - loss: 7.7125 - accuracy: 0.5000 - val_loss: 7.7125 - val_accuracy: 0.5000\n",
            "Epoch 38/50\n",
            "125/125 [==============================] - 0s 4ms/step - loss: 7.7125 - accuracy: 0.5000 - val_loss: 7.7125 - val_accuracy: 0.5000\n",
            "Epoch 39/50\n",
            "125/125 [==============================] - 1s 4ms/step - loss: 7.7125 - accuracy: 0.5000 - val_loss: 7.7125 - val_accuracy: 0.5000\n",
            "Epoch 40/50\n",
            "125/125 [==============================] - 0s 4ms/step - loss: 7.7125 - accuracy: 0.5000 - val_loss: 7.7125 - val_accuracy: 0.5000\n",
            "Epoch 41/50\n",
            "125/125 [==============================] - 0s 4ms/step - loss: 7.7125 - accuracy: 0.5000 - val_loss: 7.7125 - val_accuracy: 0.5000\n",
            "Epoch 42/50\n",
            "125/125 [==============================] - 1s 4ms/step - loss: 7.7125 - accuracy: 0.5000 - val_loss: 7.7125 - val_accuracy: 0.5000\n",
            "Epoch 43/50\n",
            "125/125 [==============================] - 0s 4ms/step - loss: 7.7125 - accuracy: 0.5000 - val_loss: 7.7125 - val_accuracy: 0.5000\n",
            "Epoch 44/50\n",
            "125/125 [==============================] - 0s 4ms/step - loss: 7.7125 - accuracy: 0.5000 - val_loss: 7.7125 - val_accuracy: 0.5000\n",
            "Epoch 45/50\n",
            "125/125 [==============================] - 0s 4ms/step - loss: 7.7125 - accuracy: 0.5000 - val_loss: 7.7125 - val_accuracy: 0.5000\n",
            "Epoch 46/50\n",
            "125/125 [==============================] - 0s 4ms/step - loss: 7.7125 - accuracy: 0.5000 - val_loss: 7.7125 - val_accuracy: 0.5000\n",
            "Epoch 47/50\n",
            "125/125 [==============================] - 0s 4ms/step - loss: 7.7125 - accuracy: 0.5000 - val_loss: 7.7125 - val_accuracy: 0.5000\n",
            "Epoch 48/50\n",
            "125/125 [==============================] - 1s 4ms/step - loss: 7.7125 - accuracy: 0.5000 - val_loss: 7.7125 - val_accuracy: 0.5000\n",
            "Epoch 49/50\n",
            "125/125 [==============================] - 0s 4ms/step - loss: 7.7125 - accuracy: 0.5000 - val_loss: 7.7125 - val_accuracy: 0.5000\n",
            "Epoch 50/50\n",
            "125/125 [==============================] - 0s 4ms/step - loss: 7.7125 - accuracy: 0.5000 - val_loss: 7.7125 - val_accuracy: 0.5000\n"
          ]
        }
      ],
      "source": [
        "# A COMPLETER\n",
        "model=Sequential()\n",
        "model.add(Dense(256,'sigmoid'))\n",
        "model.add(Dense(1,'relu'))\n",
        "\n",
        "\n",
        "# AJOUTER EGALEMENT LA FONCTION DE COUT\n",
        "model.compile(optimizer=optimizers.Adam(lr=3e-4),\n",
        "              loss='binary_crossentropy',\n",
        "              metrics=['accuracy'])\n",
        "\n",
        "# COMPLETER AVEC LES TENSEURS SUR LESQUELS EFFECTUER L'APPRENTISSAGE\n",
        "history = model.fit(train_features, y_train,\n",
        "                    epochs=50,\n",
        "                    batch_size=16,\n",
        "                    validation_data=(val_features, y_val))"
      ]
    },
    {
      "cell_type": "code",
      "execution_count": null,
      "metadata": {
        "colab": {
          "base_uri": "https://localhost:8080/",
          "height": 545
        },
        "id": "_5xpyZCS4cco",
        "outputId": "5c126704-0394-41c8-ea96-cb65f5df9bbf"
      },
      "outputs": [
        {
          "data": {
            "image/png": "[encoded data removed]",
            "text/plain": [
              "<Figure size 432x288 with 1 Axes>"
            ]
          },
          "metadata": {},
          "output_type": "display_data"
        },
        {
          "data": {
            "image/png": "[encoded data removed]",
            "text/plain": [
              "<Figure size 432x288 with 1 Axes>"
            ]
          },
          "metadata": {},
          "output_type": "display_data"
        }
      ],
      "source": [
        "plot_training_analysis()"
      ]
    },
    {
      "cell_type": "markdown",
      "metadata": {
        "id": "_CFd7e-dJ-cK"
      },
      "source": [
        "On observe à nouveau beaucoup de sur-apprentissage. Il faudrait trouver un moyen d'intégrer de l'augmentation de données. \n",
        "\n",
        "Pour cela, on peut connecter notre petit réseau de neurones à l'extrémité de la base convolutionnelle de VGG. L'idée est qu'en réutilisant notre générateur de données augmentées, nous pourrons calculer les caractéristiques de VGG sur les données augmentées, et ainsi classifier ces caractéristiques plutôt que les caractéristiques de notre base de données uniquement."
      ]
    },
    {
      "cell_type": "markdown",
      "metadata": {
        "id": "8W85VMorXPtP"
      },
      "source": [
        "## Intégration de l'augmentation de données"
      ]
    },
    {
      "cell_type": "markdown",
      "metadata": {
        "id": "fCb_itsuXenK"
      },
      "source": [
        "### Définition du nouveau modèle et entrainement\n",
        "\n",
        "On commence par créer un nouveau modèle qui va s'appuyer sur la base convolutive de VGG, à laquelle on adjoint une couche dense et notre couche de sortie."
      ]
    },
    {
      "cell_type": "code",
      "execution_count": null,
      "metadata": {
        "id": "jyZZS-GSKyPZ"
      },
      "outputs": [],
      "source": [
        "from tensorflow.keras import layers\n",
        "model = Sequential()\n",
        "model.add(conv_base)\n",
        "model.add(layers.Flatten())\n",
        "model.add(layers.Dense(256, activation='relu'))\n",
        "model.add(layers.Dense(1, activation='sigmoid'))"
      ]
    },
    {
      "cell_type": "code",
      "execution_count": null,
      "metadata": {
        "id": "iZr_u4s7K4Fi"
      },
      "outputs": [],
      "source": [
        "model.summary()"
      ]
    },
    {
      "cell_type": "markdown",
      "metadata": {
        "id": "dRiiu2EbBNAv"
      },
      "source": [
        "**Attention** : il est important de ne pas commander l'entraînement de la base convolutionnelle de VGG ! Nous ne voulons en aucun cas écraser les bonnes caractéristiques de VGG que nous cherchons justement à réutiliser ! Le réseau aurait en outre un grand nombre de paramètres, ce qui est justement ce que l'on veut éviter ! \n",
        "\n",
        "Pour cela nous pouvons utiliser l'attribut *trainable* : en le positionnant à *false*, nous pouvons geler les poids et en empêcher la mise à jour pendant l'entraînement."
      ]
    },
    {
      "cell_type": "code",
      "execution_count": null,
      "metadata": {
        "colab": {
          "base_uri": "https://localhost:8080/"
        },
        "id": "9h8Fx8P0PId5",
        "outputId": "aa4da247-d73d-4fa7-d41c-86e1db7c32df"
      },
      "outputs": [
        {
          "name": "stdout",
          "output_type": "stream",
          "text": [
            "Model: \"sequential_56\"\n",
            "_________________________________________________________________\n",
            " Layer (type)                Output Shape              Param #   \n",
            "=================================================================\n",
            " vgg16 (Functional)          (None, 2, 2, 512)         14714688  \n",
            "                                                                 \n",
            " flatten_30 (Flatten)        (None, 2048)              0         \n",
            "                                                                 \n",
            " dense_83 (Dense)            (None, 256)               524544    \n",
            "                                                                 \n",
            " dense_84 (Dense)            (None, 1)                 257       \n",
            "                                                                 \n",
            "=================================================================\n",
            "Total params: 15,239,489\n",
            "Trainable params: 524,801\n",
            "Non-trainable params: 14,714,688\n",
            "_________________________________________________________________\n"
          ]
        }
      ],
      "source": [
        "conv_base.trainable = False\n",
        "model.summary()"
      ]
    },
    {
      "cell_type": "markdown",
      "metadata": {
        "id": "t7tkMrA14ccp"
      },
      "source": [
        "Observez le décompte des poids : le nombre de poids entraînable est maintenant de 500 000, contre 16 millions précédemment ; on ne va entrainer ici que les poids de notre couche dense et de la couche de sortie."
      ]
    },
    {
      "cell_type": "code",
      "execution_count": null,
      "metadata": {
        "colab": {
          "base_uri": "https://localhost:8080/"
        },
        "id": "go7Uld7sLRdG",
        "outputId": "90e9709c-2a8d-489f-bcb2-15fcb61d442a"
      },
      "outputs": [
        {
          "name": "stdout",
          "output_type": "stream",
          "text": [
            "Epoch 1/10\n",
            "200/200 [==============================] - 6s 21ms/step - loss: 0.6063 - accuracy: 0.6625 - val_loss: 0.4761 - val_accuracy: 0.7750\n",
            "Epoch 2/10\n",
            "200/200 [==============================] - 4s 22ms/step - loss: 0.5313 - accuracy: 0.7385 - val_loss: 0.4627 - val_accuracy: 0.7780\n",
            "Epoch 3/10\n",
            "200/200 [==============================] - 4s 20ms/step - loss: 0.5081 - accuracy: 0.7515 - val_loss: 0.4477 - val_accuracy: 0.7870\n",
            "Epoch 4/10\n",
            "200/200 [==============================] - 4s 21ms/step - loss: 0.5076 - accuracy: 0.7480 - val_loss: 0.4791 - val_accuracy: 0.7740\n",
            "Epoch 5/10\n",
            "200/200 [==============================] - 5s 26ms/step - loss: 0.4836 - accuracy: 0.7525 - val_loss: 0.4550 - val_accuracy: 0.7950\n",
            "Epoch 6/10\n",
            "200/200 [==============================] - 5s 23ms/step - loss: 0.4830 - accuracy: 0.7700 - val_loss: 0.4404 - val_accuracy: 0.7980\n",
            "Epoch 7/10\n",
            "200/200 [==============================] - 4s 20ms/step - loss: 0.4966 - accuracy: 0.7495 - val_loss: 0.5092 - val_accuracy: 0.7460\n",
            "Epoch 8/10\n",
            "200/200 [==============================] - 5s 27ms/step - loss: 0.4590 - accuracy: 0.7770 - val_loss: 0.4497 - val_accuracy: 0.7900\n",
            "Epoch 9/10\n",
            "200/200 [==============================] - 4s 20ms/step - loss: 0.4759 - accuracy: 0.7685 - val_loss: 0.4460 - val_accuracy: 0.7950\n",
            "Epoch 10/10\n",
            "200/200 [==============================] - 5s 23ms/step - loss: 0.4626 - accuracy: 0.7770 - val_loss: 0.4359 - val_accuracy: 0.7920\n"
          ]
        }
      ],
      "source": [
        "model.compile(loss='binary_crossentropy',\n",
        "              optimizer=optimizers.Adam(learning_rate=3e-4),\n",
        "              metrics=['accuracy'])\n",
        "\n",
        "history = model.fit(train_datagen.flow(x_train, y_train, batch_size=10), \n",
        "                    validation_data=(x_val, y_val),\n",
        "                    epochs=10,\n",
        "                    )"
      ]
    },
    {
      "cell_type": "markdown",
      "metadata": {
        "id": "N-RNeMcAXu8h"
      },
      "source": [
        "### Analyse des résultats du nouveau modèle"
      ]
    },
    {
      "cell_type": "markdown",
      "metadata": {
        "id": "tJWBzO-KCCSh"
      },
      "source": [
        "L'entraînement est beaucoup plus lent ! Il faut en effet générer les données augmentées, et leur faire traverser les couches de VGG à chaque itération de gradient. Ceci prend du temps !"
      ]
    },
    {
      "cell_type": "code",
      "execution_count": null,
      "metadata": {
        "colab": {
          "base_uri": "https://localhost:8080/",
          "height": 545
        },
        "id": "_DHOFSauLyJa",
        "outputId": "4d04ac13-0bea-4b5c-98b5-7ec29902c5f7"
      },
      "outputs": [
        {
          "data": {
            "image/png": "[encoded data removed]",
            "text/plain": [
              "<Figure size 432x288 with 1 Axes>"
            ]
          },
          "metadata": {},
          "output_type": "display_data"
        },
        {
          "data": {
            "image/png": "[encoded data removed]",
            "text/plain": [
              "<Figure size 432x288 with 1 Axes>"
            ]
          },
          "metadata": {},
          "output_type": "display_data"
        }
      ],
      "source": [
        "plot_training_analysis()"
      ]
    },
    {
      "cell_type": "markdown",
      "metadata": {
        "id": "ac4pNlvJCtkY"
      },
      "source": [
        "En revanche, on observe que l'on a bien limité le sur-apprentissage, ce qui était le but recherché. Les résultats sont un peu meilleurs mais pas complètement satisfaisants."
      ]
    },
    {
      "cell_type": "markdown",
      "metadata": {
        "id": "UmykKP9_M1GW"
      },
      "source": [
        "### Fine-tuning\n"
      ]
    },
    {
      "cell_type": "markdown",
      "metadata": {
        "id": "r4pV9QlhFc_8"
      },
      "source": [
        "Nous pouvons maintenant tester la dernière technique vue en cours : le **fine-tuning**. Pour cela, nous allons repartir du réseau que nous venons d'entraîner, mais nous allons débloquer l'entraînement des poids de l'ensemble du réseau. **ATTENTION : il est important de choisir un taux d'apprentissage très faible afin de ne pas réduire à néant les bénéfices des entraînements précédents.** L'objectif est simplement de faire évoluer les paramètres du réseau \"à la marge\", et ceci ne peut être fait qu'après la première étape de *transfer learning* précédente. Sans cela, les dernières couches ajoutées à la suite de la base convolutive, après leur initialisation aléatoire, auraient engendré de forts gradients qui auraient complètement détruit les filtres généraux de VGG.\n",
        "\n",
        "\n",
        "\n",
        "On commence par réactiver l'entraînement des paramètres de la base convolutive de VGG : "
      ]
    },
    {
      "cell_type": "code",
      "execution_count": null,
      "metadata": {
        "colab": {
          "base_uri": "https://localhost:8080/"
        },
        "id": "ZeZA3eVYEJDY",
        "outputId": "841a082c-6b6c-40b7-a67b-d8d64a04511b"
      },
      "outputs": [
        {
          "name": "stdout",
          "output_type": "stream",
          "text": [
            "Model: \"sequential_56\"\n",
            "_________________________________________________________________\n",
            " Layer (type)                Output Shape              Param #   \n",
            "=================================================================\n",
            " vgg16 (Functional)          (None, 2, 2, 512)         14714688  \n",
            "                                                                 \n",
            " flatten_30 (Flatten)        (None, 2048)              0         \n",
            "                                                                 \n",
            " dense_83 (Dense)            (None, 256)               524544    \n",
            "                                                                 \n",
            " dense_84 (Dense)            (None, 1)                 257       \n",
            "                                                                 \n",
            "=================================================================\n",
            "Total params: 15,239,489\n",
            "Trainable params: 15,239,489\n",
            "Non-trainable params: 0\n",
            "_________________________________________________________________\n"
          ]
        }
      ],
      "source": [
        "conv_base.trainable = True\n",
        "model.summary()"
      ]
    },
    {
      "cell_type": "code",
      "execution_count": null,
      "metadata": {
        "colab": {
          "background_save": true,
          "base_uri": "https://localhost:8080/"
        },
        "id": "p9SvUKcWEPVd",
        "outputId": "51a6678d-6626-473e-aad9-fda66eb13c3f"
      },
      "outputs": [
        {
          "name": "stdout",
          "output_type": "stream",
          "text": [
            "Epoch 1/10\n",
            "200/200 [==============================] - 14s 37ms/step - loss: 0.4742 - accuracy: 0.7705 - val_loss: 0.3900 - val_accuracy: 0.8190\n",
            "Epoch 2/10\n",
            "200/200 [==============================] - 8s 40ms/step - loss: 0.3829 - accuracy: 0.8205 - val_loss: 0.3515 - val_accuracy: 0.8560\n",
            "Epoch 3/10\n",
            "200/200 [==============================] - 7s 34ms/step - loss: 0.3715 - accuracy: 0.8390 - val_loss: 0.3264 - val_accuracy: 0.8580\n",
            "Epoch 4/10\n",
            "200/200 [==============================] - 7s 37ms/step - loss: 0.3350 - accuracy: 0.8495 - val_loss: 0.3466 - val_accuracy: 0.8660\n",
            "Epoch 5/10\n",
            "200/200 [==============================] - 7s 37ms/step - loss: 0.2954 - accuracy: 0.8765 - val_loss: 0.3529 - val_accuracy: 0.8690\n",
            "Epoch 6/10\n",
            "200/200 [==============================] - 8s 37ms/step - loss: 0.2663 - accuracy: 0.8825 - val_loss: 0.3316 - val_accuracy: 0.8690\n",
            "Epoch 7/10\n",
            "200/200 [==============================] - 7s 37ms/step - loss: 0.2581 - accuracy: 0.8905 - val_loss: 0.2991 - val_accuracy: 0.8830\n",
            "Epoch 8/10\n",
            "200/200 [==============================] - 7s 35ms/step - loss: 0.2508 - accuracy: 0.8925 - val_loss: 0.3026 - val_accuracy: 0.8830\n",
            "Epoch 9/10\n",
            "200/200 [==============================] - 8s 38ms/step - loss: 0.2157 - accuracy: 0.9125 - val_loss: 0.3041 - val_accuracy: 0.8810\n",
            "Epoch 10/10\n",
            "200/200 [==============================] - 7s 34ms/step - loss: 0.2053 - accuracy: 0.9080 - val_loss: 0.3023 - val_accuracy: 0.8930\n"
          ]
        }
      ],
      "source": [
        "model.compile(loss='binary_crossentropy',\n",
        "              optimizer=optimizers.Adam(learning_rate=1e-5), # Taux d'apprentissage réduit pour ne pas tout casser, ni risquer le sur-apprentissage !\n",
        "              metrics=['accuracy'])\n",
        "\n",
        "history = model.fit(train_datagen.flow(x_train, y_train, batch_size=10), \n",
        "                    validation_data=(x_val, y_val),\n",
        "                    epochs=10,\n",
        "                    )"
      ]
    },
    {
      "cell_type": "code",
      "execution_count": null,
      "metadata": {
        "id": "MCK-hm_IN0P4"
      },
      "outputs": [],
      "source": [
        "plot_training_analysis()"
      ]
    },
    {
      "cell_type": "markdown",
      "metadata": {
        "id": "8hCLsD6tpGhm"
      },
      "source": [
        "On atteint un bon résultat, proche des 90% de précision sur l'ensemble de validation, bien au-dessus des performances obtenues sans *transfer learning* ! Vous comprenez maintenant pourquoi en traitement d'image, cette technique est incontournable."
      ]
    },
    {
      "cell_type": "markdown",
      "metadata": {
        "id": "VptFMmkArNqi"
      },
      "source": [
        "**S'il vous reste du temps** :\n",
        "\n",
        "Vous pouvez maintenant reprendre le travail depuis le début en augmentant la résolution des images (par exemple $128 \\times 128$). A l'issue du *transfer learning* et du *fine-tuning*, vous devriez dépasser les 95\\% de précision sur l'ensemble de validation. \n",
        "\n"
      ]
    }
  ],
  "metadata": {
    "accelerator": "GPU",
    "colab": {
      "machine_shape": "hm",
      "toc_visible": true,
      "provenance": []
    },
    "kernelspec": {
      "display_name": "Python 3",
      "language": "python",
      "name": "python3"
    },
    "language_info": {
      "codemirror_mode": {
        "name": "ipython",
        "version": 3
      },
      "file_extension": ".py",
      "mimetype": "text/x-python",
      "name": "python",
      "nbconvert_exporter": "python",
      "pygments_lexer": "ipython3",
      "version": "3.8.5"
    }
  },
  "nbformat": 4,
  "nbformat_minor": 0
}